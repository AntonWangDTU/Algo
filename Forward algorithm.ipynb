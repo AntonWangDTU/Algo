{
 "cells": [
  {
   "cell_type": "code",
   "execution_count": null,
   "id": "5a11e664",
   "metadata": {},
   "outputs": [],
   "source": [
    "Trans_FL = 0.05\n",
    "Trans_LF = 0.1\n",
    "Trans_FF = 0.9\n",
    "Trans_LL = 0.95\n"
   ]
  },
  {
   "cell_type": "markdown",
   "id": "c714dbcd",
   "metadata": {},
   "source": [
    "### 5 |6|"
   ]
  },
  {
   "cell_type": "code",
   "execution_count": 4,
   "id": "2cb361f8",
   "metadata": {},
   "outputs": [
    {
     "name": "stdout",
     "output_type": "stream",
     "text": [
      "0.014002950000000002 0.024575000000000003\n"
     ]
    }
   ],
   "source": [
    "#L\n",
    "F = 0.167 * (0.083 * 0.95 + 0.05*0.1)\n",
    "L = 0.5*(0.05*0.9+0.083*0.05)\n",
    "print(F,L)"
   ]
  },
  {
   "cell_type": "markdown",
   "id": "4e849cc7",
   "metadata": {},
   "source": [
    "### 56 |6|"
   ]
  },
  {
   "cell_type": "code",
   "execution_count": null,
   "id": "b70432fa",
   "metadata": {},
   "outputs": [],
   "source": [
    "\n",
    "\n"
   ]
  }
 ],
 "metadata": {
  "kernelspec": {
   "display_name": "Python 3 (ipykernel)",
   "language": "python",
   "name": "python3"
  },
  "language_info": {
   "codemirror_mode": {
    "name": "ipython",
    "version": 3
   },
   "file_extension": ".py",
   "mimetype": "text/x-python",
   "name": "python",
   "nbconvert_exporter": "python",
   "pygments_lexer": "ipython3",
   "version": "3.9.13"
  }
 },
 "nbformat": 4,
 "nbformat_minor": 5
}
