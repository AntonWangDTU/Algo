{
 "cells": [
  {
   "cell_type": "code",
   "execution_count": 6,
   "id": "ffc1b6ac",
   "metadata": {},
   "outputs": [
    {
     "name": "stdout",
     "output_type": "stream",
     "text": [
      "first iteration\n",
      "o: 0.19, w1: 0.19, w2: 0.1\n"
     ]
    }
   ],
   "source": [
    "import numpy as np\n",
    "I_1 = 1\n",
    "I_2 = 0\n",
    "w1 = 0.1\n",
    "w2 = 0.1\n",
    "\n",
    "#1\n",
    "w1 = -0.1*(0.1-1)*1 + w2\n",
    "w2 = 0 + w2 \n",
    "o = I_1 * w1 + I_2 * w2\n",
    "print(\"first iteration\")\n",
    "print(f\"o: {o}, w1: {w1}, w2: {w2}\")"
   ]
  },
  {
   "cell_type": "code",
   "execution_count": 8,
   "id": "aec805fe",
   "metadata": {},
   "outputs": [
    {
     "name": "stdout",
     "output_type": "stream",
     "text": [
      "second iteration\n",
      "o: 0.271, w1: 0.271, w2: 0.1\n"
     ]
    }
   ],
   "source": [
    "import numpy as np\n",
    "I_1 = 1\n",
    "I_2 = 0\n",
    "\n",
    "#2\n",
    "w1 = -0.1*(o-1)*1 + w1\n",
    "w2 = 0 + w2\n",
    "o = I_1 * w1 + I_2 * w2\n",
    "print(\"second iteration\")\n",
    "print(f\"o: {o}, w1: {w1}, w2: {w2}\")"
   ]
  }
 ],
 "metadata": {
  "kernelspec": {
   "display_name": "Python 3 (ipykernel)",
   "language": "python",
   "name": "python3"
  },
  "language_info": {
   "codemirror_mode": {
    "name": "ipython",
    "version": 3
   },
   "file_extension": ".py",
   "mimetype": "text/x-python",
   "name": "python",
   "nbconvert_exporter": "python",
   "pygments_lexer": "ipython3",
   "version": "3.9.13"
  }
 },
 "nbformat": 4,
 "nbformat_minor": 5
}
