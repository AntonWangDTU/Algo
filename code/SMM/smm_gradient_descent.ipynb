{
 "cells": [
  {
   "cell_type": "markdown",
   "metadata": {
    "colab_type": "text",
    "id": "7kEGGMRKQBdl"
   },
   "source": [
    "# SMM with Gradient Descent"
   ]
  },
  {
   "cell_type": "markdown",
   "metadata": {
    "colab_type": "text",
    "id": "RDGR-iaV3vf1"
   },
   "source": [
    "## Python Imports"
   ]
  },
  {
   "cell_type": "code",
   "execution_count": 106,
   "metadata": {
    "colab": {},
    "colab_type": "code",
    "id": "IlFGxFZ997P4"
   },
   "outputs": [],
   "source": [
    "import numpy as np\n",
    "import random\n",
    "import copy\n",
    "from scipy.stats import pearsonr\n",
    "import matplotlib.pyplot as plt\n",
    "\n",
    "%matplotlib inline"
   ]
  },
  {
   "cell_type": "markdown",
   "metadata": {
    "colab_type": "text",
    "id": "L4zgNC-G3xwY"
   },
   "source": [
    "## Data Imports"
   ]
  },
  {
   "cell_type": "markdown",
   "metadata": {},
   "source": [
    "## DEFINE THE PATH TO YOUR COURSE DIRECTORY"
   ]
  },
  {
   "cell_type": "code",
   "execution_count": 107,
   "metadata": {},
   "outputs": [],
   "source": [
    "data_dir = \"../../data/\""
   ]
  },
  {
   "cell_type": "markdown",
   "metadata": {
    "colab_type": "text",
    "id": "u01OKdaOzoZE"
   },
   "source": [
    "### Training Data"
   ]
  },
  {
   "cell_type": "code",
   "execution_count": 108,
   "metadata": {
    "colab": {},
    "colab_type": "code",
    "id": "U8Pb2U3lZ7Kz"
   },
   "outputs": [],
   "source": [
    "training_file = data_dir + \"SMM/A0201_training\"\n",
    "#training_file = data_dir + \"SMM/A2403_training\"\n",
    "\n",
    "training = np.loadtxt(training_file, dtype=str)"
   ]
  },
  {
   "cell_type": "markdown",
   "metadata": {
    "colab_type": "text",
    "id": "H3u9HV5hztkh"
   },
   "source": [
    "### Evaluation Data"
   ]
  },
  {
   "cell_type": "code",
   "execution_count": 109,
   "metadata": {
    "colab": {},
    "colab_type": "code",
    "id": "dyp8DTSLzu4V"
   },
   "outputs": [],
   "source": [
    "evaluation_file = data_dir + \"SMM/A0201_evaluation\"\n",
    "#evaluation_file = data_dir + \"SMM/A2403_evaluation\"\n",
    "evaluation = np.loadtxt(evaluation_file, dtype=str)"
   ]
  },
  {
   "cell_type": "markdown",
   "metadata": {
    "colab_type": "text",
    "id": "Uzw3jsGnzw0e"
   },
   "source": [
    "### Alphabet"
   ]
  },
  {
   "cell_type": "code",
   "execution_count": 110,
   "metadata": {
    "colab": {},
    "colab_type": "code",
    "id": "DYcVU4VLzyVe"
   },
   "outputs": [],
   "source": [
    "alphabet_file = data_dir + \"Matrices/alphabet\"\n",
    "alphabet = np.loadtxt(alphabet_file, dtype=str)"
   ]
  },
  {
   "cell_type": "markdown",
   "metadata": {
    "colab_type": "text",
    "id": "OWEAPaggz0dJ"
   },
   "source": [
    "### Sparse Encoding Scheme"
   ]
  },
  {
   "cell_type": "code",
   "execution_count": 111,
   "metadata": {
    "colab": {},
    "colab_type": "code",
    "id": "ecXsAxeMdYOX"
   },
   "outputs": [],
   "source": [
    "sparse_file = data_dir + \"Matrices/sparse\"\n",
    "_sparse = np.loadtxt(sparse_file, dtype=float)\n",
    "sparse = {}\n",
    "\n",
    "for i, letter_1 in enumerate(alphabet):\n",
    "    \n",
    "    sparse[letter_1] = {}\n",
    "\n",
    "    for j, letter_2 in enumerate(alphabet):\n",
    "        \n",
    "        sparse[letter_1][letter_2] = _sparse[i, j]\n"
   ]
  },
  {
   "cell_type": "markdown",
   "metadata": {
    "colab_type": "text",
    "id": "w2cQhiUW4QOL"
   },
   "source": [
    "## Peptide Encoding"
   ]
  },
  {
   "cell_type": "code",
   "execution_count": 112,
   "metadata": {
    "colab": {},
    "colab_type": "code",
    "id": "8UhmQwUfqNzK"
   },
   "outputs": [],
   "source": [
    "def encode(peptides, encoding_scheme, alphabet):\n",
    "    \n",
    "    encoded_peptides = []\n",
    "\n",
    "    for peptide in peptides:\n",
    "\n",
    "        encoded_peptide = []\n",
    "\n",
    "        for peptide_letter in peptide:\n",
    "\n",
    "            for alphabet_letter in alphabet:\n",
    "\n",
    "                encoded_peptide.append(encoding_scheme[peptide_letter][alphabet_letter])\n",
    "\n",
    "        encoded_peptides.append(encoded_peptide)\n",
    "        \n",
    "    return np.array(encoded_peptides)"
   ]
  },
  {
   "cell_type": "markdown",
   "metadata": {
    "colab_type": "text",
    "id": "ww-p6gy81mqk"
   },
   "source": [
    "## Error Function"
   ]
  },
  {
   "cell_type": "code",
   "execution_count": 113,
   "metadata": {
    "colab": {},
    "colab_type": "code",
    "id": "Hv2nx4Yq1lBf"
   },
   "outputs": [],
   "source": [
    "def cumulative_error(peptides, y, lamb, weights):\n",
    "\n",
    "    error = 0\n",
    "    \n",
    "    for i in range(0, len(peptides)):\n",
    "        \n",
    "        # get peptide\n",
    "        peptide = peptides[i]\n",
    "\n",
    "        # get target prediction value\n",
    "        y_target = y[i]\n",
    "        \n",
    "        # get prediction\n",
    "        y_pred = np.dot(peptide, weights)\n",
    "            \n",
    "        # calculate error\n",
    "        error += 1.0/2 * (y_pred - y_target)**2\n",
    "        \n",
    "    gerror = error + lamb*np.dot(weights, weights)\n",
    "    error /= len(peptides)\n",
    "        \n",
    "    return gerror, error"
   ]
  },
  {
   "cell_type": "markdown",
   "metadata": {},
   "source": [
    "## Predict value for a peptide list"
   ]
  },
  {
   "cell_type": "code",
   "execution_count": 114,
   "metadata": {},
   "outputs": [],
   "source": [
    "def predict(peptides, weights):\n",
    "\n",
    "    pred = []\n",
    "    \n",
    "    for i in range(0, len(peptides)):\n",
    "        \n",
    "        # get peptide\n",
    "        peptide = peptides[i]\n",
    "        \n",
    "        # get prediction\n",
    "        y_pred = np.dot(peptide, weights)\n",
    "        \n",
    "        pred.append(y_pred)\n",
    "        \n",
    "    return pred"
   ]
  },
  {
   "cell_type": "markdown",
   "metadata": {},
   "source": [
    "## Calculate MSE between two vectors"
   ]
  },
  {
   "cell_type": "code",
   "execution_count": 115,
   "metadata": {},
   "outputs": [],
   "source": [
    "def cal_mse(vec1, vec2):\n",
    "    \n",
    "    mse = 0\n",
    "    \n",
    "    for i in range(0, len(vec1)):\n",
    "        mse += (vec1[i] - vec2[i])**2\n",
    "        \n",
    "    mse /= len(vec1)\n",
    "    \n",
    "    return( mse)"
   ]
  },
  {
   "cell_type": "markdown",
   "metadata": {
    "colab_type": "text",
    "id": "kfvPqSjL2g7u"
   },
   "source": [
    "## Gradient Descent"
   ]
  },
  {
   "cell_type": "code",
   "execution_count": 116,
   "metadata": {
    "colab": {},
    "colab_type": "code",
    "id": "HMXHiHmE2gh9"
   },
   "outputs": [],
   "source": [
    "def gradient_descent(y_pred, y_target, peptide, weights, lamb_N, epsilon):\n",
    "    \n",
    "    # do is dE/dO\n",
    "    do = y_pred -y_target\n",
    "        \n",
    "    for i in range(0, len(weights)):\n",
    "        \n",
    "        de_dw_i = do*peptide[i] + 2*lamb_N*weights[i]\n",
    "\n",
    "        weights[i] -= epsilon*de_dw_i"
   ]
  },
  {
   "cell_type": "markdown",
   "metadata": {
    "colab_type": "text",
    "id": "AHXm8HAm4S_u"
   },
   "source": [
    "## Main Loop\n",
    "\n"
   ]
  },
  {
   "cell_type": "code",
   "execution_count": 117,
   "metadata": {
    "colab": {
     "base_uri": "https://localhost:8080/",
     "height": 1717
    },
    "colab_type": "code",
    "id": "EcHQYE2sja-y",
    "outputId": "3939a58c-88ac-4ae1-b680-edc4c2c913a1"
   },
   "outputs": [
    {
     "name": "stdout",
     "output_type": "stream",
     "text": [
      "Epoch:  0 Gerr: 54.63812852899092 0.7280223603760514 0.04420027370692696 0.7058704869944641 0.046967233346254175\n",
      "Epoch:  1 Gerr: 42.41468708534534 0.797331834310864 0.0343102889888175 0.7656003282755469 0.03879286398076267\n",
      "Epoch:  2 Gerr: 39.55574047583643 0.8117906640418219 0.031996740490736524 0.780641939933255 0.03677742345041231\n",
      "Epoch:  3 Gerr: 38.12966624661738 0.8193613978301578 0.030842943220321262 0.7856536106339468 0.03606486365512235\n",
      "Epoch:  4 Gerr: 37.39028116103907 0.8237450133973222 0.03024452057868551 0.7878296972629102 0.03606204154217695\n",
      "Epoch:  5 Gerr: 37.246641443846286 0.8241583403992699 0.030127921618707296 0.7825657881724914 0.03685897095747004\n",
      "Epoch:  6 Gerr: 37.07984826657819 0.8251600192776815 0.029993091143670755 0.789354280944832 0.035620647973109716\n",
      "Epoch:  7 Gerr: 36.7156726694342 0.8269775606478864 0.029698384206181764 0.7882785252531403 0.03587708900238847\n",
      "Epoch:  8 Gerr: 36.781277100750124 0.8266828880386827 0.0297515238129332 0.7869032641827947 0.03616728615454575\n",
      "Epoch:  9 Gerr: 36.70176787192575 0.8268496610987063 0.0296870988313298 0.7894453903045888 0.035546441890531556\n",
      "Epoch:  10 Gerr: 36.57026712661698 0.8275921933792755 0.029580601810703662 0.790716104290708 0.0354895073297096\n",
      "Epoch:  11 Gerr: 36.803516272715655 0.8263839036384842 0.029769245854668096 0.7870610692752081 0.036127173699142826\n",
      "Epoch:  12 Gerr: 36.74846509022478 0.8269380735224736 0.029724617237952698 0.788369697216728 0.03607321239957848\n",
      "Epoch:  13 Gerr: 36.622234808763885 0.8276011878026576 0.02962269265018758 0.7886738678777371 0.03586118997799726\n",
      "Epoch:  14 Gerr: 36.43664807359716 0.8281945303301683 0.029472534788902195 0.7874424635629935 0.03590468466983253\n",
      "Epoch:  15 Gerr: 36.862851457963984 0.8262474742414967 0.02981735413594364 0.7864460182178871 0.03608739130265166\n",
      "Epoch:  16 Gerr: 36.590050149275115 0.8274868100227711 0.0295965095215977 0.7846722157649993 0.0365444859339877\n",
      "Epoch:  17 Gerr: 36.47590147625116 0.8283309002382044 0.02950403464921923 0.7873390342422866 0.03608935261274886\n",
      "Epoch:  18 Gerr: 36.50085279600039 0.828024202098558 0.029524399114375224 0.7860588320851212 0.03610448488837524\n",
      "Epoch:  19 Gerr: 36.51124701359509 0.8279788971023248 0.029532609817317864 0.7870646042484286 0.03617476179297165\n",
      "Epoch:  20 Gerr: 36.39571867882728 0.8284002291960255 0.02943910393480257 0.7903003164822554 0.035528595103067405\n",
      "Epoch:  21 Gerr: 36.75186446271172 0.8282145540516274 0.029726925416292946 0.7898543442531273 0.03614531556333403\n",
      "Epoch:  22 Gerr: 36.45725742607236 0.8283754657687824 0.029488618372102534 0.7889157263595883 0.03589743226609173\n",
      "Epoch:  23 Gerr: 36.84520238749431 0.8265330599179544 0.029802702637229075 0.7875323007049956 0.03607026674115183\n",
      "Epoch:  24 Gerr: 36.68013810295722 0.8271663505266635 0.029669179155169947 0.7883599835846483 0.03581603062614293\n",
      "Epoch:  25 Gerr: 36.639916622714075 0.8276996157851688 0.029636349577103017 0.7890410724205913 0.03596245201637279\n",
      "Epoch:  26 Gerr: 36.560991141883314 0.8275387557320648 0.02957264774711463 0.7873407133958503 0.035970248073355963\n",
      "Epoch:  27 Gerr: 36.38358152294601 0.8286681698910323 0.02942895850864931 0.7875261141379402 0.036181882658909405\n",
      "Epoch:  28 Gerr: 36.3608430820164 0.8288449813243058 0.029410570885591975 0.7908559377112337 0.03575834708181132\n",
      "Epoch:  29 Gerr: 36.39198102047693 0.8289074429484761 0.029436013995836473 0.7892429886219787 0.03575058983837321\n",
      "Epoch:  30 Gerr: 36.4520326509404 0.828225838099164 0.029484352460306867 0.7849189849387369 0.03657947359557596\n",
      "Epoch:  31 Gerr: 36.45160138709309 0.8281790809686298 0.02948419084169243 0.7869490184364314 0.0360690817371233\n",
      "Epoch:  32 Gerr: 36.48440358937806 0.8282007235775195 0.029510776882805328 0.791508403255694 0.035295554615278696\n",
      "Epoch:  33 Gerr: 36.5855902535795 0.8274569244350588 0.02959260725083901 0.7824589973081982 0.03662124481681463\n",
      "Epoch:  34 Gerr: 36.33848284166898 0.8287819456725433 0.02939265875756915 0.7909872939476668 0.03529040904496945\n",
      "Epoch:  35 Gerr: 36.43350215556655 0.8283811010337768 0.029469501112490373 0.7865824194681301 0.0360148481385849\n",
      "Epoch:  36 Gerr: 36.41021300981384 0.8286279393189409 0.029450705330080477 0.7874013111231177 0.03602570121395378\n",
      "Epoch:  37 Gerr: 36.50757423275103 0.8278762454326 0.029529540258228053 0.7857832889009255 0.036018818553471436\n",
      "Epoch:  38 Gerr: 36.344051053246474 0.8287000994237688 0.029397189441607834 0.7879471097408712 0.035760341176963445\n",
      "Epoch:  39 Gerr: 36.64388084268734 0.8277917182041058 0.0296395568382711 0.7863922145152771 0.03631673385034549\n",
      "Epoch:  40 Gerr: 36.73758918308775 0.8277737101277127 0.02971554402216793 0.7904537863636611 0.0357377328254402\n",
      "Epoch:  41 Gerr: 36.65419598073314 0.8277059035526039 0.029647998144574195 0.7902022389277256 0.03547355216207253\n",
      "Epoch:  42 Gerr: 36.86196995298322 0.8272196236601128 0.029815950578049075 0.7954887143294719 0.03497480567872745\n",
      "Epoch:  43 Gerr: 36.47895867040796 0.8279599749919009 0.029506218766705346 0.79030121780102 0.035401415642818686\n",
      "Epoch:  44 Gerr: 36.55525783320666 0.8279223383316172 0.029567930088632805 0.7912796190358783 0.03550473425672678\n",
      "Epoch:  45 Gerr: 36.56494253718442 0.8276281064543657 0.029575816472671233 0.788527708958458 0.03587200952125555\n",
      "Epoch:  46 Gerr: 36.5097034082138 0.8279924013089626 0.029531120944765222 0.784174547875635 0.036543375253707565\n",
      "Epoch:  47 Gerr: 36.53200439960069 0.8278160575636659 0.029549272368554563 0.7838037521291198 0.036414757706667904\n",
      "Epoch:  48 Gerr: 36.56073890288776 0.8276393688926916 0.029572341357285595 0.7882291032781392 0.03588205461979898\n",
      "Epoch:  49 Gerr: 36.50626653410463 0.8280220314724689 0.029528347992822352 0.7875208369371317 0.03606511799339299\n",
      "Epoch:  50 Gerr: 36.51645887007286 0.828236330827739 0.029536615375606028 0.7859720227289942 0.03630296244071637\n",
      "Epoch:  51 Gerr: 36.63884591708447 0.827739377789663 0.029635800606180526 0.7896005454317867 0.03576245143270037\n",
      "Epoch:  52 Gerr: 36.623436801992355 0.8272674972487595 0.0296232227728548 0.788306567945753 0.03590861213296501\n",
      "Epoch:  53 Gerr: 36.46705700679062 0.8282017265239165 0.02949674694492601 0.7894334463736702 0.03576411137760603\n",
      "Epoch:  54 Gerr: 36.61254341025493 0.8273550311359495 0.029614470164686893 0.7884356280123539 0.03574797128636113\n",
      "Epoch:  55 Gerr: 36.46611742626337 0.8282021110074614 0.02949583025155226 0.7885870775340524 0.03591819425414116\n",
      "Epoch:  56 Gerr: 36.51767292919665 0.8280908600995087 0.02953754696226483 0.7939033348801634 0.035036323797448574\n",
      "Epoch:  57 Gerr: 36.578944330328916 0.8283820093140585 0.029587047053919263 0.7922073865924413 0.0353686221716862\n",
      "Epoch:  58 Gerr: 36.38654139191491 0.8285074045256957 0.02943147958663241 0.7910333853529554 0.03546911597752514\n",
      "Epoch:  59 Gerr: 36.60694960681407 0.8275739011975635 0.02960965968571631 0.7891955908512757 0.035922897776919455\n",
      "Epoch:  60 Gerr: 36.41268813921852 0.8283733843429909 0.029452548674797244 0.7907864262639173 0.03555797557849697\n",
      "Epoch:  61 Gerr: 36.56057498252798 0.8281077186354133 0.029572378841974313 0.787287711593475 0.03599601294002548\n",
      "Epoch:  62 Gerr: 36.35498572505563 0.8286184904864637 0.02940602493077827 0.7883856178948605 0.03578689224449638\n",
      "Epoch:  63 Gerr: 36.388048661102324 0.8287234287184558 0.029432606750902892 0.7922361412848037 0.03542560365668679\n",
      "Epoch:  64 Gerr: 36.58775340039832 0.8275477728815864 0.029594249433536206 0.7909570831763673 0.03556162575861866\n",
      "Epoch:  65 Gerr: 36.57671670479051 0.8285750426310522 0.029585464687968705 0.7901953492878971 0.035748139452303165\n",
      "Epoch:  66 Gerr: 36.553235516566026 0.827838600874934 0.029566368723472576 0.7903751670712703 0.035503456272672825\n",
      "Epoch:  67 Gerr: 36.393326763940834 0.8284290774659959 0.029437082392450655 0.7893745661958667 0.03561048849738098\n",
      "Epoch:  68 Gerr: 36.62567488868645 0.8280752786890103 0.029624900456705745 0.7896549558756693 0.03591331613800392\n",
      "Epoch:  69 Gerr: 36.773611442626006 0.8276133061705707 0.029744907501027297 0.7846066760972912 0.03630057269840922\n",
      "Epoch:  70 Gerr: 36.56904055232218 0.8276683125023941 0.029579142341383566 0.7875637909202727 0.03597653172683968\n",
      "Epoch:  71 Gerr: 36.68891204184535 0.8269638479978634 0.02967605277005043 0.7864579289737261 0.03609845692397833\n",
      "Epoch:  72 Gerr: 36.52536265276393 0.8277442574138987 0.02954381422425095 0.7865294637692153 0.03598267267947982\n"
     ]
    },
    {
     "name": "stdout",
     "output_type": "stream",
     "text": [
      "Epoch:  73 Gerr: 36.555928620733326 0.8276789383590509 0.029568514328410903 0.7875565327398366 0.035943593280603085\n",
      "Epoch:  74 Gerr: 36.62044722083883 0.8273931793238087 0.02962073110196297 0.7905553279305046 0.03562544439954992\n",
      "Epoch:  75 Gerr: 36.721424295934476 0.8268332213740882 0.02970243958826371 0.7878428536275008 0.03595488347605546\n",
      "Epoch:  76 Gerr: 36.478495956613216 0.8285227657382493 0.029505863567729346 0.7858285639449408 0.0362128652887672\n",
      "Epoch:  77 Gerr: 36.40955203373917 0.828429001861782 0.02945012072427939 0.7875328535368156 0.03594730442198751\n",
      "Epoch:  78 Gerr: 36.41163495096704 0.8284944587318441 0.02945178694104965 0.7938912442045184 0.03508531130917358\n",
      "Epoch:  79 Gerr: 36.555999025940515 0.8277516257193193 0.029568471391104578 0.7885302344937283 0.03596000358288959\n",
      "Epoch:  80 Gerr: 36.73841631891263 0.8270765769459679 0.029716090928279006 0.7868131278257243 0.03626501532961708\n",
      "Epoch:  81 Gerr: 36.43751307778868 0.8283734497929468 0.029472442611401434 0.7878122122254039 0.03613360512900683\n",
      "Epoch:  82 Gerr: 36.67749821341294 0.827890148645715 0.02966671708330336 0.7918331761432471 0.03565261835930908\n",
      "Epoch:  83 Gerr: 36.456140480777 0.8282727974135494 0.029487633832429066 0.7905633559036631 0.035727966764262827\n",
      "Epoch:  84 Gerr: 36.35771560796649 0.8288892134217173 0.02940785021212495 0.7906511571290242 0.03565752388623371\n",
      "Epoch:  85 Gerr: 36.40593908230744 0.8284592189797237 0.029446889829033495 0.7859762321719249 0.03635806939972425\n",
      "Epoch:  86 Gerr: 36.612031138850355 0.8275544350280303 0.02961338845858426 0.7848999733439795 0.036728686478065896\n",
      "Epoch:  87 Gerr: 36.79347688993771 0.8280904335557505 0.02976033973635277 0.7885446278001345 0.03621138196988112\n",
      "Epoch:  88 Gerr: 36.78472847746624 0.8278748781600485 0.029753190043907824 0.7894000269318361 0.03605509630897703\n",
      "Epoch:  89 Gerr: 36.30391806708649 0.8288920440756917 0.029364546247857067 0.7905385776967639 0.035611982494872206\n",
      "Epoch:  90 Gerr: 36.429904681853635 0.8284079600698967 0.029466444425825963 0.7918221954586143 0.035365254075984426\n",
      "Epoch:  91 Gerr: 36.33262648497493 0.8288251889639547 0.02938764554195291 0.7929637556828609 0.0352298251252869\n",
      "Epoch:  92 Gerr: 36.81432599372028 0.8279405748232271 0.029777525247660818 0.7884313213336941 0.036130465496383435\n",
      "Epoch:  93 Gerr: 36.527905928592965 0.8281372828590923 0.029545654036760332 0.7901486751949547 0.03569327986687259\n",
      "Epoch:  94 Gerr: 36.410357924044 0.8287813371167744 0.029450559334662837 0.7919578468678303 0.03536918748408701\n",
      "Epoch:  95 Gerr: 36.89659897746719 0.8278296036539426 0.02984425999718845 0.7871789386364167 0.03623802431156635\n",
      "Epoch:  96 Gerr: 36.69694937579391 0.8273529677065138 0.029682627450173475 0.7855855307390883 0.036323454993756533\n",
      "Epoch:  97 Gerr: 36.52419623165666 0.8282096861136965 0.029542800455041294 0.7892932702627469 0.03582796503055911\n",
      "Epoch:  98 Gerr: 36.569910244082415 0.8276571510884209 0.029579740079531867 0.7882898491111306 0.035823808599015176\n",
      "Epoch:  99 Gerr: 36.506809969914 0.8279619760957663 0.029528594836128547 0.7875671156771694 0.03613033113609699\n"
     ]
    }
   ],
   "source": [
    "# Random seed \n",
    "np.random.seed( 1 )\n",
    "\n",
    "# peptides\n",
    "peptides = training[:, 0]\n",
    "peptides = encode(peptides, sparse, alphabet)\n",
    "N = len(peptides)\n",
    "\n",
    "# target values\n",
    "y = np.array(training[:, 1], dtype=float)\n",
    "\n",
    "#evaluation peptides\n",
    "evaluation_peptides = evaluation[:, 0]\n",
    "evaluation_peptides = encode(evaluation_peptides, sparse, alphabet)\n",
    "\n",
    "#evaluation targets\n",
    "evaluation_targets = np.array(evaluation[:, 1], dtype=float)\n",
    "\n",
    "# weights\n",
    "input_dim  = len(peptides[0])\n",
    "output_dim = 1\n",
    "w_bound = 0.1\n",
    "weights = np.random.uniform(-w_bound, w_bound, size=input_dim)\n",
    "\n",
    "# training epochs\n",
    "epochs = 100\n",
    "\n",
    "# regularization lambda\n",
    "#lamb = 1\n",
    "#lamb = 10\n",
    "lamb = 0.01\n",
    "\n",
    "# regularization lambda per target value\n",
    "lamb_N = lamb/N\n",
    "\n",
    "# learning rate\n",
    "epsilon = 0.005\n",
    "\n",
    "# error  plot\n",
    "gerror_plot = []\n",
    "mse_plot = []\n",
    "train_mse_plot = []\n",
    "eval_mse_plot = []\n",
    "train_pcc_plot = []\n",
    "eval_pcc_plot = []\n",
    "\n",
    "# for each training epoch\n",
    "for e in range(0, epochs):\n",
    "\n",
    "    # for each peptide\n",
    "    for i in range(0, N):\n",
    "\n",
    "        # random index\n",
    "        ix = np.random.randint(0, N)\n",
    "        \n",
    "        # get peptide       \n",
    "        peptide = peptides[ix]\n",
    "\n",
    "        # get target prediction value\n",
    "        y_target = y[ix]\n",
    "       \n",
    "        # get initial prediction\n",
    "        y_pred = np.dot(peptide, weights)\n",
    "\n",
    "        # gradient descent \n",
    "        gradient_descent(y_pred, y_target, peptide, weights, lamb_N, epsilon)\n",
    "\n",
    "    # compute error\n",
    "    gerr, mse = cumulative_error(peptides, y, lamb, weights) \n",
    "    gerror_plot.append(gerr)\n",
    "    mse_plot.append(mse)\n",
    "    \n",
    "    # predict on training data\n",
    "    train_pred = predict( peptides, weights )\n",
    "    train_mse = cal_mse( y, train_pred )\n",
    "    train_mse_plot.append(train_mse)\n",
    "    train_pcc = pearsonr( y, train_pred )\n",
    "    train_pcc_plot.append( train_pcc[0] )\n",
    "        \n",
    "    # predict on evaluation data\n",
    "    eval_pred = predict(evaluation_peptides, weights )\n",
    "    eval_mse = cal_mse(evaluation_targets, eval_pred )\n",
    "    eval_mse_plot.append(eval_mse)\n",
    "    eval_pcc = pearsonr(evaluation_targets, eval_pred)\n",
    "    eval_pcc_plot.append( eval_pcc[0] )\n",
    "    \n",
    "    print (\"Epoch: \", e, \"Gerr:\", gerr, train_pcc[0], train_mse, eval_pcc[0], eval_mse)"
   ]
  },
  {
   "cell_type": "markdown",
   "metadata": {
    "colab_type": "text",
    "id": "gN8BPXSm0HVy"
   },
   "source": [
    "## Error Plot"
   ]
  },
  {
   "cell_type": "code",
   "execution_count": 118,
   "metadata": {
    "colab": {
     "base_uri": "https://localhost:8080/",
     "height": 286
    },
    "colab_type": "code",
    "id": "Nca2qMKSOjGP",
    "outputId": "31d1c685-a0c2-4939-e34c-1961b744d686"
   },
   "outputs": [
    {
     "data": {
      "image/png": "[encoded data removed]",
      "text/plain": [
       "<Figure size 800x800 with 4 Axes>"
      ]
     },
     "metadata": {},
     "output_type": "display_data"
    }
   ],
   "source": [
    "fig = plt.figure(figsize=(10, 10), dpi= 80)\n",
    "\n",
    "x = np.arange(0, len(gerror_plot))\n",
    "\n",
    "plt.subplot(2, 2, 1)\n",
    "plt.plot(x, gerror_plot)\n",
    "plt.ylabel(\"Global Error\", fontsize=10);\n",
    "plt.xlabel(\"Iterations\", fontsize=10);\n",
    "\n",
    "plt.subplot(2, 2, 2)\n",
    "plt.plot(x, mse_plot)\n",
    "plt.ylabel(\"MSE\", fontsize=10);\n",
    "plt.xlabel(\"Iterations\", fontsize=10);\n",
    "\n",
    "\n",
    "x = np.arange(0, len(train_mse_plot))\n",
    "\n",
    "plt.subplot(2, 2, 3)\n",
    "plt.plot(x, train_mse_plot, label=\"Training Set\")\n",
    "plt.plot(x, eval_mse_plot, label=\"Evaluation Set\")\n",
    "plt.ylabel(\"Mean Squared Error\", fontsize=10);\n",
    "plt.xlabel(\"Iterations\", fontsize=10);\n",
    "plt.legend(loc='upper right');\n",
    "\n",
    "\n",
    "plt.subplot(2, 2, 4)\n",
    "plt.plot(x, train_pcc_plot, label=\"Training Set\")\n",
    "plt.plot(x, eval_pcc_plot, label=\"Evaluation Set\")\n",
    "plt.ylabel(\"Pearson Correlation\", fontsize=10);\n",
    "plt.xlabel(\"Iterations\", fontsize=10);\n",
    "plt.legend(loc='upper left');"
   ]
  },
  {
   "cell_type": "markdown",
   "metadata": {
    "colab_type": "text",
    "id": "Rs25DaDT0Wub"
   },
   "source": [
    "## Get PSSM Matrix"
   ]
  },
  {
   "cell_type": "markdown",
   "metadata": {
    "colab_type": "text",
    "id": "6UDmJBpo0Y10"
   },
   "source": [
    "### Vector to Matrix"
   ]
  },
  {
   "cell_type": "code",
   "execution_count": 119,
   "metadata": {
    "colab": {},
    "colab_type": "code",
    "id": "Him7vVoh0arv"
   },
   "outputs": [],
   "source": [
    "# our matrices are vectors of dictionaries\n",
    "def vector_to_matrix(vector, alphabet):\n",
    "    \n",
    "    rows = int(len(vector)/len(alphabet))\n",
    "    \n",
    "    matrix = [0] * rows\n",
    "    \n",
    "    offset = 0\n",
    "    \n",
    "    for i in range(0, rows):\n",
    "        \n",
    "        matrix[i] = {}\n",
    "        \n",
    "        for j in range(0, 20):\n",
    "            \n",
    "            matrix[i][alphabet[j]] = vector[j+offset] \n",
    "        \n",
    "        offset += len(alphabet)\n",
    "\n",
    "    return matrix"
   ]
  },
  {
   "cell_type": "markdown",
   "metadata": {
    "colab_type": "text",
    "id": "nvrlgKrS0awJ"
   },
   "source": [
    "### Matrix to Psi-Blast"
   ]
  },
  {
   "cell_type": "code",
   "execution_count": 120,
   "metadata": {
    "colab": {},
    "colab_type": "code",
    "id": "e63tgdna0cs3"
   },
   "outputs": [],
   "source": [
    "def to_psi_blast(matrix):\n",
    "\n",
    "    # print to user\n",
    "    \n",
    "    header = [\"\", \"A\", \"R\", \"N\", \"D\", \"C\", \"Q\", \"E\", \"G\", \"H\", \"I\", \"L\", \"K\", \"M\", \"F\", \"P\", \"S\", \"T\", \"W\", \"Y\", \"V\"]\n",
    "\n",
    "    print('{:>4} {:>8} {:>8} {:>8} {:>8} {:>8} {:>8} {:>8} {:>8} {:>8} {:>8} {:>8} {:>8} {:>8} {:>8} {:>8} {:>8} {:>8} {:>8} {:>8} {:>8}'.format(*header)) \n",
    "\n",
    "    letter_order = [\"A\", \"R\", \"N\", \"D\", \"C\", \"Q\", \"E\", \"G\", \"H\", \"I\", \"L\", \"K\", \"M\", \"F\", \"P\", \"S\", \"T\", \"W\", \"Y\", \"V\"]\n",
    "\n",
    "    for i, row in enumerate(matrix):\n",
    "\n",
    "        scores = []\n",
    "\n",
    "        scores.append(str(i+1) + \" A\")\n",
    "\n",
    "        for letter in letter_order:\n",
    "\n",
    "            score = row[letter]\n",
    "\n",
    "            scores.append(round(score, 4))\n",
    "\n",
    "        print('{:>4} {:>8} {:>8} {:>8} {:>8} {:>8} {:>8} {:>8} {:>8} {:>8} {:>8} {:>8} {:>8} {:>8} {:>8} {:>8} {:>8} {:>8} {:>8} {:>8} {:>8}'.format(*scores)) "
   ]
  },
  {
   "cell_type": "markdown",
   "metadata": {
    "colab_type": "text",
    "id": "hlxa9_Ik0cxc"
   },
   "source": [
    "### Print"
   ]
  },
  {
   "cell_type": "code",
   "execution_count": 121,
   "metadata": {
    "colab": {
     "base_uri": "https://localhost:8080/",
     "height": 187
    },
    "colab_type": "code",
    "id": "72AM0xu40iUV",
    "outputId": "0d4813af-41f5-418a-85c7-4dde29ead1c9"
   },
   "outputs": [
    {
     "name": "stdout",
     "output_type": "stream",
     "text": [
      "            A        R        N        D        C        Q        E        G        H        I        L        K        M        F        P        S        T        W        Y        V\n",
      " 1 A   0.0107   0.0068  -0.0397  -0.2008  -0.0241  -0.0319  -0.1391  -0.0254  -0.0461   0.0084   0.0073   0.0419   0.0881   0.1527  -0.1785  -0.0142  -0.0547   0.0116    0.166   0.0154\n",
      " 2 A   0.0286  -0.0072  -0.1717  -0.0871  -0.0979   0.0831  -0.0224  -0.0507  -0.0902   0.1325   0.2775   -0.016   0.2841  -0.0009  -0.0634   0.0381   0.0397   0.1019   0.0395   0.0655\n",
      " 3 A   0.0225  -0.0886  -0.0024   0.0092  -0.0476  -0.0133  -0.0954  -0.0544  -0.0428   0.0647   0.0617   -0.118   0.1784   0.0741  -0.0252   0.0208  -0.0435   0.0663   0.0896  -0.0318\n",
      " 4 A   0.0307  -0.0452  -0.0053   0.0626   0.0439  -0.0016   0.0592   0.0295   0.0002  -0.0104  -0.0424   0.0188   0.0382   0.0312   0.0168   0.0186   0.0117   0.0429   0.0271  -0.0021\n",
      " 5 A  -0.0106   -0.005  -0.0204   0.0312   0.0351  -0.0095   0.0197   0.0026   0.0063   0.0655   0.0476  -0.0046   0.0606   0.0951  -0.0407  -0.0164  -0.0007   0.1061   0.1191   0.0536\n",
      " 6 A   0.0043  -0.0376   0.0373   0.0089   0.0391   0.0409   0.0051  -0.0173   0.0021   0.1176   0.1372  -0.0907   0.0873   0.0704   0.0135  -0.0042   0.0665  -0.0081   0.0324   0.0796\n",
      " 7 A   0.0298  -0.0711  -0.0635   -0.028  -0.0073    -0.03  -0.0363  -0.0737   0.0404   0.0874   0.0423   -0.134   0.0225    0.159    0.028  -0.0164   0.0265   0.0819   0.1038   0.0183\n",
      " 8 A  -0.0313  -0.0443  -0.0273  -0.0816   0.0002  -0.0287   0.0295   0.0111  -0.0722  -0.0321   0.0308   -0.036  -0.0323    0.044   0.0152   0.0178  -0.0081   0.0558   0.0931  -0.0318\n",
      " 9 A    0.108   -0.103   0.0238   0.0082  -0.1443  -0.0132  -0.0163  -0.0593   0.0046   0.1129    0.129  -0.0747   0.0475  -0.0233  -0.0171  -0.0366  -0.0106  -0.0381  -0.0428   0.2316\n"
     ]
    }
   ],
   "source": [
    "matrix = vector_to_matrix(weights, alphabet)\n",
    "to_psi_blast(matrix)"
   ]
  },
  {
   "cell_type": "markdown",
   "metadata": {
    "colab_type": "text",
    "id": "Eq3byUBi0OAT"
   },
   "source": [
    "## Performance Evaluation"
   ]
  },
  {
   "cell_type": "code",
   "execution_count": 122,
   "metadata": {
    "colab": {},
    "colab_type": "code",
    "id": "lh7HCLo7PjKi"
   },
   "outputs": [],
   "source": [
    "evaluation_peptides = evaluation[:, 0]\n",
    "evaluation_peptides = np.array(encode(evaluation_peptides, sparse, alphabet))\n",
    "\n",
    "evaluation_targets = np.array(evaluation[:, 1], dtype=float)\n",
    "\n",
    "y_pred = []\n",
    "for i in range(0, len(evaluation_peptides)):\n",
    "    y_pred.append(np.dot(evaluation_peptides[i].T, weights))\n",
    "\n",
    "y_pred = np.array(y_pred)"
   ]
  },
  {
   "cell_type": "code",
   "execution_count": 123,
   "metadata": {
    "colab": {
     "base_uri": "https://localhost:8080/",
     "height": 286
    },
    "colab_type": "code",
    "id": "lAPfkFcCRsuc",
    "outputId": "1c409c4d-af9a-4021-c9d8-e6f374098a1c"
   },
   "outputs": [
    {
     "name": "stdout",
     "output_type": "stream",
     "text": [
      "PCC:  0.7875671156771694\n"
     ]
    },
    {
     "data": {
      "image/png": "[encoded data removed]",
      "text/plain": [
       "<Figure size 640x480 with 1 Axes>"
      ]
     },
     "metadata": {},
     "output_type": "display_data"
    }
   ],
   "source": [
    "pcc = pearsonr(evaluation_targets, np.array(y_pred))\n",
    "print(\"PCC: \", pcc[0])\n",
    "\n",
    "plt.scatter(y_pred, evaluation_targets);"
   ]
  },
  {
   "cell_type": "code",
   "execution_count": null,
   "metadata": {},
   "outputs": [],
   "source": []
  },
  {
   "cell_type": "code",
   "execution_count": null,
   "metadata": {},
   "outputs": [],
   "source": []
  }
 ],
 "metadata": {
  "colab": {
   "collapsed_sections": [],
   "name": "smm_gradient_descent_v2.ipynb",
   "provenance": [],
   "version": "0.3.2"
  },
  "kernelspec": {
   "display_name": "Python 3 (ipykernel)",
   "language": "python",
   "name": "python3"
  },
  "language_info": {
   "codemirror_mode": {
    "name": "ipython",
    "version": 3
   },
   "file_extension": ".py",
   "mimetype": "text/x-python",
   "name": "python",
   "nbconvert_exporter": "python",
   "pygments_lexer": "ipython3",
   "version": "3.9.13"
  }
 },
 "nbformat": 4,
 "nbformat_minor": 1
}
