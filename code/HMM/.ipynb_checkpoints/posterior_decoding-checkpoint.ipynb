{
 "cells": [
  {
   "cell_type": "markdown",
   "metadata": {
    "colab_type": "text",
    "id": "zbEloWy0zgFn"
   },
   "source": [
    "# Posterior Decoding\n",
    "Implementation of the Posterior Decoding algorithm.\n",
    "\n"
   ]
  },
  {
   "cell_type": "markdown",
   "metadata": {
    "colab_type": "text",
    "id": "yoG3k9pCzk3c"
   },
   "source": [
    "## Python Imports"
   ]
  },
  {
   "cell_type": "code",
   "execution_count": 1,
   "metadata": {
    "colab": {},
    "colab_type": "code",
    "id": "Jk4CMIT5zSrp"
   },
   "outputs": [],
   "source": [
    "import numpy as np"
   ]
  },
  {
   "cell_type": "markdown",
   "metadata": {},
   "source": [
    "## Encode sequence as integers (index values)"
   ]
  },
  {
   "cell_type": "code",
   "execution_count": 2,
   "metadata": {},
   "outputs": [],
   "source": [
    "def encode( sequence, symbols):\n",
    "    \n",
    "    enc = [0] * len(sequence)\n",
    "    \n",
    "    for i in range(len(sequence)):\n",
    "        enc[i] = symbols.find(sequence[i])\n",
    "    \n",
    "    return(enc)"
   ]
  },
  {
   "cell_type": "markdown",
   "metadata": {
    "colab_type": "text",
    "id": "4zmxoNo0zve9"
   },
   "source": [
    "## Parameters"
   ]
  },
  {
   "cell_type": "code",
   "execution_count": 3,
   "metadata": {
    "colab": {},
    "colab_type": "code",
    "id": "pmvxr0uUk_sd"
   },
   "outputs": [],
   "source": [
    "states = 2\n",
    "\n",
    "symbols = \"123456\"\n",
    "\n",
    "#input_sequence = \"566611234\"\n",
    "input_sequence = \"31245366664\"\n",
    "#input_sequence = \"34512331245366664666563266\"\n",
    "\n",
    "input_encode = encode( input_sequence, symbols)\n",
    "\n",
    "initial_prob = [1.0/states, 1.0/states]\n",
    "\n",
    "transition_matrix = np.asarray([0.95, 0.05, 0.1, 0.9]).reshape(2,2)\n",
    "\n",
    "fair_prob = [1.0/6, 1./6, 1./6, 1./6, 1./6, 1./6]\n",
    "loaded_prob = [1./10, 1./10, 1./10, 1./10, 1./10, 5./10] \n",
    "emission_probs = [fair_prob, loaded_prob]\n",
    "\n"
   ]
  },
  {
   "cell_type": "markdown",
   "metadata": {
    "colab_type": "text",
    "id": "_qWOQUfGkJOI"
   },
   "source": [
    "## Forward Loop\n",
    "### Remember that we here do NOT work in log space"
   ]
  },
  {
   "cell_type": "code",
   "execution_count": 4,
   "metadata": {
    "colab": {},
    "colab_type": "code",
    "id": "fyHv6-vuzxt2"
   },
   "outputs": [],
   "source": [
    "def initialize_forward(input_encode, states, initial_prob, emission_probs):\n",
    "    \n",
    "    alpha = np.zeros(shape=(states, len(input_encode)))\n",
    "        \n",
    "    for i in range(0, states): \n",
    "        \n",
    "        alpha[i][0] = initial_prob[i]*emission_probs[i][input_encode[0]]\n",
    "        \n",
    "    return alpha"
   ]
  },
  {
   "cell_type": "code",
   "execution_count": 5,
   "metadata": {
    "colab": {
     "base_uri": "https://localhost:8080/",
     "height": 126
    },
    "colab_type": "code",
    "id": "2A6Rx7sukIjM",
    "outputId": "cc4ed1b3-aa15-4276-f114-eb6a3e26785e"
   },
   "outputs": [
    {
     "ename": "NameError",
     "evalue": "name 'XX' is not defined",
     "output_type": "error",
     "traceback": [
      "\u001b[1;31m---------------------------------------------------------------------------\u001b[0m",
      "\u001b[1;31mNameError\u001b[0m                                 Traceback (most recent call last)",
      "\u001b[1;32m~\\AppData\\Local\\Temp\\ipykernel_12956\\2037461988.py\u001b[0m in \u001b[0;36m<module>\u001b[1;34m\u001b[0m\n\u001b[0;32m     10\u001b[0m         \u001b[1;32mfor\u001b[0m \u001b[0mk\u001b[0m \u001b[1;32min\u001b[0m \u001b[0mrange\u001b[0m\u001b[1;33m(\u001b[0m\u001b[1;36m0\u001b[0m\u001b[1;33m,\u001b[0m \u001b[0mstates\u001b[0m\u001b[1;33m)\u001b[0m\u001b[1;33m:\u001b[0m\u001b[1;33m\u001b[0m\u001b[1;33m\u001b[0m\u001b[0m\n\u001b[0;32m     11\u001b[0m \u001b[1;33m\u001b[0m\u001b[0m\n\u001b[1;32m---> 12\u001b[1;33m             \u001b[0m_sum\u001b[0m \u001b[1;33m+=\u001b[0m \u001b[0mXX\u001b[0m\u001b[1;33m\u001b[0m\u001b[1;33m\u001b[0m\u001b[0m\n\u001b[0m\u001b[0;32m     13\u001b[0m \u001b[1;33m\u001b[0m\u001b[0m\n\u001b[0;32m     14\u001b[0m         \u001b[1;31m# store prob\u001b[0m\u001b[1;33m\u001b[0m\u001b[1;33m\u001b[0m\u001b[0m\n",
      "\u001b[1;31mNameError\u001b[0m: name 'XX' is not defined"
     ]
    }
   ],
   "source": [
    "alpha = initialize_forward(input_encode, states, initial_prob, emission_probs)\n",
    "\n",
    "# main loop\n",
    "for i in range(1, len(input_encode)):\n",
    "    \n",
    "    for j in range(0, states):\n",
    "\n",
    "        _sum = 0\n",
    "        \n",
    "        for k in range(0, states):\n",
    "            \n",
    "            _sum += XX           \n",
    "         \n",
    "        # store prob\n",
    "        alpha[j][i] = XX\n",
    "\n",
    "print(alpha)"
   ]
  },
  {
   "cell_type": "markdown",
   "metadata": {
    "colab_type": "text",
    "id": "R8IztniOkK8Q"
   },
   "source": [
    "## Backward Loop"
   ]
  },
  {
   "cell_type": "code",
   "execution_count": null,
   "metadata": {
    "colab": {},
    "colab_type": "code",
    "id": "TngUQKM2kTY_"
   },
   "outputs": [],
   "source": [
    "def initialize_backward(input_encode, states):\n",
    "    \n",
    "    #beta = np.zeros(shape=(states, len(input_encode), dtype=float))\n",
    "    beta = np.zeros(shape=(states, len(input_encode)))\n",
    "        \n",
    "    for i in range(0, states):\n",
    "  \n",
    "        beta[i][-1] = 1\n",
    "        \n",
    "    return beta"
   ]
  },
  {
   "cell_type": "code",
   "execution_count": null,
   "metadata": {
    "colab": {
     "base_uri": "https://localhost:8080/",
     "height": 126
    },
    "colab_type": "code",
    "id": "SasPJXJYnhM1",
    "outputId": "b968d3fc-b7fb-4be0-e5d0-b85661bff52a"
   },
   "outputs": [],
   "source": [
    "beta = initialize_backward(input_encode, states)\n",
    "\n",
    "# main loop\n",
    "for i in range(len(input_encode)-2, -1, -1):\n",
    "    \n",
    "    for j in range(0, states):\n",
    "\n",
    "        _sum = 0\n",
    "\n",
    "        for k in range(0, states):\n",
    "            \n",
    "            _sum += emission_probs[k][input_encode[i+1]] * XX * XX\n",
    "        \n",
    "        # store prob\n",
    "        beta[j][i] = _sum\n",
    "\n",
    "print(beta)"
   ]
  },
  {
   "cell_type": "markdown",
   "metadata": {
    "colab_type": "text",
    "id": "bzEzXRSX0A79"
   },
   "source": [
    "## Posterior Loop\n",
    " "
   ]
  },
  {
   "cell_type": "code",
   "execution_count": null,
   "metadata": {
    "colab": {
     "base_uri": "https://localhost:8080/",
     "height": 235
    },
    "colab_type": "code",
    "id": "M5o3yT_vzSry",
    "outputId": "e8adbd06-fb24-4be8-9dfe-4d0df12b327a",
    "scrolled": true
   },
   "outputs": [],
   "source": [
    "# posterior = f * b / p_x\n",
    "\n",
    "posterior = np.zeros(shape=(len(input_encode)), dtype=float)\n",
    "\n",
    "p_state = 0\n",
    "\n",
    "p_x = 0\n",
    "for j in range(0, states):\n",
    "    p_x += XX\n",
    "\n",
    "print (\"Log(Px):\", np.log(p_x))\n",
    "\n",
    "for i in range(0, len(input_encode)):\n",
    "        \n",
    "    posterior[i] = XX # p = (f_i * b_i)/p_x\n",
    "\n",
    "    print (\"Posterior\", i, input_sequence[i], input_encode[i], np.log(alpha[p_state, i]), np.log(beta[p_state, i]), posterior[i])"
   ]
  },
  {
   "cell_type": "code",
   "execution_count": null,
   "metadata": {},
   "outputs": [],
   "source": []
  }
 ],
 "metadata": {
  "colab": {
   "collapsed_sections": [],
   "name": "posterior_decoding.ipynb",
   "provenance": [],
   "version": "0.3.2"
  },
  "kernelspec": {
   "display_name": "Python 3 (ipykernel)",
   "language": "python",
   "name": "python3"
  },
  "language_info": {
   "codemirror_mode": {
    "name": "ipython",
    "version": 3
   },
   "file_extension": ".py",
   "mimetype": "text/x-python",
   "name": "python",
   "nbconvert_exporter": "python",
   "pygments_lexer": "ipython3",
   "version": "3.9.13"
  }
 },
 "nbformat": 4,
 "nbformat_minor": 1
}
