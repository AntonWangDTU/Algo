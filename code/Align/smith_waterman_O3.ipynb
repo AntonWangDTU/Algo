{
 "cells": [
  {
   "cell_type": "markdown",
   "metadata": {
    "colab_type": "text",
    "id": "7p_1_mk8b9PV"
   },
   "source": [
    "## Description\n",
    "\n",
    "Smith-Waterman algorithm in O3 time.\n",
    "\n",
    "Part of the code has been blanked out with X's. Fill in this code to make the code run "
   ]
  },
  {
   "cell_type": "markdown",
   "metadata": {
    "colab_type": "text",
    "id": "eUZmCkXXcOpz"
   },
   "source": [
    "## Python Imports"
   ]
  },
  {
   "cell_type": "code",
   "execution_count": 96,
   "metadata": {
    "colab": {},
    "colab_type": "code",
    "id": "GNx18LFGZiUJ"
   },
   "outputs": [],
   "source": [
    "import numpy as np"
   ]
  },
  {
   "cell_type": "markdown",
   "metadata": {
    "colab_type": "text",
    "id": "wDAD1hKTcRgj"
   },
   "source": [
    "## Data Imports"
   ]
  },
  {
   "cell_type": "markdown",
   "metadata": {},
   "source": [
    "## DEFINE THE PATH TO YOUR COURSE DIRECTORY"
   ]
  },
  {
   "cell_type": "code",
   "execution_count": 97,
   "metadata": {},
   "outputs": [],
   "source": [
    "data_dir = \"../../data/\""
   ]
  },
  {
   "cell_type": "markdown",
   "metadata": {},
   "source": [
    "## Define runtime parameters"
   ]
  },
  {
   "cell_type": "code",
   "execution_count": 98,
   "metadata": {},
   "outputs": [],
   "source": [
    "gap_open = -11\n",
    "gap_extension = -1"
   ]
  },
  {
   "cell_type": "markdown",
   "metadata": {
    "colab_type": "text",
    "id": "8HFrSUvxbWtF"
   },
   "source": [
    "### Alphabet"
   ]
  },
  {
   "cell_type": "code",
   "execution_count": 99,
   "metadata": {
    "colab": {
     "base_uri": "https://localhost:8080/",
     "height": 52
    },
    "colab_type": "code",
    "id": "KfHmRjlJbaPO",
    "outputId": "d9bdb06a-e4dc-4e9f-fc20-6714400450d8"
   },
   "outputs": [
    {
     "data": {
      "text/plain": [
       "array(['A', 'R', 'N', 'D', 'C', 'Q', 'E', 'G', 'H', 'I', 'L', 'K', 'M',\n",
       "       'F', 'P', 'S', 'T', 'W', 'Y', 'V'], dtype='<U1')"
      ]
     },
     "execution_count": 99,
     "metadata": {},
     "output_type": "execute_result"
    }
   ],
   "source": [
    "#alphabet_file = \"https://raw.githubusercontent.com/brunoalvarez89/data/master/algorithms_in_bioinformatics/part_3/alphabet\"\n",
    "alphabet_file = data_dir + \"Matrices/alphabet\"\n",
    "alphabet = np.loadtxt(alphabet_file, dtype=str)\n",
    "\n",
    "alphabet"
   ]
  },
  {
   "cell_type": "markdown",
   "metadata": {
    "colab_type": "text",
    "id": "Zo_Hd_1VbboV"
   },
   "source": [
    "### Blosum Matrix"
   ]
  },
  {
   "cell_type": "code",
   "execution_count": 100,
   "metadata": {
    "colab": {
     "base_uri": "https://localhost:8080/",
     "height": 7127
    },
    "colab_type": "code",
    "id": "T7KzqU2Ubel9",
    "outputId": "c9411e86-e931-4d6e-88fb-6312de1a19ca"
   },
   "outputs": [],
   "source": [
    "#blosum_file = \"https://raw.githubusercontent.com/brunoalvarez89/data/master/algorithms_in_bioinformatics/part_3/blosum50\"\n",
    "blosum_file = data_dir + \"Matrices/BLOSUM50\"\n",
    "\n",
    "_blosum50 = np.loadtxt(blosum_file, dtype=float).reshape((24, -1)).T\n",
    "blosum50 = {}\n",
    "\n",
    "for i, letter_1 in enumerate(alphabet):\n",
    "    \n",
    "    blosum50[letter_1] = {}\n",
    "\n",
    "    for j, letter_2 in enumerate(alphabet):\n",
    "        \n",
    "        blosum50[letter_1][letter_2] = _blosum50[i, j]\n",
    "\n",
    "#blosum50"
   ]
  },
  {
   "cell_type": "markdown",
   "metadata": {
    "colab_type": "text",
    "id": "Pekiev7rcfPD"
   },
   "source": [
    "## Alignment\n",
    "\n",
    "This functions returns, apart from the final Alignment Matrix, all the intermedite Matrices (for plotting purposes)."
   ]
  },
  {
   "cell_type": "markdown",
   "metadata": {
    "colab_type": "text",
    "id": "NjhCnzc4NpUQ"
   },
   "source": [
    "### Alignment Matrix"
   ]
  },
  {
   "cell_type": "code",
   "execution_count": 101,
   "metadata": {
    "colab": {},
    "colab_type": "code",
    "id": "vaAbpgkuZiUQ"
   },
   "outputs": [],
   "source": [
    "def smith_waterman_alignment(query=\"VLLP\", database=\"VLILP\", scoring_scheme={}, gap_open=-5, gap_extension=-1):\n",
    "    \n",
    "    # Matrix dimensions\n",
    "    M = len(query)\n",
    "    N = len(database)\n",
    "    \n",
    "    # E matrix (for backtracking)\n",
    "    E_matrix = np.zeros((M+1, N+1), dtype=object)\n",
    "    \n",
    "    # D matrix (alignment matrix)\n",
    "    D_matrix = np.zeros((M+1, N+1), dtype = int)\n",
    "\n",
    "    # Initialize matrices (Here you might add values to penalize end gaps)\n",
    "    for i in range(M, 0, -1):\n",
    "        D_matrix[i-1, N] = 0\n",
    "        E_matrix[i-1, N] = 0\n",
    "\n",
    "    for j in range(N, 0, -1):\n",
    "        D_matrix[M, j-1] = 0\n",
    "        E_matrix[M, j-1] = 0\n",
    "    \n",
    "    \n",
    "    D_matrix_max_score, D_matrix_i_max, D_matrix_j_max = -9, -9, -9\n",
    "    for i in range(M-1, -1, -1): \n",
    "        for j in range(N-1, -1, -1):\n",
    "                \n",
    "            # digonal score\n",
    "            diagonal_score = D_matrix[i+1, j+1] + blosum50[query[i]][database[j]] #XX\n",
    "            # horizontal score\n",
    "            # Gap opening\n",
    "            max_horizontal_score = D_matrix[i,j+1] + gap_open\n",
    "            k_max_horizontal_score = 1\n",
    "          \n",
    "            # Gap extensions\n",
    "            for k in range(j+2, N):\n",
    "                \n",
    "                #We now check for each lenght of gap extensions if it higer than prev opening + evt extension\n",
    "                score = D_matrix[i, k] + gap_open + gap_extension * (k-1-j)\n",
    "                \n",
    "                \n",
    "                if score > max_horizontal_score: \n",
    "                    max_horizontal_score = score \n",
    "                    k_max_horizontal_score = k - j            \n",
    "            \n",
    "            \n",
    "            # vertical score\n",
    "            # Gap opening\n",
    "            max_vertical_score = D_matrix[i+1,j] + gap_open #XX\n",
    "            k_max_vertical_score = 1\n",
    "            \n",
    "            # Gap extensions\n",
    "            for k in range(i+2, M):\n",
    "    \n",
    "                score = D_matrix[k, j] + gap_open + gap_extension * (k-i-1)\n",
    "               \n",
    "                if score > max_vertical_score: \n",
    "                    max_vertical_score = score \n",
    "                    k_max_vertical_score = k - i\n",
    "                  \n",
    "                  \n",
    "            ####################\n",
    "            # E_matrix entries #\n",
    "            ####################\n",
    "            # E[i,j] = 0, negative number\n",
    "            # E[i,j] = 1, match\n",
    "            # E[i,j] = 2, gap opening in database\n",
    "            # E[i,j] = 3, gap extension in database\n",
    "            # E[i,j] = 4, gap opening in query\n",
    "            # E[i,j] = 5, gap extension in query\n",
    "            \n",
    "            if diagonal_score >= max_vertical_score and diagonal_score >= max_horizontal_score:\n",
    "                max_score = diagonal_score\n",
    "                direction = \"diagonal\"\n",
    "            elif max_horizontal_score > max_vertical_score:\n",
    "                max_score = max_horizontal_score\n",
    "                direction = \"horizontal\"\n",
    "            else:\n",
    "                max_score = max_vertical_score\n",
    "                direction = \"vertical\"\n",
    "                \n",
    "            if max_score <= 0:\n",
    "                max_score = 0\n",
    "                direction = \"none\"\n",
    "\n",
    "            # diagonal direction case\n",
    "            if direction == \"diagonal\":\n",
    "                E_matrix[i,j] = 1\n",
    "                \n",
    "            # vertical direction case\n",
    "            elif direction == \"vertical\":\n",
    "\n",
    "                # if k only moved one position, it means gap opening\n",
    "                if k_max_vertical_score == 1: \n",
    "                    E_matrix[i,j] = 2\n",
    "\n",
    "                # else it is a gap extension\n",
    "                else: \n",
    "                    E_matrix[i,j] = 3\n",
    "                        \n",
    "            # horizontal direction case\n",
    "            elif direction == \"horizontal\":\n",
    "\n",
    "                # if k only moved one position, it means gap opening\n",
    "                if k_max_horizontal_score == 1: \n",
    "                    E_matrix[i,j] = 4\n",
    "\n",
    "                # else it is a gap extension\n",
    "                else: \n",
    "                    E_matrix[i,j] = 5\n",
    "\n",
    "            else:\n",
    "                # max_score is negative, put E to zero\n",
    "                E_matrix[i,j] = 0\n",
    "                 \n",
    "            # store max score\n",
    "            D_matrix[i, j] = max_score\n",
    "            \n",
    "            # append partial alignment matrix to list\n",
    "            #D_matrix_list.append(np.copy(D_matrix))\n",
    "           \n",
    "            # fetch global max score\n",
    "            if max_score > D_matrix_max_score:\n",
    "                D_matrix_max_score = max_score\n",
    "                D_matrix_i_max = i\n",
    "                D_matrix_j_max = j\n",
    "            \n",
    "    return D_matrix, E_matrix, D_matrix_i_max, D_matrix_j_max, D_matrix_max_score"
   ]
  },
  {
   "cell_type": "markdown",
   "metadata": {
    "colab_type": "text",
    "id": "YjlBVmMfcuEU"
   },
   "source": [
    "## Alignment Matrix Traceback"
   ]
  },
  {
   "cell_type": "code",
   "execution_count": 102,
   "metadata": {},
   "outputs": [],
   "source": [
    "def smith_waterman_traceback(E_matrix, D_matrix, i_max, j_max, query=\"VLLP\", database=\"VLILP\", gap_open=-5, gap_extension=-1):\n",
    "    \n",
    "    M = len(query)\n",
    "    N = len(database)\n",
    "    \n",
    "    aligned_query = []\n",
    "    aligned_database = []\n",
    "    positions = []\n",
    "    matches = 0\n",
    "    \n",
    "    # start from max_i, max_j\n",
    "    i, j = i_max, j_max\n",
    "    while i < M and j < N :\n",
    "\n",
    "        positions.append([i,j])\n",
    "        \n",
    "        # E[i,j] = 0, stop back tracking\n",
    "        if E_matrix[i, j] == 0:\n",
    "            break\n",
    "        \n",
    "        # E[i,j] = 1, match\n",
    "        if E_matrix[i, j] == 1:\n",
    "            aligned_query.append(query[i])\n",
    "            aligned_database.append(database[j])\n",
    "            if (query[i] == database[j]):\n",
    "                matches += 1\n",
    "            i += 1\n",
    "            j += 1\n",
    "        \n",
    "        \n",
    "        # E[i,j] = 2, gap opening in database\n",
    "        if E_matrix[i, j] == 2:\n",
    "            aligned_database.append(\"-\")\n",
    "            aligned_query.append(query[i])\n",
    "            i += 1\n",
    "\n",
    "            \n",
    "        # E[i,j] = 3, gap extension in database\n",
    "        if E_matrix[i, j] == 3:\n",
    "            \n",
    "            count = i + 2\n",
    "            score = D_matrix[count, j] + gap_open + gap_extension\n",
    "\n",
    "            # Find length of gap (check if score == D_matrix[i, j])\n",
    "            while((score - D_matrix[i, j])*(score - D_matrix[i, j]) >= 0.00001): \n",
    "                count += 1\n",
    "                score = D_matrix[count, j] + gap_open + gap_extension * (count-i-1) ##XX\n",
    "\n",
    "            for k in range(i, count):\n",
    "                aligned_database.append(\"-\")\n",
    "                aligned_query.append(query[i])\n",
    "                i += 1\n",
    "             \n",
    "          \n",
    "        # E[i,j] = 4, gap opening in query\n",
    "        if E_matrix[i, j] == 4:\n",
    "            aligned_query.append(\"-\")\n",
    "            aligned_database.append(database[j])\n",
    "            j += 1\n",
    "        \n",
    "        \n",
    "        # E[i,j] = 5, gap extension in query\n",
    "        if E_matrix[i, j] == 5:\n",
    "            \n",
    "            count = j + 2\n",
    "            score = D_matrix[i, count] + gap_open + gap_extension\n",
    "            \n",
    "            # Find length of gap (check if score == D_matrix[i, j])\n",
    "            while((score - D_matrix[i, j])*(score - D_matrix[i, j]) >= 0.0001): \n",
    "                count += 1\n",
    "                score = D_matrix[i, count] + gap_open + (count-j-1)*gap_extension\n",
    "\n",
    "            for k in range(j, count):\n",
    "                aligned_query.append(\"-\")\n",
    "                aligned_database.append(database[j])\n",
    "                j += 1\n",
    "                \n",
    "\n",
    "    return aligned_query, aligned_database, matches"
   ]
  },
  {
   "cell_type": "markdown",
   "metadata": {
    "colab_type": "text",
    "id": "nkrzsnC0dDSL"
   },
   "source": [
    "## Now test the code on a few examples"
   ]
  },
  {
   "cell_type": "code",
   "execution_count": 103,
   "metadata": {
    "colab": {
     "base_uri": "https://localhost:8080/",
     "height": 427
    },
    "colab_type": "code",
    "id": "IPuhfjyOZiUb",
    "outputId": "09857390-c8fb-4cde-e238-f65dcaffb743"
   },
   "outputs": [
    {
     "name": "stdout",
     "output_type": "stream",
     "text": [
      "ALN VLPVLILP 8 VLLPVLLP 8 9 7 41.0\n",
      "QAL VL-PVLILP\n",
      "DAL VLLPVL-LP\n",
      "\n",
      "---\n",
      "D Matrix\n",
      "[[41 39 36 30 20 16 13  7  0]\n",
      " [35 36 38 31 20 15 15  8  0]\n",
      " [29 30 31 33 21 15 10 10  0]\n",
      " [24 21 20 21 23 16 11  5  0]\n",
      " [18 19 20 16 18 18 12  6  0]\n",
      " [17 17 14 15 17 17 13  7  0]\n",
      " [12 13 15 11 12 13 15  8  0]\n",
      " [ 6  7  8 10  6  7  8 10  0]\n",
      " [ 0  0  0  0  0  0  0  0  0]]\n",
      "\n",
      "E Matrix\n",
      "[[1 1 2 3 1 1 2 3 0]\n",
      " [5 1 1 2 3 1 1 2 0]\n",
      " [5 5 4 1 2 3 3 1 0]\n",
      " [1 1 5 4 1 2 3 3 0]\n",
      " [1 1 1 4 1 1 1 3 0]\n",
      " [1 1 5 4 1 1 2 3 0]\n",
      " [5 1 1 5 5 1 1 2 0]\n",
      " [5 5 4 1 5 5 4 1 0]\n",
      " [0 0 0 0 0 0 0 0 0]]\n",
      "---\n"
     ]
    }
   ],
   "source": [
    "#Slides example\n",
    "#query = \"VLLP\"\n",
    "#database = \"VLILP\"\n",
    "#scoring_scheme = blosum50\n",
    "#gap_open = -5\n",
    "#gap_extension = -1\n",
    "\n",
    "#Matrix dump exercise 2\n",
    "query = \"VLPVLILP\"\n",
    "database = \"VLLPVLLP\"\n",
    "scoring_scheme = blosum50\n",
    "gap_open = -2\n",
    "gap_extension = -1\n",
    "\n",
    "#Matrix dump exercise 1\n",
    "#query = \"IDVLLGADDGSLAFVPSEFSISPGEKIVFKNNAGFPHNIVFDEDSIPSGVDASKISMSEEDLLNAKGETFEVALSNKGEYSFYCSPHQGAGMVGKVTVN\"\n",
    "#database = \"AEVKLGSDDGGLVFSPSSFTVAAGEKITFKNNAGFPHNIVFDEDEVPAGVNAEKISQPEYLNGAGETYEVTLTEKGTYKFYCEPHAGAGMKGEVTVN\"\n",
    "#scoring_scheme = blosum50\n",
    "#gap_open = -11\n",
    "#gap_extension = -1\n",
    "\n",
    "D_matrix, E_matrix, i_max, j_max, max_score = smith_waterman_alignment(query, database, scoring_scheme, gap_open, gap_extension)\n",
    "aligned_query, aligned_database, matches = smith_waterman_traceback(E_matrix, D_matrix, i_max, j_max, query, database, gap_open, gap_extension)\n",
    "\n",
    "print(\"ALN\", query, len(query), database, len(database), len(aligned_query), matches, max_score)\n",
    "print(\"QAL\", ''.join(aligned_query))\n",
    "print(\"DAL\", ''.join(aligned_database))\n",
    "print(\"\")\n",
    "\n",
    "print(\"---\")\n",
    "\n",
    "print(\"D Matrix\")\n",
    "print(D_matrix)\n",
    "print(\"\")\n",
    "print(\"E Matrix\")\n",
    "print(E_matrix)\n",
    "\n",
    "print(\"---\")"
   ]
  },
  {
   "cell_type": "markdown",
   "metadata": {
    "colab_type": "text",
    "id": "rdQxS-XEEdD7"
   },
   "source": [
    "## Multiple alignments. Run an alignment of a sequence against a sequence database\n"
   ]
  },
  {
   "cell_type": "markdown",
   "metadata": {
    "colab_type": "text",
    "id": "J28HFuBfEgta"
   },
   "source": [
    "### Load 1PLC.tab (query)\n"
   ]
  },
  {
   "cell_type": "code",
   "execution_count": 104,
   "metadata": {
    "colab": {},
    "colab_type": "code",
    "id": "3MLnvcLKEklM"
   },
   "outputs": [],
   "source": [
    "#query_file = \"https://raw.githubusercontent.com/brunoalvarez89/data/master/algorithms_in_bioinformatics/part_3/1PLC._.tab\"\n",
    "query_file = data_dir + \"Align/1PLC._.tab\"\n",
    "query_list = np.loadtxt(query_file, dtype=str).reshape(-1,2)"
   ]
  },
  {
   "cell_type": "markdown",
   "metadata": {
    "colab_type": "text",
    "id": "OIdoWPjqErIR"
   },
   "source": [
    "### Load database_list.tab"
   ]
  },
  {
   "cell_type": "code",
   "execution_count": 105,
   "metadata": {
    "colab": {},
    "colab_type": "code",
    "id": "4sO6kD1_E5cM"
   },
   "outputs": [],
   "source": [
    "#database_file = \"https://raw.githubusercontent.com/brunoalvarez89/data/master/algorithms_in_bioinformatics/part_3/database_list.tab\"\n",
    "database_file = data_dir + \"Align/db_100.tab\"\n",
    "database_list = np.loadtxt(database_file, dtype=str).reshape(-1,2)"
   ]
  },
  {
   "cell_type": "markdown",
   "metadata": {
    "colab_type": "text",
    "id": "69-1zIlTE9Ay"
   },
   "source": [
    "### Align query against database. Might take a while. Go get some coffee "
   ]
  },
  {
   "cell_type": "code",
   "execution_count": 106,
   "metadata": {
    "colab": {
     "base_uri": "https://localhost:8080/",
     "height": 411
    },
    "colab_type": "code",
    "id": "B5_byYIAE-kg",
    "outputId": "fe97ef86-61dc-42c5-afe0-27b824c9b80a",
    "scrolled": false
   },
   "outputs": [
    {
     "name": "stdout",
     "output_type": "stream",
     "text": [
      "ALN 1PLC._ 99 1US0.A 316 115 29 59.0\n",
      "QAL 1 DVLLGADDGSLAFVPSEFSISPGEKIVFKNNAG--FPHNI-VFD-----EDSIPSG-VDASKIS----MSEEDLLNAKGETFEVALSNKGEYSFYCSPH----------QGAGMV\n",
      "DAL 98 DLKLDYLDLYLIHWPTGFK--PGKEFFPLDESGNVVPSDTNILDTWAAMEELVDEGLVKAIGISNFNHLQVEMILNKPGLKYKPAV-NQIE----CHPYLTQEKLIQYCQSKGIV\n",
      "\n"
     ]
    },
    {
     "ename": "KeyboardInterrupt",
     "evalue": "",
     "output_type": "error",
     "traceback": [
      "\u001b[1;31m---------------------------------------------------------------------------\u001b[0m",
      "\u001b[1;31mKeyboardInterrupt\u001b[0m                         Traceback (most recent call last)",
      "\u001b[1;32m~\\AppData\\Local\\Temp\\ipykernel_17608\\3497605124.py\u001b[0m in \u001b[0;36m<module>\u001b[1;34m\u001b[0m\n\u001b[0;32m     18\u001b[0m         \u001b[0mdatabase_sequence\u001b[0m \u001b[1;33m=\u001b[0m \u001b[0mdatabase\u001b[0m\u001b[1;33m[\u001b[0m\u001b[1;36m1\u001b[0m\u001b[1;33m]\u001b[0m\u001b[1;33m\u001b[0m\u001b[1;33m\u001b[0m\u001b[0m\n\u001b[0;32m     19\u001b[0m \u001b[1;33m\u001b[0m\u001b[0m\n\u001b[1;32m---> 20\u001b[1;33m         \u001b[0mD_matrix\u001b[0m\u001b[1;33m,\u001b[0m \u001b[0mE_matrix\u001b[0m\u001b[1;33m,\u001b[0m \u001b[0mi_max\u001b[0m\u001b[1;33m,\u001b[0m \u001b[0mj_max\u001b[0m\u001b[1;33m,\u001b[0m \u001b[0mmax_score\u001b[0m \u001b[1;33m=\u001b[0m \u001b[0msmith_waterman_alignment\u001b[0m\u001b[1;33m(\u001b[0m\u001b[0mquery_sequence\u001b[0m\u001b[1;33m,\u001b[0m \u001b[0mdatabase_sequence\u001b[0m\u001b[1;33m,\u001b[0m \u001b[0mscoring_scheme\u001b[0m\u001b[1;33m,\u001b[0m \u001b[0mgap_open\u001b[0m\u001b[1;33m,\u001b[0m \u001b[0mgap_extension\u001b[0m\u001b[1;33m)\u001b[0m\u001b[1;33m\u001b[0m\u001b[1;33m\u001b[0m\u001b[0m\n\u001b[0m\u001b[0;32m     21\u001b[0m         \u001b[0maligned_query\u001b[0m\u001b[1;33m,\u001b[0m \u001b[0maligned_database\u001b[0m\u001b[1;33m,\u001b[0m \u001b[0mmatches\u001b[0m \u001b[1;33m=\u001b[0m \u001b[0msmith_waterman_traceback\u001b[0m\u001b[1;33m(\u001b[0m\u001b[0mE_matrix\u001b[0m\u001b[1;33m,\u001b[0m \u001b[0mD_matrix\u001b[0m\u001b[1;33m,\u001b[0m \u001b[0mi_max\u001b[0m\u001b[1;33m,\u001b[0m \u001b[0mj_max\u001b[0m\u001b[1;33m,\u001b[0m \u001b[0mquery_sequence\u001b[0m\u001b[1;33m,\u001b[0m \u001b[0mdatabase_sequence\u001b[0m\u001b[1;33m,\u001b[0m \u001b[0mgap_open\u001b[0m\u001b[1;33m,\u001b[0m \u001b[0mgap_extension\u001b[0m\u001b[1;33m)\u001b[0m\u001b[1;33m\u001b[0m\u001b[1;33m\u001b[0m\u001b[0m\n\u001b[0;32m     22\u001b[0m \u001b[1;33m\u001b[0m\u001b[0m\n",
      "\u001b[1;32m~\\AppData\\Local\\Temp\\ipykernel_17608\\1326392526.py\u001b[0m in \u001b[0;36msmith_waterman_alignment\u001b[1;34m(query, database, scoring_scheme, gap_open, gap_extension)\u001b[0m\n\u001b[0;32m     36\u001b[0m \u001b[1;33m\u001b[0m\u001b[0m\n\u001b[0;32m     37\u001b[0m                 \u001b[1;31m#We now check for each lenght of gap extensions if it higer than prev opening + evt extension\u001b[0m\u001b[1;33m\u001b[0m\u001b[1;33m\u001b[0m\u001b[0m\n\u001b[1;32m---> 38\u001b[1;33m                 \u001b[0mscore\u001b[0m \u001b[1;33m=\u001b[0m \u001b[0mD_matrix\u001b[0m\u001b[1;33m[\u001b[0m\u001b[0mi\u001b[0m\u001b[1;33m,\u001b[0m \u001b[0mk\u001b[0m\u001b[1;33m]\u001b[0m \u001b[1;33m+\u001b[0m \u001b[0mgap_open\u001b[0m \u001b[1;33m+\u001b[0m \u001b[0mgap_extension\u001b[0m \u001b[1;33m*\u001b[0m \u001b[1;33m(\u001b[0m\u001b[0mk\u001b[0m\u001b[1;33m-\u001b[0m\u001b[1;36m1\u001b[0m\u001b[1;33m-\u001b[0m\u001b[0mj\u001b[0m\u001b[1;33m)\u001b[0m\u001b[1;33m\u001b[0m\u001b[1;33m\u001b[0m\u001b[0m\n\u001b[0m\u001b[0;32m     39\u001b[0m \u001b[1;33m\u001b[0m\u001b[0m\n\u001b[0;32m     40\u001b[0m \u001b[1;33m\u001b[0m\u001b[0m\n",
      "\u001b[1;31mKeyboardInterrupt\u001b[0m: "
     ]
    }
   ],
   "source": [
    "from time import time\n",
    "\n",
    "scoring_scheme = blosum50\n",
    "gap_open = -11\n",
    "gap_extension = -1\n",
    "\n",
    "# this returns current timestamp in seconds\n",
    "t0 = time()\n",
    "\n",
    "for query in query_list:\n",
    "    \n",
    "    query_protein = query[0]\n",
    "    query_sequence = query[1]\n",
    "    \n",
    "    for database in database_list:\n",
    "    \n",
    "        database_protein = database[0]\n",
    "        database_sequence = database[1]\n",
    "    \n",
    "        D_matrix, E_matrix, i_max, j_max, max_score = smith_waterman_alignment(query_sequence, database_sequence, scoring_scheme, gap_open, gap_extension)\n",
    "        aligned_query, aligned_database, matches = smith_waterman_traceback(E_matrix, D_matrix, i_max, j_max, query_sequence, database_sequence, gap_open, gap_extension)\n",
    "        \n",
    "        print(\"ALN\", query_protein, len(query_sequence), database_protein, len(database_sequence), len(aligned_query), matches, max_score)\n",
    "        print(\"QAL\", i_max, ''.join(aligned_query))\n",
    "        print(\"DAL\", j_max,''.join(aligned_database))\n",
    "        print(\"\")\n",
    "        \n",
    "t1 = time()\n",
    "\n",
    "print( \"Time (m):\", (t1-t0)/60)"
   ]
  }
 ],
 "metadata": {
  "colab": {
   "collapsed_sections": [
    "YjlBVmMfcuEU",
    "zBzaIy1Sc3zq"
   ],
   "name": "smith_waterman_O3.ipynb",
   "provenance": [],
   "version": "0.3.2"
  },
  "kernelspec": {
   "display_name": "Python 3 (ipykernel)",
   "language": "python",
   "name": "python3"
  },
  "language_info": {
   "codemirror_mode": {
    "name": "ipython",
    "version": 3
   },
   "file_extension": ".py",
   "mimetype": "text/x-python",
   "name": "python",
   "nbconvert_exporter": "python",
   "pygments_lexer": "ipython3",
   "version": "3.9.13"
  }
 },
 "nbformat": 4,
 "nbformat_minor": 1
}
