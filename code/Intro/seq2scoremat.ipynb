{
 "cells": [
  {
   "cell_type": "markdown",
   "metadata": {
    "colab_type": "text",
    "id": "BlHJoPW0p8Xd"
   },
   "source": [
    "# Our first Python implementation\n",
    "## Make a program to visualize the similarity matrix between two protein sequences\n",
    "\n",
    "## Some part of the code have been blanked out with XX's. Fill out these places to make the code run"
   ]
  },
  {
   "cell_type": "markdown",
   "metadata": {
    "colab_type": "text",
    "id": "wQPAYrrMqDML"
   },
   "source": [
    "## Python Imports"
   ]
  },
  {
   "cell_type": "code",
   "execution_count": 19,
   "metadata": {
    "colab": {},
    "colab_type": "code",
    "id": "UBfecmehN1CU"
   },
   "outputs": [],
   "source": [
    "import numpy as np\n",
    "import matplotlib.pyplot as plt\n",
    "%matplotlib inline"
   ]
  },
  {
   "cell_type": "markdown",
   "metadata": {},
   "source": [
    "## DEFINE THE PATH TO YOUR COURSE DATA DIRECTORY"
   ]
  },
  {
   "cell_type": "code",
   "execution_count": 18,
   "metadata": {},
   "outputs": [],
   "source": [
    "data_dir = \"../../data/\""
   ]
  },
  {
   "cell_type": "markdown",
   "metadata": {
    "colab_type": "text",
    "id": "TAII85buqGj0"
   },
   "source": [
    "## Data Imports"
   ]
  },
  {
   "cell_type": "markdown",
   "metadata": {
    "colab_type": "text",
    "id": "CJEyN0rlqXws"
   },
   "source": [
    "### Alphabet"
   ]
  },
  {
   "cell_type": "code",
   "execution_count": 17,
   "metadata": {
    "colab": {},
    "colab_type": "code",
    "id": "lZdzjV8QqZ3J"
   },
   "outputs": [],
   "source": [
    "#alphabet_file = \"https://raw.githubusercontent.com/brunoalvarez89/data/master/algorithms_in_bioinformatics/part_1/alphabet\"\n",
    "alphabet_file = data_dir + \"Matrices/alphabet\"\n",
    "alphabet = np.loadtxt(alphabet_file, dtype=str)\n",
    "\n",
    "#alphabet"
   ]
  },
  {
   "cell_type": "markdown",
   "metadata": {
    "colab_type": "text",
    "id": "W9gXnUjBqj2n"
   },
   "source": [
    "### Blosum50 Matrix"
   ]
  },
  {
   "cell_type": "code",
   "execution_count": 16,
   "metadata": {
    "colab": {},
    "colab_type": "code",
    "id": "swFnQVa2qi5b"
   },
   "outputs": [],
   "source": [
    "#blosum50_file = \"https://raw.githubusercontent.com/brunoalvarez89/data/master/algorithms_in_bioinformatics/part_1/blosum50\"\n",
    "blosum50_file = data_dir + \"Matrices/blosum50\"\n",
    "_blosum50 = np.loadtxt(blosum50_file, dtype=float)\n",
    "\n",
    "blosum50 = {}\n",
    "\n",
    "for i, letter_1 in enumerate(alphabet):\n",
    "    \n",
    "    blosum50[letter_1] = {}\n",
    "\n",
    "    for j, letter_2 in enumerate(alphabet):\n",
    "        \n",
    "        blosum50[letter_1][letter_2] = _blosum50[i, j]\n",
    "\n",
    "#blosum50[\"A\"][\"A\"]"
   ]
  },
  {
   "cell_type": "markdown",
   "metadata": {
    "colab_type": "text",
    "id": "z7t_jDOUqZSV"
   },
   "source": [
    "### Load two sequences to plot similarity heatmap"
   ]
  },
  {
   "cell_type": "code",
   "execution_count": 15,
   "metadata": {
    "colab": {},
    "colab_type": "code",
    "id": "cPRy1UxyqItd"
   },
   "outputs": [],
   "source": [
    "#sequence_1_file = \"https://raw.githubusercontent.com/brunoalvarez89/data/master/algorithms_in_bioinformatics/part_1/sequence_1\"\n",
    "sequence_1_file = data_dir + \"Intro/1PLC._.tab\"\n",
    "sequence_1_id = np.loadtxt(sequence_1_file, dtype=str)[0]\n",
    "sequence_1 = np.loadtxt(sequence_1_file, dtype=str)[1]\n",
    "\n",
    "#sequence_1_id, sequence_1\n",
    "\n",
    "#sequence_2_file = \"https://raw.githubusercontent.com/brunoalvarez89/data/master/algorithms_in_bioinformatics/part_1/sequence_2\"\n",
    "sequence_2_file = data_dir + \"Intro/1PLB._.tab\"\n",
    "\n",
    "sequence_2_id = np.loadtxt(sequence_2_file, dtype=str)[0]\n",
    "sequence_2 = np.loadtxt(sequence_2_file, dtype=str)[1]\n",
    "\n",
    "#equence_2_id, sequence_2"
   ]
  },
  {
   "cell_type": "markdown",
   "metadata": {
    "colab_type": "text",
    "id": "9RLhYptZrRlL"
   },
   "source": [
    "## Score Matrix\n",
    "\n",
    "## Define the score_matrix[i,j] to be the blosum score of matching the amino acid at position i in sequence1 against the amino acid at position j in sequence2 "
   ]
  },
  {
   "cell_type": "code",
   "execution_count": 14,
   "metadata": {
    "colab": {},
    "colab_type": "code",
    "id": "oTP7i2emraP3"
   },
   "outputs": [
    {
     "data": {
      "text/plain": [
       "array([-1., -4.,  4., -3.,  2., -4., -3., -4., -4., -4., -4.,  2.,  4.,\n",
       "        0., -3., -3., -3., -3.,  0., -1.,  4., -1., -1., -4., -4., -3.,\n",
       "        5., -1.,  0., -3., -3., -3., -1., -4.,  0., -3., -4., -3.,  5.,\n",
       "        4.,  0., -4., -4., -4., -4.,  4., -3., -1., -4.,  4., -3., -1.,\n",
       "       -4., -3.,  5., -3., -3., -3., -4., -1.,  2., -3., -4., -1., -4.,\n",
       "       -4., -1., -1., -4.,  4., -1.,  2., -1., -4., -3., -4., -1., -1.,\n",
       "       -3.,  0., -1., -2., -4., -3., -4., -1., -4., -1., -4.,  2., -3.,\n",
       "       -4., -4.,  4., -1.,  4., -3.])"
      ]
     },
     "execution_count": 14,
     "metadata": {},
     "output_type": "execute_result"
    }
   ],
   "source": [
    "score_matrix = np.zeros(shape=(len(sequence_1), len(sequence_2)))\n",
    "\n",
    "M = score_matrix.shape[0]\n",
    "N = score_matrix.shape[1]\n",
    "\n",
    "for i in range(0, M):\n",
    "    \n",
    "    for j in range(0, N):\n",
    "        \n",
    "        score_matrix[i, j] = blosum50[sequence_1[i]][sequence_2[j]]\n",
    "\n",
    "score_matrix[0]"
   ]
  },
  {
   "cell_type": "markdown",
   "metadata": {
    "colab_type": "text",
    "id": "SmcpQsKYtLkP"
   },
   "source": [
    "## Plotting the result"
   ]
  },
  {
   "cell_type": "code",
   "execution_count": 13,
   "metadata": {
    "colab": {
     "base_uri": "https://localhost:8080/",
     "height": 646
    },
    "colab_type": "code",
    "id": "VC7MPJh8tNE1",
    "outputId": "9535d106-2a8e-4d3d-fcef-61325ee3c775"
   },
   "outputs": [
    {
     "data": {
      "image/png": "[encoded data removed]",
      "text/plain": [
       "<Figure size 800x800 with 2 Axes>"
      ]
     },
     "metadata": {},
     "output_type": "display_data"
    }
   ],
   "source": [
    "fig = plt.figure(figsize=(10, 10), dpi= 80)\n",
    "\n",
    "plt.imshow(score_matrix, cmap=\"coolwarm\")\n",
    "plt.ylabel(sequence_1_id, fontsize=18);\n",
    "plt.xlabel(sequence_2_id, fontsize=18);\n",
    "plt.colorbar();"
   ]
  },
  {
   "cell_type": "code",
   "execution_count": null,
   "metadata": {
    "collapsed": true
   },
   "outputs": [],
   "source": []
  }
 ],
 "metadata": {
  "colab": {
   "collapsed_sections": [],
   "name": "fasta2scoremat.ipynb",
   "provenance": [],
   "version": "0.3.2"
  },
  "kernelspec": {
   "display_name": "Python 3 (ipykernel)",
   "language": "python",
   "name": "python3"
  },
  "language_info": {
   "codemirror_mode": {
    "name": "ipython",
    "version": 3
   },
   "file_extension": ".py",
   "mimetype": "text/x-python",
   "name": "python",
   "nbconvert_exporter": "python",
   "pygments_lexer": "ipython3",
   "version": "3.9.13"
  }
 },
 "nbformat": 4,
 "nbformat_minor": 1
}
