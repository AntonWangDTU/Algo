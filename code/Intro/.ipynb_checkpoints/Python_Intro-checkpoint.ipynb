{
 "cells": [
  {
   "cell_type": "markdown",
   "metadata": {
    "colab_type": "text",
    "id": "k1jryPLl2N4v"
   },
   "source": [
    "# A very first Python program\n",
    "\n",
    "In this program we will:\n",
    "\n",
    "1.   Load a peptide-target list using NumPy.\n",
    "2.   Keep only 9mer peptides.\n",
    "3.   Discard peptides using a target value threshold.\n",
    "4.   Print the filtered result.\n",
    "5.   Download the notebook as a Python file (.py).\n",
    "6.   Implement a command line parser in the .py file.\n",
    "\n",
    "In the code below, some parts have been blanked out with XX. Fill in the codee these places.\n",
    "\n",
    "Note that if you are using python2 you might want to remove the \"()\" parentheses in the print commands"
   ]
  },
  {
   "cell_type": "markdown",
   "metadata": {
    "colab_type": "text",
    "id": "DqFNw4eB7kto"
   },
   "source": [
    "## Import NumPy"
   ]
  },
  {
   "cell_type": "code",
   "execution_count": 6,
   "metadata": {
    "colab": {},
    "colab_type": "code",
    "id": "h0qSv-4b8Guv"
   },
   "outputs": [],
   "source": [
    "import numpy as np"
   ]
  },
  {
   "cell_type": "markdown",
   "metadata": {},
   "source": [
    "## DEFINE THE PATH TO YOUR COURSE DATA DIRECTORY"
   ]
  },
  {
   "cell_type": "code",
   "execution_count": 19,
   "metadata": {},
   "outputs": [],
   "source": [
    "data_dir = \"../../data/\""
   ]
  },
  {
   "cell_type": "markdown",
   "metadata": {
    "colab_type": "text",
    "id": "_912dz2c2UqV"
   },
   "source": [
    "## Load peptides-targets data"
   ]
  },
  {
   "cell_type": "markdown",
   "metadata": {
    "colab_type": "text",
    "id": "gRgEjFMsJagb"
   },
   "source": [
    "**Specify file path**"
   ]
  },
  {
   "cell_type": "code",
   "execution_count": 20,
   "metadata": {
    "colab": {},
    "colab_type": "code",
    "id": "Q2PeUd9HJfqK"
   },
   "outputs": [],
   "source": [
    "peptides_targets_file = data_dir + \"Intro/test.dat\""
   ]
  },
  {
   "cell_type": "markdown",
   "metadata": {
    "colab_type": "text",
    "id": "MWQOUAeuJg2Z"
   },
   "source": [
    "**Load the file with the numpy text parser *np.loadtxt* and reshape it into a numpy array of shape (-1, 2)** \n",
    "\n",
    "*This means \"give me all the rows you want, but I demand only 2 columns\", and ensures the [PEPTIDE, TARGET_VALUE] structure we want*"
   ]
  },
  {
   "cell_type": "code",
   "execution_count": 32,
   "metadata": {
    "colab": {},
    "colab_type": "code",
    "id": "eEkhTa6x2Y7W"
   },
   "outputs": [],
   "source": [
    "peptides_targets = np.loadtxt(peptides_targets_file, dtype=object)"
   ]
  },
  {
   "cell_type": "markdown",
   "metadata": {
    "colab_type": "text",
    "id": "GjBgBE0vBAMS"
   },
   "source": [
    "**Check the shape of your newly created numpy array**"
   ]
  },
  {
   "cell_type": "code",
   "execution_count": 33,
   "metadata": {
    "colab": {
     "base_uri": "https://localhost:8080/",
     "height": 35
    },
    "colab_type": "code",
    "id": "D1JCmdjbBF1R",
    "outputId": "6ee68755-cfd9-4455-abd4-491e27f4259e"
   },
   "outputs": [
    {
     "name": "stdout",
     "output_type": "stream",
     "text": [
      "(86, 2)\n"
     ]
    }
   ],
   "source": [
    "print(peptides_targets.shape)"
   ]
  },
  {
   "cell_type": "markdown",
   "metadata": {
    "colab_type": "text",
    "id": "EvtKC_Wt8Im4"
   },
   "source": [
    "## Store peptides in vector"
   ]
  },
  {
   "cell_type": "markdown",
   "metadata": {
    "colab_type": "text",
    "id": "R416IojpJOld"
   },
   "source": [
    "**Fish out the peptides from the loaded file using array indexing and slicing**"
   ]
  },
  {
   "cell_type": "code",
   "execution_count": 34,
   "metadata": {
    "colab": {},
    "colab_type": "code",
    "id": "M3HqNiVP8N-g"
   },
   "outputs": [],
   "source": [
    "peptides = peptides_targets[:, 0]"
   ]
  },
  {
   "cell_type": "markdown",
   "metadata": {
    "colab_type": "text",
    "id": "EI7Dkk21Bsau"
   },
   "source": [
    "**Check that *peptides* has the same data type as *peptides_targets***"
   ]
  },
  {
   "cell_type": "code",
   "execution_count": 35,
   "metadata": {
    "colab": {
     "base_uri": "https://localhost:8080/",
     "height": 35
    },
    "colab_type": "code",
    "id": "Q3Ezgt8iBs-a",
    "outputId": "b393991b-50a3-47da-937e-a44e8980d7b8"
   },
   "outputs": [
    {
     "name": "stdout",
     "output_type": "stream",
     "text": [
      "<class 'numpy.ndarray'> <class 'numpy.ndarray'>\n"
     ]
    }
   ],
   "source": [
    "print(type(peptides), type(peptides_targets))"
   ]
  },
  {
   "cell_type": "markdown",
   "metadata": {
    "colab_type": "text",
    "id": "QPGPlw7Y8L1o"
   },
   "source": [
    "## Store targets in vector"
   ]
  },
  {
   "cell_type": "markdown",
   "metadata": {
    "colab_type": "text",
    "id": "C3vmanxSKqSU"
   },
   "source": [
    "**Fish out the target values from the loaded file using array indexing and slicing**\n",
    "\n",
    "*Remember that we used a text parser to load the data. So, we need to cast this value to float somehow*\n",
    "\n",
    "*Hint, use a similar command as the one for fishing out the peptides, and add .astype(float)*"
   ]
  },
  {
   "cell_type": "code",
   "execution_count": 44,
   "metadata": {
    "colab": {},
    "colab_type": "code",
    "id": "G9jUb2jD8K9o"
   },
   "outputs": [],
   "source": [
    "targets = peptides_targets[:, 1].astype(float)"
   ]
  },
  {
   "cell_type": "markdown",
   "metadata": {
    "colab_type": "text",
    "id": "pHZa35jA9QWQ"
   },
   "source": [
    "## Keep 9mers only"
   ]
  },
  {
   "cell_type": "markdown",
   "metadata": {
    "colab_type": "text",
    "id": "dRxpMCW8K_g-"
   },
   "source": [
    "**Declare two Python lists to store peptides and targets**\n"
   ]
  },
  {
   "cell_type": "code",
   "execution_count": 46,
   "metadata": {
    "colab": {},
    "colab_type": "code",
    "id": "n71ED_jVLFuq"
   },
   "outputs": [
    {
     "data": {
      "text/plain": [
       "'VVMGTLVAL'"
      ]
     },
     "execution_count": 46,
     "metadata": {},
     "output_type": "execute_result"
    }
   ],
   "source": [
    "peptides_9mer = []\n",
    "targets_9mer = []\n"
   ]
  },
  {
   "cell_type": "markdown",
   "metadata": {
    "colab_type": "text",
    "id": "0C41oLDJLJ3j"
   },
   "source": [
    "**Iterate over the elements of the peptides list and keep peptides with length == 9 using the .append command**"
   ]
  },
  {
   "cell_type": "code",
   "execution_count": 49,
   "metadata": {
    "colab": {},
    "colab_type": "code",
    "id": "LmcTp6-09Ts5"
   },
   "outputs": [],
   "source": [
    "for i in range(0, len(peptides)):\n",
    "    \n",
    "    if len(peptides[i]) == 9:\n",
    "        \n",
    "        peptides_9mer.append(peptides[i])\n",
    "        \n",
    "        targets_9mer.append(targets[i])"
   ]
  },
  {
   "cell_type": "markdown",
   "metadata": {
    "colab_type": "text",
    "id": "4OtBG1Im9ulE"
   },
   "source": [
    "## Remove peptides with target value < threshold"
   ]
  },
  {
   "cell_type": "markdown",
   "metadata": {
    "colab_type": "text",
    "id": "4dILpD5tLY2b"
   },
   "source": [
    "**Declare a threshold variable**"
   ]
  },
  {
   "cell_type": "code",
   "execution_count": 50,
   "metadata": {
    "colab": {},
    "colab_type": "code",
    "id": "qbjl3LPzLc43"
   },
   "outputs": [],
   "source": [
    "threshold = 0.5"
   ]
  },
  {
   "cell_type": "markdown",
   "metadata": {
    "colab_type": "text",
    "id": "wy_21lb6Le4m"
   },
   "source": [
    "**Declare python list to store the indexes of the elements to be removed**"
   ]
  },
  {
   "cell_type": "code",
   "execution_count": 51,
   "metadata": {
    "colab": {},
    "colab_type": "code",
    "id": "X8hy0x6ZLmKL"
   },
   "outputs": [],
   "source": [
    "to_remove = []"
   ]
  },
  {
   "cell_type": "markdown",
   "metadata": {
    "colab_type": "text",
    "id": "dX_cZG96Lqu6"
   },
   "source": [
    "**Iterate over the 9mer peptides, check which target values < threshold, and store the indexes in the to_remove  array**"
   ]
  },
  {
   "cell_type": "code",
   "execution_count": 16,
   "metadata": {
    "colab": {},
    "colab_type": "code",
    "collapsed": true,
    "id": "jEvZBlk7937g"
   },
   "outputs": [],
   "source": [
    "for i in range(0, len(peptides_9mer)):\n",
    "        \n",
    "        if targets_9mer[i] < threshold:\n",
    "\n",
    "            to_remove.append(i)"
   ]
  },
  {
   "cell_type": "markdown",
   "metadata": {
    "colab_type": "text",
    "id": "Sfc73VfLI7bp"
   },
   "source": [
    "**Use the *delete* NumPy function to remove the peptides**"
   ]
  },
  {
   "cell_type": "code",
   "execution_count": 17,
   "metadata": {
    "colab": {},
    "colab_type": "code",
    "collapsed": true,
    "id": "P414S1iAJFIy"
   },
   "outputs": [],
   "source": [
    "peptides_9mer_t = np.delete(peptides_9mer, to_remove)\n",
    "targets_9mer_t = np.delete(targets_9mer, to_remove)"
   ]
  },
  {
   "cell_type": "markdown",
   "metadata": {
    "colab_type": "text",
    "id": "3FA9JnAoEABq"
   },
   "source": [
    "**Check that no elements with target < threshold are present in the target values array**"
   ]
  },
  {
   "cell_type": "code",
   "execution_count": 18,
   "metadata": {
    "colab": {
     "base_uri": "https://localhost:8080/",
     "height": 35
    },
    "colab_type": "code",
    "id": "UoA2Yvf4DrQ6",
    "outputId": "b5b68276-8ef9-4fde-d33d-33203a7a0b6a"
   },
   "outputs": [
    {
     "name": "stdout",
     "output_type": "stream",
     "text": [
      "Success\n"
     ]
    }
   ],
   "source": [
    "error = False\n",
    "\n",
    "for i in range(0, len(peptides_9mer_t)):\n",
    "        \n",
    "        if targets_9mer_t[i] < threshold:\n",
    "\n",
    "            error = True\n",
    "            \n",
    "            break\n",
    "\n",
    "if error:\n",
    "\n",
    "    print(\"Something went wrong\")\n",
    "    \n",
    "else:\n",
    "    \n",
    "    print(\"Success\")"
   ]
  },
  {
   "cell_type": "markdown",
   "metadata": {
    "colab_type": "text",
    "id": "Fikz83I99CQY"
   },
   "source": [
    "## Print the final, filtered peptide-target pairs"
   ]
  },
  {
   "cell_type": "markdown",
   "metadata": {
    "colab_type": "text",
    "id": "QEcVr4NsMc2M"
   },
   "source": [
    "**Ensure that this output is consistent with the data filtering steps you have made!**"
   ]
  },
  {
   "cell_type": "code",
   "execution_count": 0,
   "metadata": {
    "colab": {
     "base_uri": "https://localhost:8080/",
     "height": 3417
    },
    "colab_type": "code",
    "id": "In0HXAvv9FIx",
    "outputId": "d4245a13-5d50-4450-b2b2-5a4d9b035560"
   },
   "outputs": [
    {
     "name": "stdout",
     "output_type": "stream",
     "text": [
      "ILYQVPFSV 0.8532\n",
      "VVMGTLVAL 0.5891\n",
      "KILSVFFLA 0.8512\n",
      "HLYQGCQVV 0.5386\n",
      "YLDLALMSV 0.8425\n",
      "ALAKAAAAA 0.5631\n",
      "MALLRLPLV 0.6337\n",
      "FLLTRILTI 0.8027\n",
      "ILSSLGLPV 0.6384\n",
      "RMYGVLPWI 0.6889\n",
      "YLEPGPVTV 0.6472\n",
      "FLPWHRLFL 0.5637\n",
      "LLPSLFLLL 0.5537\n",
      "MLQDMAILT 0.5269\n",
      "GLMTAVYLV 0.798\n",
      "GLYSSTVPV 0.6972\n",
      "SLYFGGICV 0.7819\n",
      "GLYYLTTEV 0.7195\n",
      "ALYGALLLA 0.8176\n",
      "IMPGQEAGL 0.6144\n",
      "WLSLLVPFV 0.8221\n",
      "YLVAYQATV 0.6391\n",
      "WLDQVPFSV 0.7742\n",
      "KTWGQYWQV 0.778\n",
      "GLLGWSPQA 0.7929\n",
      "YMLDLQPET 0.6538\n",
      "HLAVIGALL 0.5714\n",
      "MMWYWGPSL 0.7704\n",
      "FLLRWEQEI 0.7004\n",
      "IIDQVPFSV 0.6591\n",
      "SVYVDAKLV 0.5725\n",
      "RLLDDTPEV 0.578\n",
      "IAATYNFAV 0.5812\n",
      "YLVSFGVWI 0.9406\n",
      "ILLLCLIFL 0.5414\n",
      "LLLCLIFLL 0.6989\n",
      "GLQDCTMLV 0.7101\n",
      "FTDQVPFSV 0.6195\n",
      "YLAPGPVTA 0.794\n",
      "GLLGNVSTV 0.7063\n",
      "GTLGIVCPI 0.5033\n",
      "YLEPGPVTI 0.6142\n",
      "LLFLGVVFL 0.6384\n",
      "SLAGFVRML 0.5646\n",
      "GLYLSQIAV 0.578\n",
      "KLTPLCVTL 0.5725\n",
      "YLYPGPVTA 0.7387\n",
      "TVLRFVPPL 0.5986\n",
      "ILSPFMPLL 0.6482\n",
      "FVWLHYYSV 0.7491\n",
      "ILDQVPFSV 0.6348\n",
      "VLIQRNPQL 0.7114\n",
      "LMAVVLASL 0.5646\n",
      "FLLLADARV 0.7333\n",
      "RMPAVTDLV 0.5537\n",
      "YLSQIAVLL 0.7695\n",
      "GLIMVLSFL 0.7144\n",
      "LLWQDPVPA 0.6474\n",
      "KIFGSLAFL 0.6761\n",
      "GIRPYEILA 0.6767\n",
      "LLCLIFLLV 0.5735\n",
      "FLYGAALLA 0.887\n",
      "VILGVLLLI 0.5286\n",
      "LLFLLLADA 0.5027\n",
      "QLFHLCLII 0.5501\n",
      "AVIGALLAV 0.7333\n",
      "HMWNFISGI 0.7485\n",
      "ITFQVPFSV 0.6125\n",
      "VLLLDVTPL 0.6384\n",
      "PLLPIFFCL 0.5586\n",
      "ALLSDWLPA 0.5797\n",
      "FAFRDLCIV 0.5665\n",
      "TLGIVCPIC 0.5667\n",
      "GLYRQWALA 0.5176\n",
      "YLSPGPVTA 0.6559\n",
      "NMVPFFPPV 0.873\n",
      "RLLGSLNST 0.5271\n",
      "FLCWGPFFL 0.6627\n",
      "YLMPGPVTV 0.7727\n",
      "YLAPGPVTV 0.7485\n",
      "ILSQVPFSV 0.7231\n",
      "FLEPGPVTA 0.5527\n",
      "ALAKAAAAM 0.6591\n",
      "YLWPGPVTA 0.8925\n",
      "SLDDYNHLV 0.6984\n",
      "SIISAVVGI 0.6082\n",
      "ILMQVPFSV 0.8138\n",
      "DLMGYIPLV 0.595\n",
      "VLLDYQGML 0.5946\n",
      "YMDDVVLGV 0.8512\n",
      "RLPLVLPAV 0.8493\n",
      "LMIGTAAAV 0.5961\n",
      "FLYGALVLA 0.6614\n",
      "VLAKDGTEV 0.6114\n",
      "MLGTHTMEV 0.7542\n",
      "FLYNRPLSV 0.6195\n",
      "RLLQETELV 0.7195\n",
      "LLFGYPVYV 0.7629\n",
      "YLLPAIVHI 0.7329\n",
      "VLTALLAGL 0.5927\n",
      "DMWEHAFYL 0.5486\n",
      "YAIDLPVSV 0.7448\n",
      "YLWPGPVTV 0.8138\n",
      "IVGAETFYV 0.8842\n",
      "ITMQVPFSV 0.6591\n",
      "ITYQVPFSV 0.6765\n",
      "GILTVILGV 0.86\n",
      "SLLEIGEGV 0.5763\n",
      "VLAGLLGNV 0.7278\n",
      "ALVGLFVLL 0.6921\n",
      "SVYDFFVWL 0.6359\n",
      "ALVLLMLPV 0.6821\n",
      "HLYSHPIIL 0.6023\n",
      "IMDQVPFSV 0.7274\n",
      "FLWGPRALV 0.6201\n",
      "FLYGALALA 0.9191\n",
      "YTDQVPFSV 0.5884\n",
      "YMDDVVLGA 0.5103\n",
      "ILWQVPFSV 0.9511\n",
      "ALMPLYACI 0.7872\n",
      "GLSRYVARL 0.6114\n",
      "YLMPGPVTA 0.8653\n",
      "KLFPEVIDL 0.509\n",
      "YLDQVPFSV 0.923\n",
      "YLSPGPVTV 0.711\n",
      "NLGNLNVSI 0.5997\n",
      "YMNGTMSQV 0.6591\n",
      "VMGTLVALV 0.6908\n",
      "ITDQVPFSV 0.5631\n",
      "SLYADSPSV 0.7144\n",
      "FLLSLGIHL 0.7985\n",
      "LLAVLYCLL 0.6761\n",
      "YLYPGPVTV 0.798\n",
      "FLDQVPFSV 0.9272\n",
      "CLTSTVQLV 0.5386\n",
      "LLDVPTAAV 0.7382\n",
      "AMVGAVLTA 0.6003\n",
      "ALCRWGLLL 0.5744\n",
      "LLAQFTSAI 0.6384\n",
      "ILAGYGAGV 0.561\n",
      "AMLQDMAIL 0.5763\n",
      "FLYGALLAA 0.83\n",
      "WMNRLIAFA 0.5561\n",
      "YLFPGPVTV 0.8376\n",
      "SLLTFMIAA 0.7929\n",
      "YTYKWETFL 0.6889\n",
      "ITAQVPFSV 0.5786\n",
      "RLMKQDFSV 0.6463\n",
      "VVLGVVFGI 0.7542\n",
      "MTYAAPLFV 0.7574\n",
      "FLYGALRLA 0.8189\n",
      "ILHNGAYSL 0.6014\n",
      "FLYGGLLLA 0.9913\n",
      "ALTVVWLLV 0.5516\n",
      "YLYVHSPAL 0.8442\n",
      "NLYVSLLLL 0.5986\n",
      "YVITTQHWL 0.5482\n",
      "SVMDPLIYA 0.5912\n",
      "ILAQVPFSV 0.7742\n",
      "RIWSWLLGA 0.5744\n",
      "LLFRFMRPL 0.6695\n",
      "AMKADIQHV 0.5269\n",
      "LLWSFQTSA 0.7485\n",
      "YLFPGPVTA 0.8925\n",
      "YMIMVKCWM 0.5027\n",
      "IAGGVMAVV 0.5122\n",
      "GLVDFVKHI 0.5027\n",
      "SLLPAIVEL 0.7063\n",
      "ITWQVPFSV 0.6716\n",
      "QLFEDNYAL 0.737\n",
      "ALMDKSLHV 0.7376\n",
      "LLLLGLWGL 0.7144\n",
      "ALLAGLVSL 0.5993\n",
      "RLVSGLVGA 0.5356\n",
      "LLAGLVSLL 0.5788\n",
      "FVVALIPLV 0.8125\n",
      "VLVGGVLAA 0.5173\n",
      "YALTVVWLL 0.5582\n",
      "VLLPSLFLL 0.6689\n",
      "LLLEAGALV 0.8242\n",
      "FLYGALLLA 0.9117\n",
      "YLLALRYLA 0.7872\n",
      "ILFTFLHLA 0.8442\n",
      "LLWFHISCL 0.5067\n",
      "RMFAANLGV 0.6695\n",
      "YLEPGPVTL 0.5867\n",
      "GLFLTTEAV 0.6827\n"
     ]
    }
   ],
   "source": [
    "for i in range(0, len(peptides_9mer_t)):\n",
    "    \n",
    "    print(peptides_9mer_t[i], targets_9mer_t[i])"
   ]
  },
  {
   "cell_type": "markdown",
   "metadata": {
    "colab_type": "text",
    "id": "gN3Gl8NKHulG"
   },
   "source": [
    "## Adding a command line parser"
   ]
  },
  {
   "cell_type": "code",
   "execution_count": 0,
   "metadata": {
    "colab": {},
    "colab_type": "code",
    "collapsed": true,
    "id": "gq-mxx0fH1pL"
   },
   "outputs": [],
   "source": [
    "################################\n",
    "# ADDING A COMMAND LINE PARSER #\n",
    "################################\n",
    "\n",
    "# For this step, we need first to import an argument parser\n",
    "# to do this, add the following line just below the numpy import:\n",
    "\n",
    "# from argparse import ArgumentParser\n",
    "\n",
    "# We will now create an argument parser that will receive as arguments two values\n",
    "# 1) the peptides-targets file to open (-f option)\n",
    "# 2) the threshold to be applied in the target value filtering step (-t option)\n",
    "# To achieve this, add the following lines below the ArgumentParser import line:\n",
    "\n",
    "\n",
    "# parser = ArgumentParser(description=\"A very first Python program\")\n",
    "# parser.add_argument(\"-t\", action=\"store\", dest=\"threshold\", type=float, default=0.5, help=\"Target value filtering threshold (default: 0.5)\")\n",
    "# parser.add_argument(\"-f\", action=\"store\", dest=\"peptides_targets_file\", type=str, help=\"Peptides-Targets file\")\n",
    "# args = parser.parse_args()\n",
    "# threshold = args.threshold\n",
    "# peptides_targets_file = args.peptides_targets_file\n",
    "\n",
    "\n",
    "# After adding these lines, you will now be able to call this python program \n",
    "# from the terminal while specifying these arguments:\n",
    "\n",
    "\n",
    "# python Python_Intro.py -t some_threshold -f file_with_peptides_and_targets\n",
    "\n",
    "# Note you can also parse switches with the ArgumentParser, i.e \n",
    "# parser.add_argument('-w', action='store_true', default=False, dest='sequence_weighting', help='Use sequence weighting')\n",
    "\n",
    "\n",
    "# REMEMBER!\n",
    "# 1) The argument parser needs to be declared on the beginning of the script, right after the imports\n",
    "# 2) In order for this program to work properly after adding the parser, you must now comment or delete \n",
    "#    the previous declarations of the variables \"threshold\" and \"peptides_target_file\""
   ]
  },
  {
   "cell_type": "markdown",
   "metadata": {},
   "source": [
    "# Now download this as a Python file (File -> Save as .py), and continue working with this file offline\n",
    "\n",
    "## Modify the code to include a command line parser to allow the program to accept three options \n",
    "\n",
    "1. -t THRESHOLD          Target value filtering threshold (default: 0.5)\n",
    "\n",
    "2. -f PEPTIDES_TARGETS_FILE Peptides-Targets file\n",
    "\n",
    "3. -l PEPLEN_THRESHOLD   Peptide length (default: 9)"
   ]
  },
  {
   "cell_type": "code",
   "execution_count": null,
   "metadata": {
    "collapsed": true
   },
   "outputs": [],
   "source": []
  }
 ],
 "metadata": {
  "colab": {
   "collapsed_sections": [],
   "name": "part_0.ipynb",
   "provenance": [],
   "version": "0.3.2"
  },
  "kernelspec": {
   "display_name": "Python 3 (ipykernel)",
   "language": "python",
   "name": "python3"
  },
  "language_info": {
   "codemirror_mode": {
    "name": "ipython",
    "version": 3
   },
   "file_extension": ".py",
   "mimetype": "text/x-python",
   "name": "python",
   "nbconvert_exporter": "python",
   "pygments_lexer": "ipython3",
   "version": "3.9.13"
  }
 },
 "nbformat": 4,
 "nbformat_minor": 1
}
