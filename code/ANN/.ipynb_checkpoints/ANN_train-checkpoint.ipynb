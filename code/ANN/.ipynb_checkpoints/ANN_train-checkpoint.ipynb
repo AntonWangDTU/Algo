{
 "cells": [
  {
   "cell_type": "markdown",
   "metadata": {
    "colab_type": "text",
    "id": "RTK1nItb69_J"
   },
   "source": [
    "# Neural Networks\n",
    "\n",
    "### Fill out the parts with XXX's"
   ]
  },
  {
   "cell_type": "markdown",
   "metadata": {
    "colab_type": "text",
    "id": "GtI1xFfVEhMn"
   },
   "source": [
    "## Python Imports"
   ]
  },
  {
   "cell_type": "code",
   "execution_count": 50,
   "metadata": {
    "colab": {},
    "colab_type": "code",
    "id": "FS1w6JnSoC_P"
   },
   "outputs": [],
   "source": [
    "import numpy as np\n",
    "import matplotlib.pyplot as plt\n",
    "from scipy.stats import pearsonr\n",
    "\n",
    "%matplotlib inline  "
   ]
  },
  {
   "cell_type": "markdown",
   "metadata": {
    "colab_type": "text",
    "id": "gebtcRWKgJmw"
   },
   "source": [
    "## Data Imports"
   ]
  },
  {
   "cell_type": "markdown",
   "metadata": {
    "colab_type": "text",
    "id": "Yds3ozYytl8j"
   },
   "source": [
    "## DEFINE THE PATH TO YOUR COURSE DIRECTORY"
   ]
  },
  {
   "cell_type": "code",
   "execution_count": 51,
   "metadata": {
    "colab": {},
    "colab_type": "code",
    "id": "GhoWNOG7tl8k"
   },
   "outputs": [],
   "source": [
    "data_dir = \"../../data/\""
   ]
  },
  {
   "cell_type": "markdown",
   "metadata": {},
   "source": [
    "### Define run time parameters"
   ]
  },
  {
   "cell_type": "code",
   "execution_count": 52,
   "metadata": {},
   "outputs": [],
   "source": [
    "# Define if we are using blosum or sparse encoding\n",
    "# blosum_scheme = False\n",
    "blosum_scheme = True"
   ]
  },
  {
   "cell_type": "markdown",
   "metadata": {
    "colab_type": "text",
    "id": "IhPjK1U6NUNE"
   },
   "source": [
    "### Alphabet"
   ]
  },
  {
   "cell_type": "code",
   "execution_count": 53,
   "metadata": {
    "colab": {},
    "colab_type": "code",
    "id": "22EsO9nHhUSn"
   },
   "outputs": [],
   "source": [
    "alphabet_file = data_dir + \"Matrices/alphabet\"\n",
    "#alphabet_file = \"https://raw.githubusercontent.com/brunoalvarez89/data/master/algorithms_in_bioinformatics/part_3/alphabet\"\n",
    "\n",
    "alphabet = np.loadtxt(alphabet_file, dtype=str)"
   ]
  },
  {
   "cell_type": "markdown",
   "metadata": {
    "colab_type": "text",
    "id": "6vAARkOhNaIR"
   },
   "source": [
    "### Blosum50 Encoding Scheme"
   ]
  },
  {
   "cell_type": "code",
   "execution_count": 54,
   "metadata": {
    "colab": {},
    "colab_type": "code",
    "id": "IX7KtVV9Is60"
   },
   "outputs": [],
   "source": [
    "blosum_file = data_dir + \"Matrices/blosum50\"\n",
    "#blosum_file = \"https://raw.githubusercontent.com/brunoalvarez89/data/master/algorithms_in_bioinformatics/part_3/blosum50\"\n",
    "\n",
    "_blosum50 = np.loadtxt(blosum_file, dtype=float).reshape((24, -1)).T\n",
    "\n",
    "blosum50 = {}\n",
    "\n",
    "for i, letter_1 in enumerate(alphabet):\n",
    "    \n",
    "    blosum50[letter_1] = {}\n",
    "\n",
    "    for j, letter_2 in enumerate(alphabet):\n",
    "        \n",
    "        blosum50[letter_1][letter_2] = _blosum50[i, j] / 5.0"
   ]
  },
  {
   "cell_type": "markdown",
   "metadata": {},
   "source": [
    "### Sparse Encoding Scheme"
   ]
  },
  {
   "cell_type": "code",
   "execution_count": 55,
   "metadata": {},
   "outputs": [],
   "source": [
    "sparse_file = data_dir + \"Matrices/sparse\"\n",
    "_sparse = np.loadtxt(sparse_file, dtype=float)\n",
    "sparse = {}\n",
    "\n",
    "for i, letter_1 in enumerate(alphabet):\n",
    "\n",
    "    sparse[letter_1] = {}\n",
    "\n",
    "    for j, letter_2 in enumerate(alphabet):\n",
    "\n",
    "        sparse[letter_1][letter_2] = _sparse[i, j]"
   ]
  },
  {
   "cell_type": "markdown",
   "metadata": {
    "colab_type": "text",
    "id": "Y3VVxOm7N7e2"
   },
   "source": [
    "## Peptide Encoding"
   ]
  },
  {
   "cell_type": "code",
   "execution_count": 56,
   "metadata": {
    "colab": {},
    "colab_type": "code",
    "id": "nbDC1pxDN6Zq"
   },
   "outputs": [],
   "source": [
    "def encode(peptides, encoding_scheme, alphabet):\n",
    "    \n",
    "    encoded_peptides = []\n",
    "\n",
    "    for peptide in peptides:\n",
    "\n",
    "        encoded_peptide = []\n",
    "\n",
    "        for peptide_letter in peptide:\n",
    "\n",
    "            for alphabet_letter in alphabet:\n",
    "\n",
    "                encoded_peptide.append(encoding_scheme[peptide_letter][alphabet_letter])\n",
    "        \n",
    "        # add a 1 (bias)\n",
    "        encoded_peptide.append(1)\n",
    "        \n",
    "        # store peptide\n",
    "        encoded_peptides.append(encoded_peptide)\n",
    "        \n",
    "    return np.array(encoded_peptides)"
   ]
  },
  {
   "cell_type": "markdown",
   "metadata": {
    "colab_type": "text",
    "id": "fthOCEHqgRNl"
   },
   "source": [
    "## Neural Network Functions"
   ]
  },
  {
   "cell_type": "markdown",
   "metadata": {
    "colab_type": "text",
    "id": "wxMTWx41gLTN"
   },
   "source": [
    "### Error (RMS)"
   ]
  },
  {
   "cell_type": "code",
   "execution_count": 57,
   "metadata": {
    "colab": {},
    "colab_type": "code",
    "id": "LJPyml6agPb3"
   },
   "outputs": [],
   "source": [
    "def error(y, y_pred):\n",
    "    return 0.5*(y_pred - y)**2"
   ]
  },
  {
   "cell_type": "markdown",
   "metadata": {
    "colab_type": "text",
    "id": "F1Zisf3mgVkZ"
   },
   "source": [
    "### Activation (Sigmoid)"
   ]
  },
  {
   "cell_type": "code",
   "execution_count": 58,
   "metadata": {
    "colab": {},
    "colab_type": "code",
    "id": "D2VuJs8ugaiN"
   },
   "outputs": [],
   "source": [
    "def sigmoid(z):\n",
    "    return 1.0 / (1.0 + np.exp(-z))"
   ]
  },
  {
   "cell_type": "markdown",
   "metadata": {
    "colab_type": "text",
    "id": "5sDFPM3jgeeZ"
   },
   "source": [
    "### Derivative of Activation"
   ]
  },
  {
   "cell_type": "code",
   "execution_count": 59,
   "metadata": {
    "colab": {},
    "colab_type": "code",
    "id": "0piUuQ_ugjsw"
   },
   "outputs": [],
   "source": [
    "def sigmoid_prime(a):\n",
    "    return (1-a)*a"
   ]
  },
  {
   "cell_type": "markdown",
   "metadata": {
    "colab_type": "text",
    "id": "GJfPcRb1gmqr"
   },
   "source": [
    "### Forward Propagation"
   ]
  },
  {
   "cell_type": "code",
   "execution_count": 60,
   "metadata": {
    "colab": {},
    "colab_type": "code",
    "id": "5Pcp8_6JgzfP"
   },
   "outputs": [],
   "source": [
    "def forward(X, w1, w2):\n",
    "   \n",
    "    # get dimension, substracting the bias\n",
    "    input_layer_dim = w1.shape[0] - 1 \n",
    "    hidden_layer_dim = w2.shape[0] - 1\n",
    "    \n",
    "    ################\n",
    "    # hidden layer #\n",
    "    ################\n",
    "    \n",
    "    # activity of hidden layer\n",
    "    for j in range(hidden_layer_dim):\n",
    "        z = 0.0\n",
    "        for i in range(input_layer_dim+1):\n",
    "            z += X[0][i]* w1[i,j]\n",
    "        X[1][j] = sigmoid(z)\n",
    "    \n",
    "    ################\n",
    "    # output layer #\n",
    "    ################\n",
    "    \n",
    "    z = 0\n",
    "    for i in range(hidden_layer_dim+1):\n",
    "        z += X[1][i]*w2[i,0]\n",
    "    X[2][0] = sigmoid(z)"
   ]
  },
  {
   "cell_type": "markdown",
   "metadata": {
    "colab_type": "text",
    "id": "UG11EsKhg133"
   },
   "source": [
    "### Back Propagation (Gradient Descent)"
   ]
  },
  {
   "cell_type": "code",
   "execution_count": 61,
   "metadata": {
    "colab": {},
    "colab_type": "code",
    "id": "Z5266L34oC_T"
   },
   "outputs": [],
   "source": [
    "def back_prop(X, t, w_h, w_o, dj_dw_h, dj_dw_o):\n",
    "    \n",
    "    # dj_dw_h are the derivativs with respect to the weights\n",
    "    # connecting the input to the hidden layer\n",
    "    # dj_dw_o are the derivatics with respect to the weights\n",
    "    # connecting the hidden to the outout layer\n",
    "\n",
    "    # get dimension, substracting the bias\n",
    "    input_layer_dim = w_h.shape[0] - 1 \n",
    "    hidden_layer_dim = w_o.shape[0] - 1\n",
    "    \n",
    "    ##############################################    \n",
    "    # derivative of cost function respect to w_o #\n",
    "    # Remember X[2][0] is the prediction value,\n",
    "    # And dj_dw_o = dE/dw = dE/dO * dO/do * do/dw\n",
    "    ##############################################\n",
    "    \n",
    "    delta = (X[2][0] - t) * sigmoid_prime(X[2][0]) #XX\n",
    "    \n",
    "    for i in range(hidden_layer_dim+1):\n",
    "        \n",
    "        dj_dw_o[i] = delta * X[1][i] # XX\n",
    "    \n",
    "    ##############################################\n",
    "    # derivative of cost function respect to w_h #\n",
    "    # Remember dj_dw_h = dE/dv where v are the weight connecting\n",
    "    # the input to the hidden layer, and\n",
    "    # dE/dv = dE/dO * dO/do * do/dH * dH/dh * dh/dv\n",
    "    # where H is the output from hidden neuron j, and v is the\n",
    "    # weight connecting input neuron i to hidden neuron j\n",
    "    ##############################################\n",
    "    \n",
    "    for j in range(hidden_layer_dim):\n",
    "\n",
    "        delta2 = delta * w_o[j] * sigmoid_prime(X[1][j]) #XX\n",
    "        \n",
    "        for i in range (input_layer_dim+1): # +1 to include the input layer bias\n",
    "\n",
    "            dj_dw_h[i, j] = delta2 * X[0][i] #XX\n"
   ]
  },
  {
   "cell_type": "markdown",
   "metadata": {
    "colab_type": "text",
    "id": "aiGARmlIyK8h"
   },
   "source": [
    "### Save network to file"
   ]
  },
  {
   "cell_type": "code",
   "execution_count": 62,
   "metadata": {
    "colab": {},
    "colab_type": "code",
    "id": "FB-ljT8H8kZ7"
   },
   "outputs": [],
   "source": [
    "def save_network(file_name, w_h, w_o, lpcc, lerr, tpcc, terr, epochs):\n",
    "    \n",
    "    input_layer_dim = w_h.shape[0]\n",
    "    hidden_layer_dim = w_o.shape[0]\n",
    "    output_layer_dim = w_o.shape[1]\n",
    "\n",
    "    with open(file_name, 'w') as file:\n",
    "\n",
    "        \n",
    "        # run data\n",
    "        file.write(\"TESTRUNID\")\n",
    "        file.write(\" EPOCH: \" + str(epochs))\n",
    "        file.write(\" L_PCC: \" + str(lpcc))\n",
    "        file.write(\" L_ERR: \" + str(lerr))\n",
    "        file.write(\" T_PCC: \" + str(tpcc))\n",
    "        file.write(\" T_ERR: \" + str(terr))\n",
    "        file.write(\"\\n\")\n",
    "\n",
    "        # LAYER: 1 \n",
    "        file.write(str(input_layer_dim-1) + \" LAYER: 1\")\n",
    "        file.write(\"\\n\")\n",
    "\n",
    "        # LAYER: 2 \n",
    "        file.write(str(hidden_layer_dim-1) + \" LAYER: 2\")\n",
    "        file.write(\"\\n\")\n",
    "\n",
    "        # LAYER: 3\n",
    "        file.write(str(output_layer_dim) + \" LAYER: 3\")\n",
    "        file.write(\"\\n\")\n",
    "\n",
    "        # number of training cycles\n",
    "        # :ILEARN \n",
    "        file.write(str(epochs) + \" :ILEARN\")\n",
    "        file.write(\"\\n\")\n",
    "        \n",
    "        # network weights (five per line)\n",
    "        weights = [w_h, w_o]\n",
    "        \n",
    "        cnt = 0\n",
    "\n",
    "        for w in weights:\n",
    "\n",
    "            w = w.flatten()\n",
    "\n",
    "            for i in range(0, len(w)):\n",
    "\n",
    "                file.write(str(w[i]) + str(\"\\t\"))\n",
    "                \n",
    "                cnt += 1\n",
    "                \n",
    "                if cnt == 5:\n",
    "                    file.write(\"\\n\")\n",
    "                    cnt = 0\n",
    "                    \n",
    "        if cnt != 0:\n",
    "            file.write(\"\\n\")\n",
    "            \n",
    "            "
   ]
  },
  {
   "cell_type": "markdown",
   "metadata": {
    "colab_type": "text",
    "id": "wYKCvNimhKGN"
   },
   "source": [
    "## Network Architecture (Feed Forward)"
   ]
  },
  {
   "cell_type": "code",
   "execution_count": 63,
   "metadata": {
    "colab": {},
    "colab_type": "code",
    "id": "16VBk02qoC_Z"
   },
   "outputs": [],
   "source": [
    "def feed_forward_network(input_layer_dim, hidden_layer_dim, output_layer_dim):\n",
    "    \n",
    "    # layer dimensions\n",
    "    i_dim = input_layer_dim      # vector of shape (i_dim,) \n",
    "    h_dim = hidden_layer_dim     # matrix of shape (i_dim, h_dim)\n",
    "    o_dim = output_layer_dim     # matrix of shape (h_dim, o_dim)\n",
    "    \n",
    "    # hidden layer weights\n",
    "    # w_h[i, j] is the weight that links input's feature \"i\" to neuron \"j\" of the hidden layer\n",
    "    w_h = np.random.uniform(-0.1, 0.1, size=(i_dim+1)*h_dim).reshape(i_dim+1, h_dim)\n",
    "        \n",
    "    # output layer weights\n",
    "    # w_o[i, j] is the weight that links hidden layer's neuron \"i\" to neuron \"j\" of the output layer\n",
    "    # since we only have one output neuron, j = 1, and w_o behaves as a vector, not a matrix\n",
    "    w_o = np.random.uniform(-0.1, 0.1, size=(h_dim+1)*o_dim).reshape(h_dim+1, o_dim)\n",
    "    \n",
    "    # X matrix, X stores the output from each layer\n",
    "    X_dim = max(i_dim, h_dim, o_dim)\n",
    "    X = np.zeros(shape=(3, X_dim+1))\n",
    "    \n",
    "    # The last column of the X layer is one, to deal with the bias\n",
    "    X[0][input_layer_dim] = 1.0 \n",
    "    X[1][hidden_layer_dim] = 1.0\n",
    "    \n",
    "    # print network summary\n",
    "    print(\"NETWORK SUMMARY\")\n",
    "    print(\"---------------\" )\n",
    "    print(\"Input Layer shape:\", (1, input_layer_dim))\n",
    "    print(\"Hidden Layer shape:\", w_h.shape)\n",
    "    print(\"Output layer shape:\", w_o.shape)\n",
    "    print(\"Total parameters:\", (i_dim+1)*h_dim + (h_dim+1)*o_dim)\n",
    "    print(\"\")\n",
    "    \n",
    "    # return everything\n",
    "    return w_h, w_o, X"
   ]
  },
  {
   "cell_type": "markdown",
   "metadata": {
    "colab_type": "text",
    "id": "4hypMLZF7qgO"
   },
   "source": [
    "## Training Data"
   ]
  },
  {
   "cell_type": "code",
   "execution_count": 64,
   "metadata": {
    "colab": {},
    "colab_type": "code",
    "id": "tm9hz3I07rw2"
   },
   "outputs": [],
   "source": [
    "training_file = data_dir + \"ANN/A2403_training\"\n",
    "#training_file = data_dir + \"ANN/A0201_training\"\n",
    "training_data = np.loadtxt(training_file, dtype=str)\n",
    "\n",
    "peptides = training_data[:, 0]\n",
    "\n",
    "if blosum_scheme:\n",
    "    x_train = encode(peptides, blosum50, alphabet)\n",
    "else:\n",
    "    x_train = encode(peptides, sparse, alphabet)\n",
    "\n",
    "y_train = np.array(training_data[:, 1], dtype=float)"
   ]
  },
  {
   "cell_type": "markdown",
   "metadata": {
    "colab_type": "text",
    "id": "Wvd-bHF07r8y"
   },
   "source": [
    "## Evaluation Data"
   ]
  },
  {
   "cell_type": "code",
   "execution_count": 65,
   "metadata": {
    "colab": {},
    "colab_type": "code",
    "id": "IWqavwaU7s10"
   },
   "outputs": [],
   "source": [
    "evaluation_file = data_dir + \"ANN/A2403_evaluation\"\n",
    "#evaluation_file = data_dir + \"ANN/A0201_evaluation\"\n",
    "evaluation_data = np.loadtxt(evaluation_file, dtype=str)\n",
    "\n",
    "peptides = evaluation_data[:, 0]\n",
    "if blosum_scheme:\n",
    "    x_eval = encode(peptides, blosum50, alphabet)\n",
    "else:\n",
    "    x_eval = encode(peptides, sparse, alphabet)\n",
    "\n",
    "y_eval = np.array(evaluation_data[:, 1], dtype=float)"
   ]
  },
  {
   "cell_type": "markdown",
   "metadata": {
    "colab_type": "text",
    "id": "eYQR6p06Up8h"
   },
   "source": [
    "## Train Network"
   ]
  },
  {
   "cell_type": "code",
   "execution_count": 72,
   "metadata": {
    "colab": {
     "base_uri": "https://localhost:8080/",
     "height": 2686
    },
    "colab_type": "code",
    "id": "N0NbseaEoC_e",
    "outputId": "86a68421-5194-4efe-959b-9b17cecba970",
    "scrolled": false
   },
   "outputs": [
    {
     "name": "stdout",
     "output_type": "stream",
     "text": [
      "NETWORK SUMMARY\n",
      "---------------\n",
      "Input Layer shape: (1, 180)\n",
      "Hidden Layer shape: (181, 5)\n",
      "Output layer shape: (6, 1)\n",
      "Total parameters: 911\n",
      "\n"
     ]
    },
    {
     "name": "stderr",
     "output_type": "stream",
     "text": [
      "C:\\Users\\hostp\\AppData\\Local\\Temp\\ipykernel_21792\\3562349503.py:39: DeprecationWarning: Conversion of an array with ndim > 0 to a scalar is deprecated, and will error in future. Ensure you extract a single element from your array before performing this operation. (Deprecated NumPy 1.25.)\n",
      "  dj_dw_h[i, j] = delta2 * X[0][i]\n"
     ]
    },
    {
     "name": "stdout",
     "output_type": "stream",
     "text": [
      "# Dump network 0 Best MSE 0.0293341217554665 PCC 0.06256522485366085\n",
      "[0, 10] Train Error: 0.0436 | Train Perf: -0.0718 | Eval Error: 0.0293 | Eval Perf: 0.0626\n",
      "# Dump network 1 Best MSE 0.02559042066785279 PCC 0.16546868659472067\n",
      "[1, 10] Train Error: 0.0294 | Train Perf: -0.0164 | Eval Error: 0.0256 | Eval Perf: 0.1655\n",
      "# Dump network 2 Best MSE 0.024693337260006304 PCC 0.239282047681296\n",
      "[2, 10] Train Error: 0.0276 | Train Perf: 0.203 | Eval Error: 0.0247 | Eval Perf: 0.2393\n",
      "# Dump network 3 Best MSE 0.02431762101994412 PCC 0.29138571706944766\n",
      "[3, 10] Train Error: 0.0269 | Train Perf: 0.3523 | Eval Error: 0.0243 | Eval Perf: 0.2914\n",
      "# Dump network 4 Best MSE 0.024080988085314926 PCC 0.3276766363103308\n",
      "[4, 10] Train Error: 0.0264 | Train Perf: 0.4504 | Eval Error: 0.0241 | Eval Perf: 0.3277\n",
      "# Dump network 5 Best MSE 0.023861186080197765 PCC 0.3536633579640314\n",
      "[5, 10] Train Error: 0.0259 | Train Perf: 0.5047 | Eval Error: 0.0239 | Eval Perf: 0.3537\n",
      "# Dump network 6 Best MSE 0.02364520407805197 PCC 0.37303753121492156\n",
      "[6, 10] Train Error: 0.0254 | Train Perf: 0.5266 | Eval Error: 0.0236 | Eval Perf: 0.373\n",
      "# Dump network 7 Best MSE 0.02342719001815554 PCC 0.3883906081778218\n",
      "[7, 10] Train Error: 0.025 | Train Perf: 0.5631 | Eval Error: 0.0234 | Eval Perf: 0.3884\n",
      "# Dump network 8 Best MSE 0.023200941155654253 PCC 0.4005073955217085\n",
      "[8, 10] Train Error: 0.0245 | Train Perf: 0.5857 | Eval Error: 0.0232 | Eval Perf: 0.4005\n",
      "# Dump network 9 Best MSE 0.022968991580505613 PCC 0.4105004928935403\n",
      "[9, 10] Train Error: 0.0239 | Train Perf: 0.6082 | Eval Error: 0.023 | Eval Perf: 0.4105\n",
      "(181, 5)\n"
     ]
    }
   ],
   "source": [
    "# seed for this run\n",
    "np.random.seed(1)\n",
    "\n",
    "# create network\n",
    "input_layer_dim = 180\n",
    "hidden_layer_dim = 5\n",
    "output_layer_dim = 1\n",
    "\n",
    "w_h, w_o, X = feed_forward_network(input_layer_dim, hidden_layer_dim, output_layer_dim)\n",
    "\n",
    "# create backpropagation matrices\n",
    "dj_dw_h = np.zeros(shape=w_h.shape)\n",
    "dj_dw_o = np.zeros(shape=w_o.shape)\n",
    "\n",
    "\n",
    "# training epochs\n",
    "epochs = 10\n",
    "\n",
    "# learning rate\n",
    "epsilon = 0.05\n",
    "\n",
    "# data for plotting\n",
    "train_error = []\n",
    "train_perf = []\n",
    "eval_error = []\n",
    "eval_perf = []\n",
    "\n",
    "# early stopping\n",
    "early_stopping = True\n",
    "best_error = np.inf\n",
    "\n",
    "# define filename for synaps\n",
    "synfile_name = \"my_synaps\"\n",
    "\n",
    "#############\n",
    "# MAIN LOOP #\n",
    "#############\n",
    "\n",
    "# for each epoch\n",
    "for e in range(0, epochs):\n",
    "    \n",
    "    ############\n",
    "    # TRAINING #\n",
    "    ############\n",
    "    \n",
    "    train_error_acum = 0\n",
    "    y_preds_train = []\n",
    "    \n",
    "    # shuffle input\n",
    "    randomize = np.arange(len(x_train))\n",
    "    np.random.shuffle(randomize)\n",
    "    x_train, y_train = x_train[randomize], y_train[randomize]\n",
    "    \n",
    "    # loop\n",
    "    for i in range(0, len(x_train)):        \n",
    "        \n",
    "        # fetch training point\n",
    "        #x = x_train[i]\n",
    "        X[0] = x_train[i]\n",
    "        y = y_train[i]\n",
    "        \n",
    "        # forward propagation\n",
    "        #X = forward(X, w_h, w_o)\n",
    "        forward(X, w_h, w_o)\n",
    "        y_pred = X[2][0]\n",
    "        y_preds_train.append(y_pred)\n",
    "        \n",
    "        # back propagation\n",
    "        # dj_dw_h = dE/dv, v is weight between input and hidden layer\n",
    "        # dj_dw_o = dE/dw, wis weight between hidden and output layer\n",
    "        back_prop(X, y, w_h, w_o, dj_dw_h, dj_dw_o)\n",
    "        \n",
    "        # update weights & biases\n",
    "        w_h -= epsilon * dj_dw_h\n",
    "        w_o -= epsilon * dj_dw_o\n",
    "    \n",
    "        # store training error\n",
    "        train_error_acum += error(y, y_pred)\n",
    "\n",
    "    # store training performance\n",
    "    train_pcc = pearsonr(y_train, np.asarray(y_preds_train))[0]\n",
    "    train_perf.append(train_pcc)\n",
    "\n",
    "    # store mean training error\n",
    "    mean_train_error = train_error_acum/len(x_train)\n",
    "    train_error.append(mean_train_error)\n",
    "\n",
    "    ##############\n",
    "    # EVALUATION #\n",
    "    ##############\n",
    "    \n",
    "    eval_error_acum = 0\n",
    "    y_preds_eval = []\n",
    "    \n",
    "    # loop\n",
    "    for i in range(0, len(x_eval)):        \n",
    "        \n",
    "        # fetch training point\n",
    "        x = x_eval[i]\n",
    "        y = y_eval[i]\n",
    "        \n",
    "        X[0] = x\n",
    "        \n",
    "        # forward propagation\n",
    "        forward(X, w_h, w_o)\n",
    "        y_pred = X[2][0]\n",
    "        y_preds_eval.append(y_pred)\n",
    "        \n",
    "        # store evaluation error\n",
    "        eval_error_acum += error(y, y_pred)\n",
    "    \n",
    "    # store training performance\n",
    "    eval_pcc = pearsonr(y_eval, np.asarray(y_preds_eval))[0]\n",
    "    eval_perf.append(eval_pcc)\n",
    "    \n",
    "    # store mean evaluation error\n",
    "    mean_eval_error = eval_error_acum/len(x_eval)\n",
    "    eval_error.append(mean_eval_error)\n",
    "    \n",
    "    # early stopping\n",
    "    if early_stopping:\n",
    "        \n",
    "        if mean_eval_error < best_error:\n",
    "            \n",
    "            best_error = mean_eval_error\n",
    "            best_pcc = eval_pcc\n",
    "            \n",
    "            print(\"# Dump network\", e, \"Best MSE\", best_error, \"PCC\", eval_pcc)\n",
    "            \n",
    "            save_network(synfile_name, w_h, w_o, train_pcc, mean_train_error, best_pcc, best_error, e)         \n",
    "            \n",
    "    \n",
    "    # print\n",
    "    print([e,epochs], \\\n",
    "          \"Train Error:\", round(mean_train_error, 4), \"|\", \\\n",
    "          \"Train Perf:\", round(train_pcc, 4), \"|\", \\\n",
    "          \"Eval Error:\", round(mean_eval_error, 4), \"|\", \\\n",
    "          \"Eval Perf:\", round(eval_pcc, 4))\n"
   ]
  },
  {
   "cell_type": "markdown",
   "metadata": {
    "colab_type": "text",
    "id": "A1q_7Jo9725c"
   },
   "source": [
    "### Performance Report"
   ]
  },
  {
   "cell_type": "code",
   "execution_count": 67,
   "metadata": {
    "colab": {
     "base_uri": "https://localhost:8080/",
     "height": 329
    },
    "colab_type": "code",
    "id": "ZDA4O42q4YRW",
    "outputId": "4505d46c-cd06-4776-a804-cfcd7c18e327"
   },
   "outputs": [
    {
     "data": {
      "image/png": "[encoded data removed]",
      "text/plain": [
       "<Figure size 1050x350 with 2 Axes>"
      ]
     },
     "metadata": {},
     "output_type": "display_data"
    }
   ],
   "source": [
    "fig = plt.figure(figsize=(15, 5), dpi = 70)\n",
    "\n",
    "x = np.arange(0, epochs)\n",
    "\n",
    "# error subplot\n",
    "plt.subplot(1, 2, 1)\n",
    "plt.plot(x, train_error, label=\"Training Set\")\n",
    "plt.plot(x, eval_error, label=\"Evaluation Set\")\n",
    "plt.ylabel(\"Error\", fontsize=10);\n",
    "plt.xlabel(\"Epochs\", fontsize=10);\n",
    "plt.legend(loc='upper right');\n",
    "\n",
    "# performance subplot\n",
    "plt.subplot(1, 2, 2)\n",
    "plt.plot(x, train_perf, label=\"Training Set\")\n",
    "plt.plot(x, eval_perf, label=\"Evaluation Set\")\n",
    "plt.ylabel(\"Performance (PCC)\", fontsize=10);\n",
    "plt.xlabel(\"Epochs\", fontsize=10);\n",
    "plt.legend(loc='lower left');"
   ]
  },
  {
   "cell_type": "code",
   "execution_count": null,
   "metadata": {},
   "outputs": [],
   "source": []
  }
 ],
 "metadata": {
  "colab": {
   "collapsed_sections": [],
   "name": "neural_networks_v8_MN.ipynb",
   "provenance": [],
   "version": "0.3.2"
  },
  "kernelspec": {
   "display_name": "Python 3 (ipykernel)",
   "language": "python",
   "name": "python3"
  },
  "language_info": {
   "codemirror_mode": {
    "name": "ipython",
    "version": 3
   },
   "file_extension": ".py",
   "mimetype": "text/x-python",
   "name": "python",
   "nbconvert_exporter": "python",
   "pygments_lexer": "ipython3",
   "version": "3.9.13"
  }
 },
 "nbformat": 4,
 "nbformat_minor": 1
}
