{
 "cells": [
  {
   "cell_type": "markdown",
   "metadata": {
    "colab_type": "text",
    "id": "jLu9x39KcRJK"
   },
   "source": [
    "## Description\n",
    "\n",
    "Weight Matrix construction including pseudo counts and sequence weighting\n",
    "\n",
    "Some parts of the code have been blanked out. Fill out these places to make the code run. "
   ]
  },
  {
   "cell_type": "markdown",
   "metadata": {
    "colab_type": "text",
    "id": "AbbJIV3vjOkr"
   },
   "source": [
    "## Python Imports"
   ]
  },
  {
   "cell_type": "code",
   "execution_count": 125,
   "metadata": {
    "colab": {},
    "colab_type": "code",
    "id": "CDxrUH0BcRJO",
    "scrolled": true
   },
   "outputs": [],
   "source": [
    "import numpy as np\n",
    "import math\n",
    "import copy\n",
    "from pprint import pprint\n",
    "\n",
    "%matplotlib inline"
   ]
  },
  {
   "cell_type": "markdown",
   "metadata": {},
   "source": [
    "## DEFINE THE PATH TO YOUR COURSE DATA DIRECTORY"
   ]
  },
  {
   "cell_type": "code",
   "execution_count": 126,
   "metadata": {},
   "outputs": [],
   "source": [
    "data_dir = \"../../data/\""
   ]
  },
  {
   "cell_type": "markdown",
   "metadata": {},
   "source": [
    "## Define options for run"
   ]
  },
  {
   "cell_type": "code",
   "execution_count": 127,
   "metadata": {},
   "outputs": [],
   "source": [
    "sequence_weighting = False\n",
    "#sequence_weighting = False\n",
    "# define weight on pseudo count\n",
    "beta = 0"
   ]
  },
  {
   "cell_type": "markdown",
   "metadata": {
    "colab_type": "text",
    "id": "4CGKCRZXcRJS"
   },
   "source": [
    "## Data Imports"
   ]
  },
  {
   "cell_type": "markdown",
   "metadata": {
    "colab_type": "text",
    "id": "YWWVrPdqjaek"
   },
   "source": [
    "### Load Alphabet"
   ]
  },
  {
   "cell_type": "code",
   "execution_count": 128,
   "metadata": {
    "colab": {
     "base_uri": "https://localhost:8080/",
     "height": 51
    },
    "colab_type": "code",
    "id": "ITWBSDjQsREN",
    "outputId": "e15aae54-5292-4789-c275-686f62a39590"
   },
   "outputs": [
    {
     "name": "stdout",
     "output_type": "stream",
     "text": [
      "['A' 'R' 'N' 'D' 'C' 'Q' 'E' 'G' 'H' 'I' 'L' 'K' 'M' 'F' 'P' 'S' 'T' 'W'\n",
      " 'Y' 'V']\n",
      "20\n"
     ]
    }
   ],
   "source": [
    "alphabet_file = data_dir + \"Matrices/alphabet\"\n",
    "\n",
    "alphabet = np.loadtxt(alphabet_file, dtype=str)\n",
    "\n",
    "print (alphabet)\n",
    "print (len(alphabet))"
   ]
  },
  {
   "cell_type": "markdown",
   "metadata": {
    "colab_type": "text",
    "id": "Fn9xwlm5cRJW"
   },
   "source": [
    "### Load Background Frequencies"
   ]
  },
  {
   "cell_type": "code",
   "execution_count": 129,
   "metadata": {
    "colab": {
     "base_uri": "https://localhost:8080/",
     "height": 357
    },
    "colab_type": "code",
    "id": "ZZ4w2dzPs7K0",
    "outputId": "5217b5c1-e1c8-430a-9b3e-81734061d4fa"
   },
   "outputs": [
    {
     "data": {
      "text/plain": [
       "{'A': 0.074,\n",
       " 'R': 0.052,\n",
       " 'N': 0.045,\n",
       " 'D': 0.054,\n",
       " 'C': 0.025,\n",
       " 'Q': 0.034,\n",
       " 'E': 0.054,\n",
       " 'G': 0.074,\n",
       " 'H': 0.026,\n",
       " 'I': 0.068,\n",
       " 'L': 0.099,\n",
       " 'K': 0.058,\n",
       " 'M': 0.025,\n",
       " 'F': 0.047,\n",
       " 'P': 0.039,\n",
       " 'S': 0.057,\n",
       " 'T': 0.051,\n",
       " 'W': 0.013,\n",
       " 'Y': 0.032,\n",
       " 'V': 0.073}"
      ]
     },
     "execution_count": 129,
     "metadata": {},
     "output_type": "execute_result"
    }
   ],
   "source": [
    "bg_file = data_dir + \"Matrices/bg.freq.fmt\"\n",
    "_bg = np.loadtxt(bg_file, dtype=float)\n",
    "\n",
    "bg = {}\n",
    "for i in range(0, len(alphabet)):\n",
    "    bg[alphabet[i]] = _bg[i]\n",
    "\n",
    "bg"
   ]
  },
  {
   "cell_type": "markdown",
   "metadata": {
    "colab_type": "text",
    "id": "RfWZ3wLJcRJa"
   },
   "source": [
    "### Load Blosum62 Matrix\n"
   ]
  },
  {
   "cell_type": "code",
   "execution_count": 130,
   "metadata": {
    "colab": {
     "base_uri": "https://localhost:8080/",
     "height": 6817
    },
    "colab_type": "code",
    "id": "imL8-62R64e6",
    "outputId": "e9904af5-6c7f-4349-fea2-022521eea850"
   },
   "outputs": [
    {
     "data": {
      "text/plain": [
       "{'A': {'A': 0.2901,\n",
       "  'R': 0.0446,\n",
       "  'N': 0.0427,\n",
       "  'D': 0.041,\n",
       "  'C': 0.065,\n",
       "  'Q': 0.0559,\n",
       "  'E': 0.0552,\n",
       "  'G': 0.0783,\n",
       "  'H': 0.042,\n",
       "  'I': 0.0471,\n",
       "  'L': 0.0445,\n",
       "  'K': 0.057,\n",
       "  'M': 0.0522,\n",
       "  'F': 0.0338,\n",
       "  'P': 0.0568,\n",
       "  'S': 0.1099,\n",
       "  'T': 0.073,\n",
       "  'W': 0.0303,\n",
       "  'Y': 0.0405,\n",
       "  'V': 0.07},\n",
       " 'R': {'A': 0.031,\n",
       "  'R': 0.345,\n",
       "  'N': 0.0449,\n",
       "  'D': 0.0299,\n",
       "  'C': 0.0163,\n",
       "  'Q': 0.0735,\n",
       "  'E': 0.0497,\n",
       "  'G': 0.0229,\n",
       "  'H': 0.0458,\n",
       "  'I': 0.0177,\n",
       "  'L': 0.0243,\n",
       "  'K': 0.1071,\n",
       "  'M': 0.0321,\n",
       "  'F': 0.019,\n",
       "  'P': 0.0258,\n",
       "  'S': 0.0401,\n",
       "  'T': 0.0355,\n",
       "  'W': 0.0227,\n",
       "  'Y': 0.028,\n",
       "  'V': 0.0219},\n",
       " 'N': {'A': 0.0256,\n",
       "  'R': 0.0388,\n",
       "  'N': 0.3169,\n",
       "  'D': 0.069,\n",
       "  'C': 0.0163,\n",
       "  'Q': 0.0441,\n",
       "  'E': 0.0405,\n",
       "  'G': 0.0391,\n",
       "  'H': 0.0534,\n",
       "  'I': 0.0147,\n",
       "  'L': 0.0142,\n",
       "  'K': 0.0415,\n",
       "  'M': 0.0201,\n",
       "  'F': 0.0169,\n",
       "  'P': 0.0233,\n",
       "  'S': 0.0541,\n",
       "  'T': 0.0434,\n",
       "  'W': 0.0152,\n",
       "  'Y': 0.0218,\n",
       "  'V': 0.0165},\n",
       " 'D': {'A': 0.0297,\n",
       "  'R': 0.031,\n",
       "  'N': 0.0831,\n",
       "  'D': 0.3974,\n",
       "  'C': 0.0163,\n",
       "  'Q': 0.0471,\n",
       "  'E': 0.0902,\n",
       "  'G': 0.0337,\n",
       "  'H': 0.0382,\n",
       "  'I': 0.0177,\n",
       "  'L': 0.0152,\n",
       "  'K': 0.0415,\n",
       "  'M': 0.0201,\n",
       "  'F': 0.0169,\n",
       "  'P': 0.031,\n",
       "  'S': 0.0489,\n",
       "  'T': 0.0375,\n",
       "  'W': 0.0152,\n",
       "  'Y': 0.0187,\n",
       "  'V': 0.0178},\n",
       " 'C': {'A': 0.0216,\n",
       "  'R': 0.0078,\n",
       "  'N': 0.009,\n",
       "  'D': 0.0075,\n",
       "  'C': 0.4837,\n",
       "  'Q': 0.0088,\n",
       "  'E': 0.0074,\n",
       "  'G': 0.0108,\n",
       "  'H': 0.0076,\n",
       "  'I': 0.0162,\n",
       "  'L': 0.0162,\n",
       "  'K': 0.0086,\n",
       "  'M': 0.0161,\n",
       "  'F': 0.0106,\n",
       "  'P': 0.0103,\n",
       "  'S': 0.0175,\n",
       "  'T': 0.0178,\n",
       "  'W': 0.0076,\n",
       "  'Y': 0.0093,\n",
       "  'V': 0.0192},\n",
       " 'Q': {'A': 0.0256,\n",
       "  'R': 0.0484,\n",
       "  'N': 0.0337,\n",
       "  'D': 0.0299,\n",
       "  'C': 0.0122,\n",
       "  'Q': 0.2147,\n",
       "  'E': 0.0645,\n",
       "  'G': 0.0189,\n",
       "  'H': 0.0382,\n",
       "  'I': 0.0133,\n",
       "  'L': 0.0162,\n",
       "  'K': 0.0535,\n",
       "  'M': 0.0281,\n",
       "  'F': 0.0106,\n",
       "  'P': 0.0207,\n",
       "  'S': 0.0332,\n",
       "  'T': 0.0276,\n",
       "  'W': 0.0152,\n",
       "  'Y': 0.0218,\n",
       "  'V': 0.0165},\n",
       " 'E': {'A': 0.0405,\n",
       "  'R': 0.0523,\n",
       "  'N': 0.0494,\n",
       "  'D': 0.0914,\n",
       "  'C': 0.0163,\n",
       "  'Q': 0.1029,\n",
       "  'E': 0.2965,\n",
       "  'G': 0.0256,\n",
       "  'H': 0.0534,\n",
       "  'I': 0.0177,\n",
       "  'L': 0.0202,\n",
       "  'K': 0.0708,\n",
       "  'M': 0.0281,\n",
       "  'F': 0.019,\n",
       "  'P': 0.0362,\n",
       "  'S': 0.0524,\n",
       "  'T': 0.0394,\n",
       "  'W': 0.0227,\n",
       "  'Y': 0.028,\n",
       "  'V': 0.0233},\n",
       " 'G': {'A': 0.0783,\n",
       "  'R': 0.0329,\n",
       "  'N': 0.0652,\n",
       "  'D': 0.0466,\n",
       "  'C': 0.0325,\n",
       "  'Q': 0.0412,\n",
       "  'E': 0.035,\n",
       "  'G': 0.5101,\n",
       "  'H': 0.0382,\n",
       "  'I': 0.0206,\n",
       "  'L': 0.0213,\n",
       "  'K': 0.0432,\n",
       "  'M': 0.0281,\n",
       "  'F': 0.0254,\n",
       "  'P': 0.0362,\n",
       "  'S': 0.0663,\n",
       "  'T': 0.0434,\n",
       "  'W': 0.0303,\n",
       "  'Y': 0.0249,\n",
       "  'V': 0.0247},\n",
       " 'H': {'A': 0.0148,\n",
       "  'R': 0.0233,\n",
       "  'N': 0.0315,\n",
       "  'D': 0.0187,\n",
       "  'C': 0.0081,\n",
       "  'Q': 0.0294,\n",
       "  'E': 0.0258,\n",
       "  'G': 0.0135,\n",
       "  'H': 0.355,\n",
       "  'I': 0.0088,\n",
       "  'L': 0.0101,\n",
       "  'K': 0.0207,\n",
       "  'M': 0.0161,\n",
       "  'F': 0.0169,\n",
       "  'P': 0.0129,\n",
       "  'S': 0.0192,\n",
       "  'T': 0.0138,\n",
       "  'W': 0.0152,\n",
       "  'Y': 0.0467,\n",
       "  'V': 0.0082},\n",
       " 'I': {'A': 0.0432,\n",
       "  'R': 0.0233,\n",
       "  'N': 0.0225,\n",
       "  'D': 0.0224,\n",
       "  'C': 0.0447,\n",
       "  'Q': 0.0265,\n",
       "  'E': 0.0221,\n",
       "  'G': 0.0189,\n",
       "  'H': 0.0229,\n",
       "  'I': 0.271,\n",
       "  'L': 0.1154,\n",
       "  'K': 0.0276,\n",
       "  'M': 0.1004,\n",
       "  'F': 0.0634,\n",
       "  'P': 0.0258,\n",
       "  'S': 0.0297,\n",
       "  'T': 0.0533,\n",
       "  'W': 0.0303,\n",
       "  'Y': 0.0436,\n",
       "  'V': 0.1646},\n",
       " 'L': {'A': 0.0594,\n",
       "  'R': 0.0465,\n",
       "  'N': 0.0315,\n",
       "  'D': 0.028,\n",
       "  'C': 0.065,\n",
       "  'Q': 0.0471,\n",
       "  'E': 0.0368,\n",
       "  'G': 0.0283,\n",
       "  'H': 0.0382,\n",
       "  'I': 0.1679,\n",
       "  'L': 0.3755,\n",
       "  'K': 0.0432,\n",
       "  'M': 0.1968,\n",
       "  'F': 0.1142,\n",
       "  'P': 0.0362,\n",
       "  'S': 0.0419,\n",
       "  'T': 0.0651,\n",
       "  'W': 0.053,\n",
       "  'Y': 0.0685,\n",
       "  'V': 0.1303},\n",
       " 'K': {'A': 0.0445,\n",
       "  'R': 0.1202,\n",
       "  'N': 0.0539,\n",
       "  'D': 0.0448,\n",
       "  'C': 0.0203,\n",
       "  'Q': 0.0912,\n",
       "  'E': 0.0755,\n",
       "  'G': 0.0337,\n",
       "  'H': 0.0458,\n",
       "  'I': 0.0236,\n",
       "  'L': 0.0253,\n",
       "  'K': 0.2781,\n",
       "  'M': 0.0361,\n",
       "  'F': 0.019,\n",
       "  'P': 0.0413,\n",
       "  'S': 0.0541,\n",
       "  'T': 0.0454,\n",
       "  'W': 0.0227,\n",
       "  'Y': 0.0312,\n",
       "  'V': 0.0261},\n",
       " 'M': {'A': 0.0175,\n",
       "  'R': 0.0155,\n",
       "  'N': 0.0112,\n",
       "  'D': 0.0093,\n",
       "  'C': 0.0163,\n",
       "  'Q': 0.0206,\n",
       "  'E': 0.0129,\n",
       "  'G': 0.0094,\n",
       "  'H': 0.0153,\n",
       "  'I': 0.0368,\n",
       "  'L': 0.0496,\n",
       "  'K': 0.0155,\n",
       "  'M': 0.1606,\n",
       "  'F': 0.0254,\n",
       "  'P': 0.0103,\n",
       "  'S': 0.0157,\n",
       "  'T': 0.0197,\n",
       "  'W': 0.0152,\n",
       "  'Y': 0.0187,\n",
       "  'V': 0.0316},\n",
       " 'F': {'A': 0.0216,\n",
       "  'R': 0.0174,\n",
       "  'N': 0.018,\n",
       "  'D': 0.0149,\n",
       "  'C': 0.0203,\n",
       "  'Q': 0.0147,\n",
       "  'E': 0.0166,\n",
       "  'G': 0.0162,\n",
       "  'H': 0.0305,\n",
       "  'I': 0.0442,\n",
       "  'L': 0.0547,\n",
       "  'K': 0.0155,\n",
       "  'M': 0.0482,\n",
       "  'F': 0.3869,\n",
       "  'P': 0.0129,\n",
       "  'S': 0.0209,\n",
       "  'T': 0.0237,\n",
       "  'W': 0.0606,\n",
       "  'Y': 0.1308,\n",
       "  'V': 0.0357},\n",
       " 'P': {'A': 0.0297,\n",
       "  'R': 0.0194,\n",
       "  'N': 0.0202,\n",
       "  'D': 0.0224,\n",
       "  'C': 0.0163,\n",
       "  'Q': 0.0235,\n",
       "  'E': 0.0258,\n",
       "  'G': 0.0189,\n",
       "  'H': 0.0191,\n",
       "  'I': 0.0147,\n",
       "  'L': 0.0142,\n",
       "  'K': 0.0276,\n",
       "  'M': 0.0161,\n",
       "  'F': 0.0106,\n",
       "  'P': 0.4935,\n",
       "  'S': 0.0297,\n",
       "  'T': 0.0276,\n",
       "  'W': 0.0076,\n",
       "  'Y': 0.0156,\n",
       "  'V': 0.0165},\n",
       " 'S': {'A': 0.085,\n",
       "  'R': 0.0446,\n",
       "  'N': 0.0697,\n",
       "  'D': 0.0522,\n",
       "  'C': 0.0407,\n",
       "  'Q': 0.0559,\n",
       "  'E': 0.0552,\n",
       "  'G': 0.0513,\n",
       "  'H': 0.042,\n",
       "  'I': 0.025,\n",
       "  'L': 0.0243,\n",
       "  'K': 0.0535,\n",
       "  'M': 0.0361,\n",
       "  'F': 0.0254,\n",
       "  'P': 0.0439,\n",
       "  'S': 0.2199,\n",
       "  'T': 0.0927,\n",
       "  'W': 0.0227,\n",
       "  'Y': 0.0312,\n",
       "  'V': 0.0329},\n",
       " 'T': {'A': 0.0499,\n",
       "  'R': 0.0349,\n",
       "  'N': 0.0494,\n",
       "  'D': 0.0354,\n",
       "  'C': 0.0366,\n",
       "  'Q': 0.0412,\n",
       "  'E': 0.0368,\n",
       "  'G': 0.0297,\n",
       "  'H': 0.0267,\n",
       "  'I': 0.0398,\n",
       "  'L': 0.0334,\n",
       "  'K': 0.0397,\n",
       "  'M': 0.0402,\n",
       "  'F': 0.0254,\n",
       "  'P': 0.0362,\n",
       "  'S': 0.082,\n",
       "  'T': 0.2465,\n",
       "  'W': 0.0227,\n",
       "  'Y': 0.028,\n",
       "  'V': 0.0494},\n",
       " 'W': {'A': 0.0054,\n",
       "  'R': 0.0058,\n",
       "  'N': 0.0045,\n",
       "  'D': 0.0037,\n",
       "  'C': 0.0041,\n",
       "  'Q': 0.0059,\n",
       "  'E': 0.0055,\n",
       "  'G': 0.0054,\n",
       "  'H': 0.0076,\n",
       "  'I': 0.0059,\n",
       "  'L': 0.0071,\n",
       "  'K': 0.0052,\n",
       "  'M': 0.008,\n",
       "  'F': 0.0169,\n",
       "  'P': 0.0026,\n",
       "  'S': 0.0052,\n",
       "  'T': 0.0059,\n",
       "  'W': 0.4924,\n",
       "  'Y': 0.028,\n",
       "  'V': 0.0055},\n",
       " 'Y': {'A': 0.0175,\n",
       "  'R': 0.0174,\n",
       "  'N': 0.0157,\n",
       "  'D': 0.0112,\n",
       "  'C': 0.0122,\n",
       "  'Q': 0.0206,\n",
       "  'E': 0.0166,\n",
       "  'G': 0.0108,\n",
       "  'H': 0.0573,\n",
       "  'I': 0.0206,\n",
       "  'L': 0.0223,\n",
       "  'K': 0.0173,\n",
       "  'M': 0.0241,\n",
       "  'F': 0.0888,\n",
       "  'P': 0.0129,\n",
       "  'S': 0.0175,\n",
       "  'T': 0.0178,\n",
       "  'W': 0.0682,\n",
       "  'Y': 0.3178,\n",
       "  'V': 0.0206},\n",
       " 'V': {'A': 0.0688,\n",
       "  'R': 0.031,\n",
       "  'N': 0.027,\n",
       "  'D': 0.0243,\n",
       "  'C': 0.0569,\n",
       "  'Q': 0.0353,\n",
       "  'E': 0.0313,\n",
       "  'G': 0.0243,\n",
       "  'H': 0.0229,\n",
       "  'I': 0.1767,\n",
       "  'L': 0.0962,\n",
       "  'K': 0.0328,\n",
       "  'M': 0.0924,\n",
       "  'F': 0.055,\n",
       "  'P': 0.031,\n",
       "  'S': 0.0419,\n",
       "  'T': 0.071,\n",
       "  'W': 0.0303,\n",
       "  'Y': 0.0467,\n",
       "  'V': 0.2689}}"
      ]
     },
     "execution_count": 130,
     "metadata": {},
     "output_type": "execute_result"
    }
   ],
   "source": [
    "blosum62_file = data_dir + \"Matrices/blosum62.freq_rownorm\"\n",
    "_blosum62 = np.loadtxt(blosum62_file, dtype=float).T\n",
    "\n",
    "blosum62 = {}\n",
    "\n",
    "for i, letter_1 in enumerate(alphabet):\n",
    "    \n",
    "    blosum62[letter_1] = {}\n",
    "\n",
    "    for j, letter_2 in enumerate(alphabet):\n",
    "        \n",
    "        blosum62[letter_1][letter_2] = _blosum62[i, j]\n",
    "\n",
    "blosum62"
   ]
  },
  {
   "cell_type": "markdown",
   "metadata": {
    "colab_type": "text",
    "id": "sxg0WgcwcRJe",
    "slideshow": {
     "slide_type": "subslide"
    }
   },
   "source": [
    "### Load Peptides"
   ]
  },
  {
   "cell_type": "code",
   "execution_count": 148,
   "metadata": {
    "colab": {
     "base_uri": "https://localhost:8080/",
     "height": 3910
    },
    "colab_type": "code",
    "id": "oWUr9qaw2L76",
    "outputId": "6bba7479-f49f-4586-e1bc-94450a6c72d8"
   },
   "outputs": [
    {
     "name": "stdout",
     "output_type": "stream",
     "text": [
      "['ALAKAAAAM']\n"
     ]
    },
    {
     "data": {
      "text/plain": [
       "9"
      ]
     },
     "execution_count": 148,
     "metadata": {},
     "output_type": "execute_result"
    }
   ],
   "source": [
    "peptides_file = data_dir + \"PSSM/A0201.single_lig\"\n",
    "#peptides_file = data_dir + \"PSSM/A0201.small_lig\"\n",
    "#peptides_file = data_dir + \"PSSM/A0201.large_lig\"\n",
    "\n",
    "peptides = np.loadtxt(peptides_file, dtype=str).tolist()\n",
    "\n",
    "if len(peptides[0]) == 1:\n",
    "    peptide_length = len(peptides)\n",
    "    peptides = [peptides]\n",
    "else:\n",
    "    peptide_length = len(peptides[0])\n",
    "\n",
    "for i in range(0, len(peptides)):\n",
    "    if len(peptides[i]) != peptide_length:\n",
    "        print(\"Error, peptides differ in length!\")\n",
    "        \n",
    "print(peptides)\n",
    "peptide_length"
   ]
  },
  {
   "cell_type": "markdown",
   "metadata": {
    "colab_type": "text",
    "id": "Eqvsa3PecRJi"
   },
   "source": [
    "## Initialize Matrix"
   ]
  },
  {
   "cell_type": "code",
   "execution_count": 132,
   "metadata": {
    "colab": {},
    "colab_type": "code",
    "id": "pYBGW8DBcRJj",
    "scrolled": true
   },
   "outputs": [],
   "source": [
    "def initialize_matrix(peptide_length, alphabet):\n",
    "\n",
    "    init_matrix = [0]*peptide_length\n",
    "\n",
    "    for i in range(0, peptide_length):\n",
    "\n",
    "        row = {}\n",
    "\n",
    "        for letter in alphabet: \n",
    "            row[letter] = 0.0\n",
    "\n",
    "        #fancy way:  row = dict( zip( alphabet, [0.0]*len(alphabet) ) )\n",
    "\n",
    "        init_matrix[i] = row\n",
    "        \n",
    "    return init_matrix"
   ]
  },
  {
   "cell_type": "markdown",
   "metadata": {
    "colab_type": "text",
    "id": "FxA_hk5Td1vq"
   },
   "source": [
    "## Amino Acid Count Matrix (c)"
   ]
  },
  {
   "cell_type": "code",
   "execution_count": 133,
   "metadata": {
    "colab": {
     "base_uri": "https://localhost:8080/",
     "height": 357
    },
    "colab_type": "code",
    "id": "X3M8aec0d72T",
    "outputId": "fcfaa925-46dd-4750-b37a-b3ef763825ac"
   },
   "outputs": [
    {
     "data": {
      "text/plain": [
       "6.0"
      ]
     },
     "execution_count": 133,
     "metadata": {},
     "output_type": "execute_result"
    }
   ],
   "source": [
    "c_matrix = initialize_matrix(peptide_length, alphabet)\n",
    "\n",
    "for position in range(0, peptide_length):\n",
    "        \n",
    "    for peptide in peptides:\n",
    "        \n",
    "        c_matrix[position][peptide[position]] += 1\n",
    "    \n",
    "#pprint(c_matrix)\n",
    "c_matrix[0][\"A\"]"
   ]
  },
  {
   "cell_type": "markdown",
   "metadata": {
    "colab_type": "text",
    "id": "PX5Y_J2Qee3j"
   },
   "source": [
    "## Sequence Weighting"
   ]
  },
  {
   "cell_type": "code",
   "execution_count": 134,
   "metadata": {
    "colab": {
     "base_uri": "https://localhost:8080/",
     "height": 3621
    },
    "colab_type": "code",
    "id": "f9u_lS41ek8r",
    "outputId": "e5213c76-a968-4b2a-84fc-47a70dc60992"
   },
   "outputs": [
    {
     "name": "stdout",
     "output_type": "stream",
     "text": [
      "'W:'\n",
      "{'ALAKAAAAM': 1,\n",
      " 'ALAKAAAAN': 1,\n",
      " 'ALAKAAAAR': 1,\n",
      " 'ALAKAAAAT': 1,\n",
      " 'ALAKAAAAV': 1,\n",
      " 'AVVPFIVSV': 1,\n",
      " 'GILGFVFTM': 1,\n",
      " 'GMNERPILT': 1,\n",
      " 'KLNEPVLLL': 1,\n",
      " 'TLNAWVKVV': 1}\n",
      "'Nseq:'\n",
      "10\n"
     ]
    }
   ],
   "source": [
    "# w = 1 / r * s\n",
    "# where \n",
    "# r = number of different amino acids in column\n",
    "# s = number of occurrence of amino acid in column\n",
    "\n",
    "weights = {}\n",
    "\n",
    "for peptide in peptides:\n",
    "\n",
    "    # apply sequence weighting\n",
    "    if sequence_weighting:\n",
    "    \n",
    "        w = 0.0\n",
    "        neff = 0.0\n",
    "        \n",
    "        for position in range(0, peptide_length):\n",
    "\n",
    "            r = 0\n",
    "\n",
    "            for letter in alphabet:        \n",
    "\n",
    "                if c_matrix[position][letter] != 0:\n",
    "                    \n",
    "                    r += 1\n",
    "\n",
    "            s = c_matrix[position][peptide[position]]\n",
    "\n",
    "            w += 1.0/(r * s)\n",
    "\n",
    "            neff += r\n",
    "                \n",
    "        neff = neff / peptide_length\n",
    "  \n",
    "    # do not apply sequence weighting\n",
    "    else:\n",
    "        \n",
    "        w = 1  \n",
    "        \n",
    "        neff = len(peptides)  \n",
    "      \n",
    "\n",
    "    weights[peptide] = w\n",
    "\n",
    "pprint( \"W:\")\n",
    "pprint( weights )\n",
    "pprint( \"Nseq:\")\n",
    "pprint( neff )"
   ]
  },
  {
   "cell_type": "markdown",
   "metadata": {
    "colab_type": "text",
    "id": "zBYTl2afcRJn"
   },
   "source": [
    "## Observed Frequencies Matrix (f)"
   ]
  },
  {
   "cell_type": "code",
   "execution_count": 135,
   "metadata": {
    "colab": {
     "base_uri": "https://localhost:8080/",
     "height": 357
    },
    "colab_type": "code",
    "id": "VdxqZPp7cRJo",
    "outputId": "fb521705-3058-4bd2-b2f3-a67749336ef5",
    "scrolled": true
   },
   "outputs": [
    {
     "name": "stdout",
     "output_type": "stream",
     "text": [
      "{'A': 0.6,\n",
      " 'C': 0.0,\n",
      " 'D': 0.0,\n",
      " 'E': 0.0,\n",
      " 'F': 0.0,\n",
      " 'G': 0.2,\n",
      " 'H': 0.0,\n",
      " 'I': 0.0,\n",
      " 'K': 0.1,\n",
      " 'L': 0.0,\n",
      " 'M': 0.0,\n",
      " 'N': 0.0,\n",
      " 'P': 0.0,\n",
      " 'Q': 0.0,\n",
      " 'R': 0.0,\n",
      " 'S': 0.0,\n",
      " 'T': 0.1,\n",
      " 'V': 0.0,\n",
      " 'W': 0.0,\n",
      " 'Y': 0.0}\n"
     ]
    }
   ],
   "source": [
    "f_matrix = initialize_matrix(peptide_length, alphabet)\n",
    "\n",
    "for position in range(0, peptide_length):\n",
    "  \n",
    "    n = 0;\n",
    "  \n",
    "    for peptide in peptides:\n",
    "    \n",
    "        f_matrix[position][peptide[position]] += weights[peptide]\n",
    "    \n",
    "        n += weights[peptide]\n",
    "        \n",
    "    for letter in alphabet: \n",
    "        \n",
    "        f_matrix[position][letter] = f_matrix[position][letter]/n\n",
    "      \n",
    "pprint( f_matrix[0] )"
   ]
  },
  {
   "cell_type": "code",
   "execution_count": null,
   "metadata": {},
   "outputs": [],
   "source": []
  },
  {
   "cell_type": "markdown",
   "metadata": {
    "colab_type": "text",
    "id": "R-sDTNd_cRJs"
   },
   "source": [
    "## Pseudo Frequencies Matrix (g)\n",
    "\n",
    "Remember g(b) = sum f(a)* q(b|a), and blosum[a,b] = q(a|b)"
   ]
  },
  {
   "cell_type": "code",
   "execution_count": 136,
   "metadata": {
    "colab": {
     "base_uri": "https://localhost:8080/",
     "height": 357
    },
    "colab_type": "code",
    "id": "0YpK1a5NcRJt",
    "outputId": "45ed5be9-4f4c-47d9-912e-3eca15146c03",
    "scrolled": true
   },
   "outputs": [
    {
     "name": "stdout",
     "output_type": "stream",
     "text": [
      "{'A': 0.20272000000000004,\n",
      " 'C': 0.01776,\n",
      " 'D': 0.03246,\n",
      " 'E': 0.04044,\n",
      " 'F': 0.02012,\n",
      " 'G': 0.15766,\n",
      " 'H': 0.015030000000000002,\n",
      " 'I': 0.037790000000000004,\n",
      " 'K': 0.06579,\n",
      " 'L': 0.052129999999999996,\n",
      " 'M': 0.0159,\n",
      " 'N': 0.031670000000000004,\n",
      " 'P': 0.02712,\n",
      " 'Q': 0.027250000000000003,\n",
      " 'R': 0.03744,\n",
      " 'S': 0.07588,\n",
      " 'T': 0.0645,\n",
      " 'V': 0.05652,\n",
      " 'W': 0.00543,\n",
      " 'Y': 0.01617}\n"
     ]
    }
   ],
   "source": [
    "g_matrix = initialize_matrix(peptide_length, alphabet)\n",
    "\n",
    "for position in range(0, peptide_length):\n",
    "\n",
    "    for letter_1 in alphabet:\n",
    "        for letter_2 in alphabet:\n",
    "        \n",
    "          g_matrix[position][letter_1] += f_matrix[position][letter_2] * blosum62[letter_1][letter_2]\n",
    "\n",
    "pprint(g_matrix[0])"
   ]
  },
  {
   "cell_type": "markdown",
   "metadata": {
    "colab_type": "text",
    "id": "Uanyx-9JcRJz"
   },
   "source": [
    "## Combined Frequencies Matrix (p)"
   ]
  },
  {
   "attachments": {
    "image.png": {
     "image/png": "[encoded data removed]"
    }
   },
   "cell_type": "markdown",
   "metadata": {},
   "source": [
    "![image.png](attachment:image.png)"
   ]
  },
  {
   "cell_type": "code",
   "execution_count": 137,
   "metadata": {
    "colab": {
     "base_uri": "https://localhost:8080/",
     "height": 357
    },
    "colab_type": "code",
    "id": "RTvGdzfvcRJ0",
    "outputId": "0e9f3dd8-acde-4804-e5d3-158a0af34543",
    "scrolled": true
   },
   "outputs": [
    {
     "name": "stdout",
     "output_type": "stream",
     "text": [
      "{'A': 0.6,\n",
      " 'C': 0.0,\n",
      " 'D': 0.0,\n",
      " 'E': 0.0,\n",
      " 'F': 0.0,\n",
      " 'G': 0.2,\n",
      " 'H': 0.0,\n",
      " 'I': 0.0,\n",
      " 'K': 0.1,\n",
      " 'L': 0.0,\n",
      " 'M': 0.0,\n",
      " 'N': 0.0,\n",
      " 'P': 0.0,\n",
      " 'Q': 0.0,\n",
      " 'R': 0.0,\n",
      " 'S': 0.0,\n",
      " 'T': 0.1,\n",
      " 'V': 0.0,\n",
      " 'W': 0.0,\n",
      " 'Y': 0.0}\n"
     ]
    }
   ],
   "source": [
    "p_matrix = initialize_matrix(peptide_length, alphabet)\n",
    "\n",
    "alpha = neff - 1\n",
    "\n",
    "for position in range(0, peptide_length):\n",
    "\n",
    "    for a in alphabet:\n",
    "        p_matrix[position][a] = (alpha * f_matrix[position][a] + beta * g_matrix[position][a])/(alpha + beta)\n",
    "\n",
    "pprint(p_matrix[0])"
   ]
  },
  {
   "cell_type": "markdown",
   "metadata": {
    "colab_type": "text",
    "id": "oHpKnFRecRJ4"
   },
   "source": [
    "## Log Odds Weight Matrix (w)"
   ]
  },
  {
   "cell_type": "code",
   "execution_count": 138,
   "metadata": {
    "colab": {
     "base_uri": "https://localhost:8080/",
     "height": 357
    },
    "colab_type": "code",
    "id": "AL9Zb61JcRJ5",
    "outputId": "c88fea02-32db-4c11-a52d-549610caa917",
    "scrolled": true
   },
   "outputs": [
    {
     "name": "stdout",
     "output_type": "stream",
     "text": [
      "{'A': 6.038730649733862,\n",
      " 'C': -999.9,\n",
      " 'D': -999.9,\n",
      " 'E': -999.9,\n",
      " 'F': -999.9,\n",
      " 'G': 2.8688056482915503,\n",
      " 'H': -999.9,\n",
      " 'I': -999.9,\n",
      " 'K': 1.5717503892943054,\n",
      " 'L': -999.9,\n",
      " 'M': -999.9,\n",
      " 'N': -999.9,\n",
      " 'P': -999.9,\n",
      " 'Q': -999.9,\n",
      " 'R': -999.9,\n",
      " 'S': -999.9,\n",
      " 'T': 1.9428616956064584,\n",
      " 'V': -999.9,\n",
      " 'W': -999.9,\n",
      " 'Y': -999.9}\n"
     ]
    }
   ],
   "source": [
    "w_matrix = initialize_matrix(peptide_length, alphabet)\n",
    "\n",
    "for position in range(0, peptide_length):\n",
    "    \n",
    "    for letter in alphabet:\n",
    "        if p_matrix[position][letter] > 0:\n",
    "            w_matrix[position][letter] = 2 * math.log(p_matrix[position][letter]/bg[letter])/math.log(2)\n",
    "        else:\n",
    "            w_matrix[position][letter] = -999.9\n",
    "\n",
    "pprint(w_matrix[0])"
   ]
  },
  {
   "cell_type": "markdown",
   "metadata": {
    "colab_type": "text",
    "id": "It2omxrc3vOc"
   },
   "source": [
    "### Write Matrix to PSI-BLAST format"
   ]
  },
  {
   "cell_type": "code",
   "execution_count": 139,
   "metadata": {
    "colab": {},
    "colab_type": "code",
    "id": "s7aDTBf6cRKC"
   },
   "outputs": [],
   "source": [
    "def to_psi_blast(matrix):\n",
    "\n",
    "    header = [\"\", \"A\", \"R\", \"N\", \"D\", \"C\", \"Q\", \"E\", \"G\", \"H\", \"I\", \"L\", \"K\", \"M\", \"F\", \"P\", \"S\", \"T\", \"W\", \"Y\", \"V\"]\n",
    "\n",
    "    print ('{:>4} {:>8} {:>8} {:>8} {:>8} {:>8} {:>8} {:>8} {:>8} {:>8} {:>8} {:>8} {:>8} {:>8} {:>8} {:>8} {:>8} {:>8} {:>8} {:>8} {:>8}'.format(*header)) \n",
    "\n",
    "    letter_order = [\"A\", \"R\", \"N\", \"D\", \"C\", \"Q\", \"E\", \"G\", \"H\", \"I\", \"L\", \"K\", \"M\", \"F\", \"P\", \"S\", \"T\", \"W\", \"Y\", \"V\"]\n",
    "\n",
    "    for i, row in enumerate(matrix):\n",
    "\n",
    "        scores = []\n",
    "\n",
    "        scores.append(str(i+1) + \" A\")\n",
    "\n",
    "        for letter in letter_order:\n",
    "\n",
    "            score = row[letter]\n",
    "\n",
    "            scores.append(round(score, 4))\n",
    "\n",
    "        print('{:>4} {:>8} {:>8} {:>8} {:>8} {:>8} {:>8} {:>8} {:>8} {:>8} {:>8} {:>8} {:>8} {:>8} {:>8} {:>8} {:>8} {:>8} {:>8} {:>8} {:>8}'.format(*scores)) "
   ]
  },
  {
   "cell_type": "markdown",
   "metadata": {},
   "source": [
    "### convert w_matrix to PSI-BLAST format and print to file"
   ]
  },
  {
   "cell_type": "code",
   "execution_count": 140,
   "metadata": {},
   "outputs": [],
   "source": [
    "def to_psi_blast_file(matrix, file_name):\n",
    "    \n",
    "    with open(file_name, 'w') as file:\n",
    "\n",
    "        header = [\"\", \"A\", \"R\", \"N\", \"D\", \"C\", \"Q\", \"E\", \"G\", \"H\", \"I\", \"L\", \"K\", \"M\", \"F\", \"P\", \"S\", \"T\", \"W\", \"Y\", \"V\"]\n",
    "\n",
    "        file.write ('{:>4} {:>8} {:>8} {:>8} {:>8} {:>8} {:>8} {:>8} {:>8} {:>8} {:>8} {:>8} {:>8} {:>8} {:>8} {:>8} {:>8} {:>8} {:>8} {:>8} {:>8}\\n'.format(*header)) \n",
    "\n",
    "        letter_order = [\"A\", \"R\", \"N\", \"D\", \"C\", \"Q\", \"E\", \"G\", \"H\", \"I\", \"L\", \"K\", \"M\", \"F\", \"P\", \"S\", \"T\", \"W\", \"Y\", \"V\"]\n",
    "\n",
    "        for i, row in enumerate(matrix):\n",
    "\n",
    "            scores = []\n",
    "\n",
    "            scores.append(str(i+1) + \" A\")\n",
    "\n",
    "            for letter in letter_order:\n",
    "\n",
    "                score = row[letter]\n",
    "\n",
    "                scores.append(round(score, 4))\n",
    "\n",
    "            file.write('{:>4} {:>8} {:>8} {:>8} {:>8} {:>8} {:>8} {:>8} {:>8} {:>8} {:>8} {:>8} {:>8} {:>8} {:>8} {:>8} {:>8} {:>8} {:>8} {:>8} {:>8}\\n'.format(*scores)) "
   ]
  },
  {
   "cell_type": "markdown",
   "metadata": {
    "colab_type": "text",
    "id": "zcfN_JMVyZlq"
   },
   "source": [
    "### convert  w_matrix to PSI-BLAST format"
   ]
  },
  {
   "cell_type": "code",
   "execution_count": 141,
   "metadata": {
    "colab": {
     "base_uri": "https://localhost:8080/",
     "height": 187
    },
    "colab_type": "code",
    "id": "ujGbFiCgx7iO",
    "outputId": "4797b4f6-2ccd-4e49-b34c-a5a25d48bdaf"
   },
   "outputs": [
    {
     "name": "stdout",
     "output_type": "stream",
     "text": [
      "            A        R        N        D        C        Q        E        G        H        I        L        K        M        F        P        S        T        W        Y        V\n",
      " 1 A   6.0387   -999.9   -999.9   -999.9   -999.9   -999.9   -999.9   2.8688   -999.9   -999.9   -999.9   1.5718   -999.9   -999.9   -999.9   -999.9   1.9429   -999.9   -999.9   -999.9\n",
      " 2 A   -999.9   -999.9   -999.9   -999.9   -999.9   -999.9   -999.9   -999.9   -999.9   1.1128   5.6437   -999.9      4.0   -999.9   -999.9   -999.9   -999.9   -999.9   -999.9   0.9081\n",
      " 3 A   5.5127   -999.9   5.4739   -999.9   -999.9   -999.9   -999.9   -999.9   -999.9   -999.9    0.029   -999.9   -999.9   -999.9   -999.9   -999.9   -999.9   -999.9   -999.9   0.9081\n",
      " 4 A   0.8688   -999.9   -999.9   -999.9   -999.9   -999.9   3.7779   0.8688   -999.9   -999.9   -999.9   6.2156   -999.9   -999.9   2.7169   -999.9   -999.9   -999.9   -999.9   -999.9\n",
      " 5 A   5.5127   1.8868   -999.9   -999.9   -999.9   -999.9   -999.9   -999.9   -999.9   -999.9   -999.9   -999.9   -999.9   4.1785   2.7169   -999.9   -999.9   5.8868   -999.9   -999.9\n",
      " 6 A   5.5127   -999.9   -999.9   -999.9   -999.9   -999.9   -999.9   -999.9   -999.9   1.1128   -999.9   -999.9   -999.9   -999.9   2.7169   -999.9   -999.9   -999.9   -999.9    4.078\n",
      " 7 A   5.5127   -999.9   -999.9   -999.9   -999.9   -999.9   -999.9   -999.9   -999.9   1.1128    0.029   1.5718   -999.9   2.1785   -999.9   -999.9   -999.9   -999.9   -999.9   0.9081\n",
      " 8 A   5.5127   -999.9   -999.9   -999.9   -999.9   -999.9   -999.9   -999.9   -999.9   -999.9    2.029   -999.9   -999.9   -999.9   -999.9   1.6219   1.9429   -999.9   -999.9   0.9081\n",
      " 9 A   -999.9   1.8868    2.304   -999.9   -999.9   -999.9   -999.9   -999.9   -999.9   -999.9    0.029   -999.9      6.0   -999.9   -999.9   -999.9   3.9429   -999.9   -999.9    4.078\n"
     ]
    }
   ],
   "source": [
    "to_psi_blast(w_matrix)"
   ]
  },
  {
   "cell_type": "markdown",
   "metadata": {},
   "source": [
    "### convert w_matrix to PSI-BLAST format and print to file"
   ]
  },
  {
   "cell_type": "code",
   "execution_count": 142,
   "metadata": {},
   "outputs": [],
   "source": [
    "# Write out PSSM in Psi-Blast format to file\n",
    "file_name = \"w_matrix_test\"\n",
    "to_psi_blast_file(w_matrix, file_name)"
   ]
  },
  {
   "cell_type": "markdown",
   "metadata": {
    "colab_type": "text",
    "id": "Xuwll400Pjm5"
   },
   "source": [
    "## Evaluation"
   ]
  },
  {
   "cell_type": "code",
   "execution_count": 143,
   "metadata": {
    "colab": {
     "base_uri": "https://localhost:8080/",
     "height": 68
    },
    "colab_type": "code",
    "id": "OZBCLTBYPmMe",
    "outputId": "bfba3092-e311-4994-d1ef-0ad8b0349928"
   },
   "outputs": [
    {
     "data": {
      "text/plain": [
       "(array(['ILYQVPFSV', 'VVMGTLVAL', 'ILDEAYVMA', ..., 'FARGVVHVI',\n",
       "        'LQRELTRLQ', 'AVAEEMTKS'], dtype='<U9'),\n",
       " array([0.8532, 0.5891, 0.4941, ..., 0.    , 0.    , 0.    ]))"
      ]
     },
     "execution_count": 143,
     "metadata": {},
     "output_type": "execute_result"
    }
   ],
   "source": [
    "#evaluation_file = \"https://raw.githubusercontent.com/brunoalvarez89/data/master/algorithms_in_bioinformatics/part_2/A0201.eval\"\n",
    "evaluation_file = data_dir + \"PSSM/A0201.eval\"\n",
    "#evaluation_file = evaluation_upload.values()\n",
    "\n",
    "evaluation = np.loadtxt(evaluation_file, dtype=str).reshape(-1,2)\n",
    "evaluation_peptides = evaluation[:, 0]\n",
    "evaluation_targets = evaluation[:, 1].astype(float)\n",
    "\n",
    "evaluation_peptides, evaluation_targets"
   ]
  },
  {
   "cell_type": "code",
   "execution_count": 144,
   "metadata": {
    "colab": {},
    "colab_type": "code",
    "id": "Njta0t9wS5kO"
   },
   "outputs": [],
   "source": [
    "def score_peptide(peptide, matrix):\n",
    "    acum = 0\n",
    "    for i in range(0, len(peptide)):\n",
    "        acum += matrix[i][peptide[i]]\n",
    "    return acum"
   ]
  },
  {
   "cell_type": "code",
   "execution_count": 145,
   "metadata": {
    "colab": {},
    "colab_type": "code",
    "id": "YnAe6LkyS-Qe"
   },
   "outputs": [],
   "source": [
    "evaluation_predictions = []\n",
    "for evaluation_peptide in evaluation_peptides:\n",
    "    evaluation_predictions.append(score_peptide(evaluation_peptide, w_matrix))"
   ]
  },
  {
   "cell_type": "code",
   "execution_count": 146,
   "metadata": {
    "colab": {
     "base_uri": "https://localhost:8080/",
     "height": 286
    },
    "colab_type": "code",
    "id": "xeUULRXYVIX1",
    "outputId": "97bae152-0741-4ee6-9fdf-67059be33bbc"
   },
   "outputs": [
    {
     "name": "stdout",
     "output_type": "stream",
     "text": [
      "PCC:  0.35427920006019004\n"
     ]
    },
    {
     "data": {
      "image/png": "[encoded data removed]",
      "text/plain": [
       "<Figure size 640x480 with 1 Axes>"
      ]
     },
     "metadata": {},
     "output_type": "display_data"
    }
   ],
   "source": [
    "from scipy.stats import pearsonr\n",
    "import matplotlib.pyplot as plt\n",
    "\n",
    "pcc = pearsonr(evaluation_targets, evaluation_predictions)\n",
    "print(\"PCC: \", pcc[0])\n",
    "\n",
    "plt.scatter(evaluation_targets, evaluation_predictions);"
   ]
  },
  {
   "cell_type": "code",
   "execution_count": null,
   "metadata": {},
   "outputs": [],
   "source": []
  }
 ],
 "metadata": {
  "colab": {
   "collapsed_sections": [
    "oHpKnFRecRJ4",
    "It2omxrc3vOc",
    "YShNF4YPxtfn"
   ],
   "name": "pep2mat.ipynb",
   "provenance": [],
   "version": "0.3.2"
  },
  "kernelspec": {
   "display_name": "Python 3 (ipykernel)",
   "language": "python",
   "name": "python3"
  },
  "language_info": {
   "codemirror_mode": {
    "name": "ipython",
    "version": 3
   },
   "file_extension": ".py",
   "mimetype": "text/x-python",
   "name": "python",
   "nbconvert_exporter": "python",
   "pygments_lexer": "ipython3",
   "version": "3.9.13"
  }
 },
 "nbformat": 4,
 "nbformat_minor": 1
}
