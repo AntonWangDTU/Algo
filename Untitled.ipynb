{
 "cells": [
  {
   "cell_type": "code",
   "execution_count": 4,
   "id": "a78afcf9",
   "metadata": {},
   "outputs": [
    {
     "name": "stdout",
     "output_type": "stream",
     "text": [
      "0.8807970779778823\n"
     ]
    }
   ],
   "source": [
    "import numpy as np\n",
    "\n",
    "def sigmoid(x):\n",
    "    result = 1/(1+np.exp(-x))\n",
    "    return result\n",
    "\n",
    "H1and2 =sigmoid(2)\n",
    "print(H1and2)"
   ]
  },
  {
   "cell_type": "code",
   "execution_count": 5,
   "id": "dc534c29",
   "metadata": {},
   "outputs": [
    {
     "data": {
      "text/plain": [
       "0.5"
      ]
     },
     "execution_count": 5,
     "metadata": {},
     "output_type": "execute_result"
    }
   ],
   "source": [
    "sigmoid(0)"
   ]
  },
  {
   "cell_type": "code",
   "execution_count": 6,
   "id": "ee842297",
   "metadata": {},
   "outputs": [
    {
     "data": {
      "text/plain": [
       "0.1056"
      ]
     },
     "execution_count": 6,
     "metadata": {},
     "output_type": "execute_result"
    }
   ],
   "source": [
    "(1-0.88)*0.88"
   ]
  },
  {
   "cell_type": "code",
   "execution_count": 27,
   "id": "d8990b20",
   "metadata": {},
   "outputs": [
    {
     "name": "stdout",
     "output_type": "stream",
     "text": [
      "dEdW1, dEdW2: -1.0435496967652387 0.9752782463440847\n",
      "d_dEdV_11, d_dEdV_12, d_dEdV_21, d_dEdV_22: 0.99375 0.99375 -1.00625 1.00625\n"
     ]
    }
   ],
   "source": [
    "e = 0.5\n",
    "\n",
    "def g_m(x):\n",
    "    result = (1- sigmoid(x)) * sigmoid(x)\n",
    "    return result\n",
    "\n",
    "I1, I2 = 1, 1\n",
    "v_11, v_12, v_21, v_22 = 1, 1, -1, 1\n",
    "\n",
    "h1, h2 = 2, 0\n",
    "H1, H2 = sigmoid(h1), sigmoid(h2)\n",
    "o = -0.38\n",
    "O = 0.41\n",
    "t= 0\n",
    "\n",
    "dEdW1 = - 1 + (-e * (O - t) * g_m(o) * H1)\n",
    "dEdW2 = 1 + (-e * (O - t) * g_m(o) * H2)\n",
    "\n",
    "dEdV_11 = 0.1 * 1 * (0.5 - 0) * 0.25 * -1\n",
    "dEdV_12 = 0.1 * 1 * (0.5 - 0) * 0.25 * -1\n",
    "dEdV_21 = 0.1 * -1 * (0.5 - 0) * 0.25 * 1\n",
    "dEdV_22 = 0.1 * 1 * (0.5 - 0) * 0.25 * 1\n",
    "\n",
    "print(\"dEdW1, dEdW2:\", dEdW1,   dEdW2)\n",
    "print(\"d_dEdV_11, d_dEdV_12, d_dEdV_21, d_dEdV_22:\", 1 - (-e *dEdV_11), 1 - (-e * dEdV_12), -1 - (-e * dEdV_21), 1 -(-e * dEdV_22))"
   ]
  },
  {
   "cell_type": "code",
   "execution_count": 17,
   "id": "debebafa",
   "metadata": {},
   "outputs": [
    {
     "data": {
      "text/plain": [
       "0.4061268970658573"
      ]
     },
     "execution_count": 17,
     "metadata": {},
     "output_type": "execute_result"
    }
   ],
   "source": [
    "sigmoid(-0.38)"
   ]
  }
 ],
 "metadata": {
  "kernelspec": {
   "display_name": "Python 3 (ipykernel)",
   "language": "python",
   "name": "python3"
  },
  "language_info": {
   "codemirror_mode": {
    "name": "ipython",
    "version": 3
   },
   "file_extension": ".py",
   "mimetype": "text/x-python",
   "name": "python",
   "nbconvert_exporter": "python",
   "pygments_lexer": "ipython3",
   "version": "3.9.13"
  }
 },
 "nbformat": 4,
 "nbformat_minor": 5
}
