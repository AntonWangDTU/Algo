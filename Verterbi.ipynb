{
 "cells": [
  {
   "cell_type": "markdown",
   "id": "a5f57842",
   "metadata": {},
   "source": [
    "## 566 6"
   ]
  },
  {
   "cell_type": "code",
   "execution_count": 1,
   "id": "c44f3322",
   "metadata": {},
   "outputs": [
    {
     "data": {
      "text/plain": [
       "-4.28"
      ]
     },
     "execution_count": 1,
     "metadata": {},
     "output_type": "execute_result"
    }
   ],
   "source": [
    "#FL\n",
    "-0.3-1.3-2.68"
   ]
  },
  {
   "cell_type": "code",
   "execution_count": 2,
   "id": "df02c694",
   "metadata": {
    "scrolled": true
   },
   "outputs": [
    {
     "data": {
      "text/plain": [
       "-2.336"
      ]
     },
     "execution_count": 2,
     "metadata": {},
     "output_type": "execute_result"
    }
   ],
   "source": [
    "#LL\n",
    "-0.3-0.046-1.99"
   ]
  },
  {
   "cell_type": "markdown",
   "id": "b1cd1725",
   "metadata": {},
   "source": [
    "### 1"
   ]
  },
  {
   "cell_type": "code",
   "execution_count": 3,
   "id": "4c528f3a",
   "metadata": {},
   "outputs": [
    {
     "data": {
      "text/plain": [
       "-4.23"
      ]
     },
     "execution_count": 3,
     "metadata": {},
     "output_type": "execute_result"
    }
   ],
   "source": [
    "#LL\n",
    "-0.73-0.02-3.48"
   ]
  },
  {
   "cell_type": "code",
   "execution_count": 4,
   "id": "af16b7ea",
   "metadata": {},
   "outputs": [
    {
     "data": {
      "text/plain": [
       "-4.11"
      ]
     },
     "execution_count": 4,
     "metadata": {},
     "output_type": "execute_result"
    }
   ],
   "source": [
    "#LF\n",
    "-0.78-1-2.33"
   ]
  },
  {
   "cell_type": "markdown",
   "id": "1902f46c",
   "metadata": {},
   "source": [
    "### 1"
   ]
  },
  {
   "cell_type": "code",
   "execution_count": 5,
   "id": "f02041b8",
   "metadata": {},
   "outputs": [
    {
     "data": {
      "text/plain": [
       "-4.436"
      ]
     },
     "execution_count": 5,
     "metadata": {},
     "output_type": "execute_result"
    }
   ],
   "source": [
    "#LL\n",
    "-1-0.046-3.39"
   ]
  },
  {
   "cell_type": "code",
   "execution_count": 6,
   "id": "fe06719e",
   "metadata": {},
   "outputs": [
    {
     "data": {
      "text/plain": [
       "-6.41"
      ]
     },
     "execution_count": 6,
     "metadata": {},
     "output_type": "execute_result"
    }
   ],
   "source": [
    "#LF\n",
    "-1-1.3-4.11"
   ]
  },
  {
   "cell_type": "markdown",
   "id": "3e422078",
   "metadata": {},
   "source": [
    "### 2"
   ]
  },
  {
   "cell_type": "code",
   "execution_count": 7,
   "id": "6959ba04",
   "metadata": {
    "scrolled": true
   },
   "outputs": [
    {
     "data": {
      "text/plain": [
       "-5.72"
      ]
     },
     "execution_count": 7,
     "metadata": {},
     "output_type": "execute_result"
    }
   ],
   "source": [
    "#LL\n",
    "-0.78 - 0.02 - 4.92"
   ]
  },
  {
   "cell_type": "code",
   "execution_count": null,
   "id": "d0ba0f36",
   "metadata": {},
   "outputs": [],
   "source": [
    "#LF\n",
    "-0.78-"
   ]
  }
 ],
 "metadata": {
  "kernelspec": {
   "display_name": "Python 3 (ipykernel)",
   "language": "python",
   "name": "python3"
  },
  "language_info": {
   "codemirror_mode": {
    "name": "ipython",
    "version": 3
   },
   "file_extension": ".py",
   "mimetype": "text/x-python",
   "name": "python",
   "nbconvert_exporter": "python",
   "pygments_lexer": "ipython3",
   "version": "3.9.13"
  }
 },
 "nbformat": 4,
 "nbformat_minor": 5
}
